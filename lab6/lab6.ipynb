{
 "cells": [
  {
   "cell_type": "code",
   "execution_count": 469,
   "metadata": {
    "collapsed": true
   },
   "outputs": [],
   "source": [
    "from random import randrange"
   ]
  },
  {
   "cell_type": "code",
   "execution_count": 470,
   "outputs": [],
   "source": [
    "test_words = [\n",
    "    \"bbb$\",\n",
    "    \"aabbabd$\",\n",
    "    \"ababcd$\",\n",
    "    \"abaababaabaabaabab$\",\n",
    "    \"\".join([chr(randrange(97, 101)) for _ in range(100)])]\n",
    "\n",
    "with open(\"1997_714_head.txt\", \"r\", encoding='UTF-8') as f:\n",
    "    test_words.append(f.read())\n",
    "\n",
    "test_words[-1] = test_words[-1] + '$'\n",
    "test_words[-2] = test_words[-2] + '$'"
   ],
   "metadata": {
    "collapsed": false
   }
  },
  {
   "cell_type": "code",
   "execution_count": 471,
   "outputs": [],
   "source": [
    "def build_kmp_table(pattern):\n",
    "    m = len(pattern)\n",
    "    pi = [0 for _ in range(m)]\n",
    "    k = 0\n",
    "    for i in range(1, m):\n",
    "        while k > 0 and pattern[i] != pattern[k]:\n",
    "            k = pi[k-1]\n",
    "        if pattern[i] == pattern[k]:\n",
    "            k += 1\n",
    "        pi[i] = k\n",
    "    return pi\n",
    "\n",
    "def kmp(pattern, text):\n",
    "    m = len(pattern)\n",
    "    pi = build_kmp_table(pattern)\n",
    "    ans = []\n",
    "    i = 0\n",
    "    j = 0\n",
    "    while j < len(text):\n",
    "        while i > 0 and pattern[i] != text[j]:\n",
    "            i = pi[i - 1]\n",
    "        if pattern[i] == text[j]:\n",
    "            i += 1\n",
    "        if i == m:\n",
    "            ans.append(j)\n",
    "            i = pi[-1]\n",
    "        j += 1\n",
    "    return ans"
   ],
   "metadata": {
    "collapsed": false
   }
  },
  {
   "cell_type": "code",
   "execution_count": 472,
   "outputs": [],
   "source": [
    "from time import perf_counter\n",
    "\n",
    "def timeit(func):\n",
    "    def wrapper(*args, **kwargs):\n",
    "        t1 = perf_counter()\n",
    "        res = func(*args, **kwargs)\n",
    "        t2 = perf_counter()\n",
    "        return res, round(t2 - t1, 4)\n",
    "    return wrapper"
   ],
   "metadata": {
    "collapsed": false
   }
  },
  {
   "cell_type": "code",
   "execution_count": 473,
   "outputs": [],
   "source": [
    "from abc import ABC, abstractmethod\n",
    "\n",
    "class Tree(ABC):\n",
    "    def __init__(self, text):\n",
    "        self.text = text\n",
    "        self.root = None\n",
    "\n",
    "    @abstractmethod\n",
    "    def find_word(self, word):\n",
    "        pass\n",
    "\n",
    "    @abstractmethod\n",
    "    def initiate_trie(self, *args):\n",
    "        pass"
   ],
   "metadata": {
    "collapsed": false
   }
  },
  {
   "cell_type": "code",
   "execution_count": 474,
   "outputs": [],
   "source": [
    "class TrieNode:\n",
    "    def __init__(self, link=None):\n",
    "        self.edges = {}\n",
    "        self.suffix_link = link\n",
    "\n",
    "def add_word(root, word):\n",
    "    cur = root\n",
    "    for letter in word:\n",
    "        if letter not in cur.edges:\n",
    "            cur.edges[letter] = TrieNode()\n",
    "        cur = cur.edges[letter]\n",
    "\n",
    "@timeit\n",
    "def build_regular_trie(text):\n",
    "    root = TrieNode()\n",
    "    for i in range(len(text)):\n",
    "        add_word(root, text[i:])\n",
    "    return root\n",
    "\n",
    "\n",
    "def find_word_trie(root, word):\n",
    "    cur = root\n",
    "    for x in word:\n",
    "        if x not in cur.edges:\n",
    "            return False\n",
    "        cur = cur.edges[x]\n",
    "    return True\n",
    "\n",
    "class RegularTrie(Tree):\n",
    "    def find_word(self, word):\n",
    "        return find_word_trie(self.root, word)\n",
    "\n",
    "    def initiate_trie(self):\n",
    "        self.root, time = build_regular_trie(self.text)\n",
    "        return time"
   ],
   "metadata": {
    "collapsed": false
   }
  },
  {
   "cell_type": "code",
   "execution_count": 475,
   "outputs": [],
   "source": [
    "@timeit\n",
    "def build_linked_trie(text):\n",
    "    root = TrieNode()\n",
    "    deepest = root\n",
    "    for letter in text:\n",
    "        cur = deepest\n",
    "        prev = deepest = cur.edges[letter] = TrieNode(root)\n",
    "        cur = cur.suffix_link\n",
    "        while cur is not None:\n",
    "            if letter not in cur.edges:\n",
    "                cur.edges[letter] = TrieNode(root)\n",
    "            prev.suffix_link = cur.edges[letter]\n",
    "            prev = cur.edges[letter]\n",
    "            cur = cur.suffix_link\n",
    "    return root\n",
    "\n",
    "class LinkedTrie(Tree):\n",
    "    def find_word(self, word):\n",
    "        return find_word_trie(self.root, word)\n",
    "\n",
    "    def initiate_trie(self):\n",
    "        self.root, time = build_linked_trie(self.text)\n",
    "        return time"
   ],
   "metadata": {
    "collapsed": false
   }
  },
  {
   "cell_type": "code",
   "execution_count": 476,
   "outputs": [],
   "source": [
    "def test_correctness(text, TreeType):\n",
    "    tree = TreeType(text)\n",
    "    build_time = tree.initiate_trie()\n",
    "    print(f\"Text size: {len(text)}, Build time: {build_time}\")\n",
    "    for i in range(100):\n",
    "        left = randrange(len(text) - 1)\n",
    "        right = randrange(left + 1, len(text))\n",
    "        substring = text[left:right]\n",
    "        if i % 2:\n",
    "            m = len(substring) // 2\n",
    "            substring = substring[:m] + 'a' + substring[m:]\n",
    "        found = len(kmp(substring, text)) > 0\n",
    "        assert tree.find_word(substring) == found, \"Not OK\"\n",
    "    else:\n",
    "        print(\"Tests passed\\n\")"
   ],
   "metadata": {
    "collapsed": false
   }
  },
  {
   "cell_type": "code",
   "execution_count": 477,
   "outputs": [
    {
     "name": "stdout",
     "output_type": "stream",
     "text": [
      "Text size: 4, Build time: 0.0\n",
      "Tests passed\n",
      "\n",
      "Text size: 8, Build time: 0.0\n",
      "Tests passed\n",
      "\n",
      "Text size: 7, Build time: 0.0\n",
      "Tests passed\n",
      "\n",
      "Text size: 19, Build time: 0.0001\n",
      "Tests passed\n",
      "\n",
      "Text size: 101, Build time: 0.0035\n",
      "Tests passed\n",
      "\n",
      "Text size: 2482, Build time: 5.8144\n",
      "Tests passed\n",
      "\n"
     ]
    }
   ],
   "source": [
    "for t in test_words:\n",
    "    test_correctness(t, LinkedTrie)"
   ],
   "metadata": {
    "collapsed": false
   }
  },
  {
   "cell_type": "code",
   "execution_count": 478,
   "outputs": [
    {
     "name": "stdout",
     "output_type": "stream",
     "text": [
      "Text size: 4, Build time: 0.0\n",
      "Tests passed\n",
      "\n",
      "Text size: 8, Build time: 0.0\n",
      "Tests passed\n",
      "\n",
      "Text size: 7, Build time: 0.0\n",
      "Tests passed\n",
      "\n",
      "Text size: 19, Build time: 0.0001\n",
      "Tests passed\n",
      "\n",
      "Text size: 101, Build time: 0.0027\n",
      "Tests passed\n",
      "\n",
      "Text size: 2482, Build time: 5.4468\n",
      "Tests passed\n",
      "\n"
     ]
    }
   ],
   "source": [
    "for t in test_words:\n",
    "    test_correctness(t, RegularTrie)"
   ],
   "metadata": {
    "collapsed": false
   }
  },
  {
   "cell_type": "code",
   "execution_count": 547,
   "outputs": [],
   "source": [
    "class Node:\n",
    "        def __init__(self, begin, end, parent):\n",
    "            self.edges = dict()\n",
    "            self.begin = begin\n",
    "            self.end = end\n",
    "            self.parent = parent\n",
    "\n",
    "        def __len__(self) -> int:\n",
    "            return self.end - self.begin\n",
    "\n",
    "@timeit\n",
    "def ukkonen(string: str) -> 'Node':\n",
    "    def split(node: 'Node', position: int) -> 'Node':\n",
    "        if position == len(node):\n",
    "            return node\n",
    "        if position == 0:\n",
    "            return node.parent\n",
    "\n",
    "        new_node = Node(node.begin, node.begin + position, node.parent)\n",
    "        node.parent.edges[string[node.begin]] = new_node\n",
    "        new_node.edges[string[node.begin + position]] = node\n",
    "        node.parent = new_node\n",
    "        node.begin += position\n",
    "        return new_node\n",
    "\n",
    "    def suffix_link(node: 'Node') -> 'Node':\n",
    "        if node in suffix_links_table:\n",
    "            return suffix_links_table[node]\n",
    "\n",
    "        if node is root:\n",
    "            result = root\n",
    "        else:\n",
    "            link = suffix_link(node.parent)\n",
    "            result = split(*next_state(\n",
    "                link, len(link),\n",
    "                node.begin + (1 if node.parent is root else 0),\n",
    "                node.end\n",
    "            ))\n",
    "\n",
    "        suffix_links_table[node] = result\n",
    "        return result\n",
    "\n",
    "    def next_state(node: 'Node', position: int, begin: int, end: int):\n",
    "\n",
    "        while begin < end:\n",
    "            edge_length = len(node)\n",
    "            if position == edge_length:\n",
    "                if string[begin] in node.edges:\n",
    "                    node = node.edges[string[begin]]\n",
    "                    position = 0\n",
    "                else:\n",
    "                    return None, None\n",
    "            else:\n",
    "                if string[node.begin + position] != string[begin]:\n",
    "                    return None, None\n",
    "                if end - begin < edge_length- position:\n",
    "                    return node, position + end - begin\n",
    "\n",
    "                begin += edge_length - position\n",
    "                position = edge_length\n",
    "\n",
    "        return node, position\n",
    "\n",
    "    root = Node(0, 0, None)\n",
    "    suffix_links_table = dict()\n",
    "    node = root\n",
    "    pos = 0\n",
    "    for index, character in enumerate(string):\n",
    "        while True:\n",
    "            node_, position_ = next_state(node, pos, index, index + 1)\n",
    "            if node_ is not None:\n",
    "                node = node_\n",
    "                pos = position_\n",
    "                break\n",
    "\n",
    "            mid = split(node, pos)\n",
    "            leaf = Node(index, len(string), mid)\n",
    "            mid.edges[string[index]] = leaf\n",
    "\n",
    "            node = suffix_link(mid)\n",
    "            pos = len(node)\n",
    "\n",
    "            if mid is root:\n",
    "                break\n",
    "    return root\n",
    "\n",
    "def find_word(suffix_tree, word, pattern):\n",
    "    position = 0\n",
    "    node = suffix_tree\n",
    "    for character in pattern:\n",
    "        if position < node.end:\n",
    "            if character != word[position]:\n",
    "                return False\n",
    "            position += 1\n",
    "        else:\n",
    "            if character not in node.edges:\n",
    "                return False\n",
    "            node = node.edges[character]\n",
    "            position = node.begin + 1\n",
    "    return True\n",
    "\n",
    "\n",
    "class SuffixTree(Tree):\n",
    "    def find_word(self, word):\n",
    "        return find_word(self.root, self.text, word)\n",
    "\n",
    "    def initiate_trie(self):\n",
    "        self.root, time = ukkonen(self.text)\n",
    "        return time"
   ],
   "metadata": {
    "collapsed": false
   }
  },
  {
   "cell_type": "code",
   "execution_count": 548,
   "outputs": [],
   "source": [
    "example = \"abaababaabaabaabab$\"\n",
    "tree, _ = ukkonen(example)"
   ],
   "metadata": {
    "collapsed": false
   }
  },
  {
   "cell_type": "code",
   "execution_count": 549,
   "outputs": [
    {
     "data": {
      "text/plain": "True"
     },
     "execution_count": 549,
     "metadata": {},
     "output_type": "execute_result"
    }
   ],
   "source": [
    "find_word(tree, example, 'aabaabaab')"
   ],
   "metadata": {
    "collapsed": false
   }
  },
  {
   "cell_type": "code",
   "execution_count": 550,
   "outputs": [
    {
     "name": "stdout",
     "output_type": "stream",
     "text": [
      "Text size: 4, Build time: 0.0\n",
      "Tests passed\n",
      "\n",
      "Text size: 8, Build time: 0.0\n",
      "Tests passed\n",
      "\n",
      "Text size: 7, Build time: 0.0\n",
      "Tests passed\n",
      "\n",
      "Text size: 19, Build time: 0.0001\n",
      "Tests passed\n",
      "\n",
      "Text size: 101, Build time: 0.0004\n",
      "Tests passed\n",
      "\n",
      "Text size: 2482, Build time: 0.009\n",
      "Tests passed\n",
      "\n"
     ]
    }
   ],
   "source": [
    "for t in test_words:\n",
    "    test_correctness(t, SuffixTree)"
   ],
   "metadata": {
    "collapsed": false
   }
  },
  {
   "cell_type": "code",
   "execution_count": null,
   "outputs": [],
   "source": [],
   "metadata": {
    "collapsed": false
   }
  }
 ],
 "metadata": {
  "kernelspec": {
   "display_name": "Python 3",
   "language": "python",
   "name": "python3"
  },
  "language_info": {
   "codemirror_mode": {
    "name": "ipython",
    "version": 2
   },
   "file_extension": ".py",
   "mimetype": "text/x-python",
   "name": "python",
   "nbconvert_exporter": "python",
   "pygments_lexer": "ipython2",
   "version": "2.7.6"
  }
 },
 "nbformat": 4,
 "nbformat_minor": 0
}
