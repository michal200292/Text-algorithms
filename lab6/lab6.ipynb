{
 "cells": [
  {
   "cell_type": "markdown",
   "source": [
    "#### Rozwiązanie Lab 6"
   ],
   "metadata": {
    "collapsed": false
   }
  },
  {
   "cell_type": "code",
   "execution_count": 25,
   "outputs": [],
   "source": [
    "from random import randrange"
   ],
   "metadata": {
    "collapsed": false
   }
  },
  {
   "cell_type": "markdown",
   "metadata": {},
   "source": [
    "Zbiór danych wejściowych"
   ]
  },
  {
   "cell_type": "code",
   "execution_count": 2,
   "metadata": {},
   "outputs": [],
   "source": [
    "def generate_random_text(n):\n",
    "    return \"\".join([chr(randrange(97, 100)) for _ in range(n)]) + '$'\n",
    "\n",
    "test_words = [\n",
    "    \"bbb$\",\n",
    "    \"aabbabd$\",\n",
    "    \"ababcd$\",\n",
    "    \"abaababaabaabaabab$\",\n",
    "    generate_random_text(100)]\n",
    "\n",
    "with open(\"1997_714_head.txt\", \"r\", encoding='UTF-8') as f:\n",
    "    test_words.append(f.read())\n",
    "\n",
    "test_words[-1] = test_words[-1] + '$'"
   ]
  },
  {
   "cell_type": "markdown",
   "metadata": {},
   "source": [
    "Algorytm KMP wyszukiwania wzorca w tekście do sprawdzania poprawności zaimplementowanych struktur"
   ]
  },
  {
   "cell_type": "code",
   "execution_count": 3,
   "metadata": {},
   "outputs": [],
   "source": [
    "def build_kmp_table(pattern):\n",
    "    m = len(pattern)\n",
    "    pi = [0 for _ in range(m)]\n",
    "    k = 0\n",
    "    for i in range(1, m):\n",
    "        while k > 0 and pattern[i] != pattern[k]:\n",
    "            k = pi[k-1]\n",
    "        if pattern[i] == pattern[k]:\n",
    "            k += 1\n",
    "        pi[i] = k\n",
    "    return pi\n",
    "\n",
    "def kmp(pattern, text):\n",
    "    m = len(pattern)\n",
    "    pi = build_kmp_table(pattern)\n",
    "    ans = []\n",
    "    i = 0\n",
    "    j = 0\n",
    "    while j < len(text):\n",
    "        while i > 0 and pattern[i] != text[j]:\n",
    "            i = pi[i - 1]\n",
    "        if pattern[i] == text[j]:\n",
    "            i += 1\n",
    "        if i == m:\n",
    "            ans.append(j)\n",
    "            i = pi[-1]\n",
    "        j += 1\n",
    "    return ans"
   ]
  },
  {
   "cell_type": "markdown",
   "metadata": {},
   "source": [
    "Funkcja do obliczania czasu wykonywania procedur. Używam do mierzenia czasu konstrukcji drzew."
   ]
  },
  {
   "cell_type": "code",
   "execution_count": 4,
   "metadata": {},
   "outputs": [],
   "source": [
    "from time import perf_counter\n",
    "\n",
    "def timeit(func):\n",
    "    def wrapper(*args, **kwargs):\n",
    "        t1 = perf_counter()\n",
    "        res = func(*args, **kwargs)\n",
    "        t2 = perf_counter()\n",
    "        return res, round(t2 - t1, 4)\n",
    "    return wrapper"
   ]
  },
  {
   "cell_type": "markdown",
   "metadata": {},
   "source": [
    "Klasa abstrakcyjna opisująca drzewo. Zawiera metodę konstrukcji drzewa oraz znajdywania konkretnego wzorca"
   ]
  },
  {
   "cell_type": "code",
   "execution_count": 5,
   "metadata": {},
   "outputs": [],
   "source": [
    "from abc import ABC, abstractmethod\n",
    "\n",
    "class Tree(ABC):\n",
    "    def __init__(self, text):\n",
    "        self.text = text\n",
    "        self.root = None\n",
    "\n",
    "    @abstractmethod\n",
    "    def find_word(self, word):\n",
    "        pass\n",
    "\n",
    "    @abstractmethod\n",
    "    def initiate_trie(self, *args):\n",
    "        pass"
   ]
  },
  {
   "cell_type": "markdown",
   "metadata": {},
   "source": [
    "W każdym z drzew używam tej samej klasy do opisu węzłów. Wszystkie pola naraz są wykorzystywane jedynie w algorytmie Ukkonena.\n",
    "Węzły opisują jednocześnie krawędź, która do nich prowadzi. Atrybut begin oznacza początek fragmentu w oryginalnym tekście do którego odnosi się dana krawędź. Zamiast atrybutu wskazującego na koniec fragmentu, używam zmiennej length, która mówi jak długi jest dany fragment."
   ]
  },
  {
   "cell_type": "code",
   "execution_count": 6,
   "metadata": {},
   "outputs": [],
   "source": [
    "from math import inf\n",
    "from collections import defaultdict\n",
    "\n",
    "class Node:\n",
    "    def __init__(self, begin=0, length=inf, link=None):\n",
    "        self.begin = begin\n",
    "        self.length = length\n",
    "        self.edges = defaultdict(bool)\n",
    "        self.suffix = link"
   ]
  },
  {
   "cell_type": "markdown",
   "metadata": {},
   "source": [
    "Algorytm budowy trie sufiksów i algorytm sprawdzający czy dany ciąg znaków zawiera się w tekście"
   ]
  },
  {
   "cell_type": "code",
   "execution_count": 7,
   "metadata": {},
   "outputs": [],
   "source": [
    "def add_word(root, word):\n",
    "    cur = root\n",
    "    for letter in word:\n",
    "        if letter not in cur.edges:\n",
    "            cur.edges[letter] = Node()\n",
    "        cur = cur.edges[letter]\n",
    "\n",
    "@timeit\n",
    "def build_regular_trie(text):\n",
    "    root = Node()\n",
    "    for i in range(len(text)):\n",
    "        add_word(root, text[i:])\n",
    "    return root\n",
    "\n",
    "\n",
    "def find_word_trie(root, word):\n",
    "    cur = root\n",
    "    for x in word:\n",
    "        if x not in cur.edges:\n",
    "            return False\n",
    "        cur = cur.edges[x]\n",
    "    return True\n",
    "\n",
    "class RegularTrie(Tree):\n",
    "    def find_word(self, word):\n",
    "        return find_word_trie(self.root, word)\n",
    "\n",
    "    def initiate_trie(self):\n",
    "        self.root, time = build_regular_trie(self.text)\n",
    "        return time"
   ]
  },
  {
   "cell_type": "markdown",
   "metadata": {},
   "source": [
    "Algorytm budowy trie sufiksów wykorzystujacy suffix linki."
   ]
  },
  {
   "cell_type": "code",
   "execution_count": 8,
   "metadata": {},
   "outputs": [],
   "source": [
    "@timeit\n",
    "def build_linked_trie(text):\n",
    "    root = Node()\n",
    "    deepest = root\n",
    "    for letter in text:\n",
    "        cur = deepest\n",
    "        prev = deepest = cur.edges[letter] = Node(link=root)\n",
    "        cur = cur.suffix\n",
    "        while cur is not None:\n",
    "            if letter not in cur.edges:\n",
    "                cur.edges[letter] = Node(link=root)\n",
    "            prev.suffix = cur.edges[letter]\n",
    "            prev = cur.edges[letter]\n",
    "            cur = cur.suffix\n",
    "    return root\n",
    "\n",
    "class LinkedTrie(RegularTrie):\n",
    "    def initiate_trie(self):\n",
    "        self.root, time = build_linked_trie(self.text)\n",
    "        return time"
   ]
  },
  {
   "cell_type": "markdown",
   "metadata": {},
   "source": [
    "Algorytm budowy drzewa sufiksów.\n",
    "Poniższy algorytm buduje strukturę, która ma rozmiar liniowy w zależności od podanego tekstu. W pesymistycznym przypadku czas działania tego algorytmu jest kwadratow, lecz w większości przypadków, czyli dla tekstów w których rzadko powtarzają się dłuższe fragmenty jest znacznie szybszy od wcześniejszych dwóch, a jest znacznie mniej skomplikowany niż algorytm Ukkonena."
   ]
  },
  {
   "cell_type": "code",
   "execution_count": 9,
   "metadata": {},
   "outputs": [],
   "source": [
    "def add_suffix(node, ind, text):\n",
    "    length = 0\n",
    "    edge = None\n",
    "    for i in range(ind, len(text)):\n",
    "        letter = text[i]\n",
    "        if length == 0:\n",
    "            if letter not in node.edges:\n",
    "                node.edges[letter] = Node(i)\n",
    "                return\n",
    "            edge = node.edges[letter]\n",
    "        if text[edge.begin + length] != letter:\n",
    "            break\n",
    "        length += 1\n",
    "        if length >= edge.length:\n",
    "            node = edge\n",
    "            length = 0\n",
    "    else:\n",
    "        return\n",
    "\n",
    "    new_node = Node(edge.begin, length)\n",
    "    node.edges[text[edge.begin]] = new_node\n",
    "    new_node.edges[text[edge.begin + length]] = edge\n",
    "    new_node.edges[text[i]] = Node(i)\n",
    "    edge.begin = edge.begin + length\n",
    "    edge.length -= length\n",
    "\n",
    "\n",
    "@timeit\n",
    "def build_suffix_tree(text):\n",
    "    root = Node()\n",
    "    for i in range(len(text)):\n",
    "        add_suffix(root, i, text)\n",
    "    return root"
   ]
  },
  {
   "cell_type": "markdown",
   "metadata": {},
   "source": [
    "Wyszukiwanie słowa w drzewie sufiksów"
   ]
  },
  {
   "cell_type": "code",
   "execution_count": 10,
   "metadata": {},
   "outputs": [],
   "source": [
    "def find_word(node, text, word):\n",
    "    length = 0\n",
    "    edge = None\n",
    "    for letter in word:\n",
    "        if length == 0:\n",
    "            if letter not in node.edges:\n",
    "                return False\n",
    "            edge = node.edges[letter]\n",
    "        if text[edge.begin + length] != letter:\n",
    "            return False\n",
    "        length += 1\n",
    "        if length >= edge.length:\n",
    "            node = edge\n",
    "            length = 0\n",
    "    return True\n",
    "\n",
    "\n",
    "class SuffixTree1(Tree):\n",
    "    def find_word(self, word):\n",
    "        return find_word(self.root, self.text, word)\n",
    "\n",
    "    def initiate_trie(self):\n",
    "        self.root, time = build_suffix_tree(self.text)\n",
    "        return time"
   ]
  },
  {
   "cell_type": "markdown",
   "metadata": {},
   "source": [
    "##### Algorytm Ukkonena\n",
    "Główną częścią algorytmu jest klasa opisująca aktywny punkt. Atrybut tree_root zawiera korzeń drzewa sufiksów. Atrybuty length, edge, i node oznaczają odpowiednio aktywną długość, aktywną krawędź oraz aktywny węzeł. Aktywna krawędź nie jest zmienną typu char, lecz intem, który zawiera pozycje danej litery w tekście. Taka reprezentacja ułatwia aktualizowanie aktywnej krawędzi, przy zmianie aktywnego węzła."
   ]
  },
  {
   "cell_type": "code",
   "execution_count": 11,
   "metadata": {},
   "outputs": [],
   "source": [
    "class ActivePoint:\n",
    "    def __init__(self, root, text):\n",
    "        self.tree_root = root\n",
    "        self.length = 0\n",
    "        self.edge = 0\n",
    "        self.node = root\n",
    "        self.remainder = 0\n",
    "        self.text = text\n",
    "\n",
    "    def update_point(self, node):\n",
    "        if check := self.length >= node.length:\n",
    "            self.edge += node.length\n",
    "            self.length -= node.length\n",
    "            self.node = node\n",
    "        return check\n",
    "\n",
    "    def on_path(self, next_node, letter):\n",
    "        return self.text[next_node.begin + self.length] == letter\n",
    "\n",
    "    def split_nodes(self, next_node, letter, pos):\n",
    "        split = Node(next_node.begin, self.length, self.tree_root)\n",
    "        self.node.edges[self.text[self.edge]] = split\n",
    "        leaf = Node(pos)\n",
    "        split.edges[letter] = leaf\n",
    "        next_node.begin += self.length\n",
    "        next_node.length -= self.length\n",
    "        split.edges[self.text[next_node.begin]] = next_node\n",
    "        return split\n",
    "\n",
    "    def follow_suffix_link(self):\n",
    "        self.remainder -= 1\n",
    "        if self.node == self.tree_root and self.length > 0:\n",
    "            self.length -= 1\n",
    "            self.edge += 1\n",
    "        else:\n",
    "            self.node = self.node.suffix\n",
    "\n",
    "\n",
    "def add_suffix_link(prev, cur):\n",
    "    if prev is not None:\n",
    "        prev.suffix = cur\n",
    "    return cur\n",
    "\n",
    "@timeit\n",
    "def ukkonen(text):\n",
    "    root = Node(0, 0)\n",
    "    root.suffix = root\n",
    "    point = ActivePoint(root, text)\n",
    "    for i, letter in enumerate(text):\n",
    "        prev = None\n",
    "        point.remainder += 1\n",
    "        while point.remainder > 0:\n",
    "            if point.length == 0:\n",
    "                point.edge = i\n",
    "            if next_node := point.node.edges[text[point.edge]]:\n",
    "                if point.update_point(next_node):\n",
    "                    continue\n",
    "                if point.on_path(next_node, letter):\n",
    "                    point.length += 1\n",
    "                    _ = add_suffix_link(prev, point.node)\n",
    "                    break\n",
    "                split = point.split_nodes(next_node, letter, i)\n",
    "                prev = add_suffix_link(prev, split)\n",
    "            else:\n",
    "                point.node.edges[text[point.edge]] = Node(i)\n",
    "                prev = add_suffix_link(prev, point.node)\n",
    "\n",
    "            point.follow_suffix_link()\n",
    "    return root\n",
    "\n",
    "\n",
    "class SuffixTree2(SuffixTree1):\n",
    "    def initiate_trie(self):\n",
    "        self.root, time = ukkonen(self.text)\n",
    "        return time"
   ]
  },
  {
   "cell_type": "markdown",
   "metadata": {},
   "source": [
    "Testowanie poprawności struktur i czasu budowy.\n",
    "Dla każdego ciągu znaków wybieram jego losowy podciąg i sprawdzam czy znajduje się w drzewie.\n",
    "Ponadto generuje także testy poprzez dodanie litery wewnątrz jakiegoś podciągu. Algorytmem KMP sprawdzam czy dany wzorzec występuje w tekście."
   ]
  },
  {
   "cell_type": "code",
   "execution_count": 12,
   "metadata": {},
   "outputs": [],
   "source": [
    "def test_correctness(text, TreeType, print_mess=True):\n",
    "    tree = TreeType(text)\n",
    "    build_time = tree.initiate_trie()\n",
    "    if print_mess:\n",
    "        print(f\"Text size: {len(text)}, Build time: {build_time}\")\n",
    "\n",
    "    for i in range(min(200, len(text))):\n",
    "        left = randrange(len(text) - 1)\n",
    "        right = randrange(left + 1, len(text))\n",
    "        substring = text[left:right]\n",
    "        if i % 2:\n",
    "            m = len(substring) // 2\n",
    "            substring = substring[:m] + 'a' + substring[m:]\n",
    "            found = len(kmp(substring, text)) > 0\n",
    "        else:\n",
    "            found = True\n",
    "        assert tree.find_word(substring) == found, \"Not OK\"\n",
    "    else:\n",
    "        if print_mess:\n",
    "            print(\"Tests passed\\n\")\n",
    "    return build_time\n",
    "\n",
    "def test(TreeType):\n",
    "    for t in test_words:\n",
    "        test_correctness(t, TreeType)"
   ]
  },
  {
   "cell_type": "markdown",
   "metadata": {},
   "source": [
    "Trie sufiksów"
   ]
  },
  {
   "cell_type": "code",
   "execution_count": 13,
   "metadata": {},
   "outputs": [
    {
     "name": "stdout",
     "output_type": "stream",
     "text": [
      "Text size: 4, Build time: 0.0\n",
      "Tests passed\n",
      "\n",
      "Text size: 8, Build time: 0.0\n",
      "Tests passed\n",
      "\n",
      "Text size: 7, Build time: 0.0\n",
      "Tests passed\n",
      "\n",
      "Text size: 19, Build time: 0.0001\n",
      "Tests passed\n",
      "\n",
      "Text size: 101, Build time: 0.0039\n",
      "Tests passed\n",
      "\n",
      "Text size: 2482, Build time: 4.3177\n",
      "Tests passed\n",
      "\n"
     ]
    }
   ],
   "source": [
    "test(RegularTrie)"
   ]
  },
  {
   "cell_type": "markdown",
   "metadata": {},
   "source": [
    "Alternatywny algorytm budowy trie sufiksów"
   ]
  },
  {
   "cell_type": "code",
   "execution_count": 14,
   "metadata": {},
   "outputs": [
    {
     "name": "stdout",
     "output_type": "stream",
     "text": [
      "Text size: 4, Build time: 0.0\n",
      "Tests passed\n",
      "\n",
      "Text size: 8, Build time: 0.0\n",
      "Tests passed\n",
      "\n",
      "Text size: 7, Build time: 0.0\n",
      "Tests passed\n",
      "\n",
      "Text size: 19, Build time: 0.0001\n",
      "Tests passed\n",
      "\n",
      "Text size: 101, Build time: 0.0045\n",
      "Tests passed\n",
      "\n",
      "Text size: 2482, Build time: 4.3108\n",
      "Tests passed\n",
      "\n"
     ]
    }
   ],
   "source": [
    "test(LinkedTrie)"
   ]
  },
  {
   "cell_type": "markdown",
   "metadata": {},
   "source": [
    "Naiwny algorytm budowy drzewa sufiksów"
   ]
  },
  {
   "cell_type": "code",
   "execution_count": 15,
   "metadata": {},
   "outputs": [
    {
     "name": "stdout",
     "output_type": "stream",
     "text": [
      "Text size: 4, Build time: 0.0\n",
      "Tests passed\n",
      "\n",
      "Text size: 8, Build time: 0.0\n",
      "Tests passed\n",
      "\n",
      "Text size: 7, Build time: 0.0\n",
      "Tests passed\n",
      "\n",
      "Text size: 19, Build time: 0.0001\n",
      "Tests passed\n",
      "\n",
      "Text size: 101, Build time: 0.0003\n",
      "Tests passed\n",
      "\n",
      "Text size: 2482, Build time: 0.0124\n",
      "Tests passed\n",
      "\n"
     ]
    }
   ],
   "source": [
    "test(SuffixTree1)"
   ]
  },
  {
   "cell_type": "markdown",
   "metadata": {},
   "source": [
    "Ukkonen"
   ]
  },
  {
   "cell_type": "code",
   "execution_count": 16,
   "metadata": {},
   "outputs": [
    {
     "name": "stdout",
     "output_type": "stream",
     "text": [
      "Text size: 4, Build time: 0.0\n",
      "Tests passed\n",
      "\n",
      "Text size: 8, Build time: 0.0\n",
      "Tests passed\n",
      "\n",
      "Text size: 7, Build time: 0.0\n",
      "Tests passed\n",
      "\n",
      "Text size: 19, Build time: 0.0001\n",
      "Tests passed\n",
      "\n",
      "Text size: 101, Build time: 0.0003\n",
      "Tests passed\n",
      "\n",
      "Text size: 2482, Build time: 0.0073\n",
      "Tests passed\n",
      "\n"
     ]
    }
   ],
   "source": [
    "test(SuffixTree2)"
   ]
  },
  {
   "cell_type": "markdown",
   "source": [
    "Widać, że algorytmy korzystające ze skompresowanych drzew sufiksów są dużo szybsze, nawet algorytm, który potencjalnie ma złożoność kwadratową. Przykładem tekstu dla, którego ten algorytm działał by znacznie dłużej byłby tekst złożony z jednej litery."
   ],
   "metadata": {
    "collapsed": false
   }
  },
  {
   "cell_type": "code",
   "execution_count": 17,
   "outputs": [
    {
     "name": "stdout",
     "output_type": "stream",
     "text": [
      "Text size: 10001, Build time: 7.962\n",
      "Tests passed\n",
      "\n"
     ]
    }
   ],
   "source": [
    "_ = test_correctness('a'*10000 + '$', SuffixTree1)"
   ],
   "metadata": {
    "collapsed": false
   }
  },
  {
   "cell_type": "markdown",
   "source": [
    "Wtedy konieczne jest użycie algorytmu Ukkonena."
   ],
   "metadata": {
    "collapsed": false
   }
  },
  {
   "cell_type": "code",
   "execution_count": 18,
   "outputs": [
    {
     "name": "stdout",
     "output_type": "stream",
     "text": [
      "Text size: 10001, Build time: 0.0298\n",
      "Tests passed\n",
      "\n"
     ]
    }
   ],
   "source": [
    "_ = test_correctness('a'*10000 + '$', SuffixTree2)"
   ],
   "metadata": {
    "collapsed": false
   }
  },
  {
   "cell_type": "markdown",
   "source": [
    "#### Czasowe porównanie algorytmów budowy trie i drzew sufiksów"
   ],
   "metadata": {
    "collapsed": false
   }
  },
  {
   "cell_type": "code",
   "execution_count": 19,
   "outputs": [],
   "source": [
    "import matplotlib.pyplot as plt\n",
    "\n",
    "def plot_speed(sizes, TreeTypes, TreeNames):\n",
    "    times = [[] for _ in TreeTypes]\n",
    "    for s in sizes:\n",
    "        text = generate_random_text(s)\n",
    "        for i in range(len(TreeTypes)):\n",
    "            times[i].append(test_correctness(text, TreeTypes[i], print_mess=False))\n",
    "\n",
    "    for t, name in zip(times, TreeNames):\n",
    "        plt.plot(sizes, t, label=name)\n",
    "\n",
    "    plt.xlabel('Text size')\n",
    "    plt.ylabel('Time[s]')\n",
    "    plt.legend()\n",
    "    plt.show()"
   ],
   "metadata": {
    "collapsed": false
   }
  },
  {
   "cell_type": "markdown",
   "source": [
    "Porównanie klasycznego algorytmu budowy trie i algorytmu z wykorzystaniem suffix linków"
   ],
   "metadata": {
    "collapsed": false
   }
  },
  {
   "cell_type": "code",
   "execution_count": 21,
   "outputs": [
    {
     "data": {
      "text/plain": "<Figure size 640x480 with 1 Axes>",
      "image/png": "[encoded data removed]"
     },
     "metadata": {},
     "output_type": "display_data"
    }
   ],
   "source": [
    "plot_speed([10*i for i in range(10, 100, 5)], [RegularTrie, LinkedTrie], ['Trie', 'Trie_with_links'])"
   ],
   "metadata": {
    "collapsed": false
   }
  },
  {
   "cell_type": "markdown",
   "source": [
    "Porównanie algorytmu naiwnego budowy drzewa suffiksów i algorytmu Ukkonena"
   ],
   "metadata": {
    "collapsed": false
   }
  },
  {
   "cell_type": "code",
   "execution_count": 23,
   "outputs": [
    {
     "data": {
      "text/plain": "<Figure size 640x480 with 1 Axes>",
      "image/png": "[encoded data removed]"
     },
     "metadata": {},
     "output_type": "display_data"
    }
   ],
   "source": [
    "plot_speed([500*i for i in range(10, 100, 10)], [SuffixTree1, SuffixTree2], ['Naive_built', 'Ukkonen'])"
   ],
   "metadata": {
    "collapsed": false
   }
  },
  {
   "cell_type": "markdown",
   "source": [
    "#### Wnioski\n",
    "\n",
    "Wszystkie drzewa pomyślnie przeszły testy, więc można stwierdzić, że struktury zostały zaimplementowane poprawnie. Po wynikach czasowych widać przewagę algorytmów działających na drzewach używających reprezentacji krawędzi poprzez wskaźniki do oryginalnego tekstu. Pomimo tego, że algorytm naiwnej kostrukcji drzewa sufiksów jest w najgorszym przypadku kwadratowy to dla zwykłych tekstów (np. języka naturalnego), gdzie dłuższe fragmenty nie powtarzają się za często, jego czas konstrukcji jest zbliżony do algorytmu ukkonena."
   ],
   "metadata": {
    "collapsed": false
   }
  }
 ],
 "metadata": {
  "kernelspec": {
   "display_name": "Python 3 (ipykernel)",
   "language": "python",
   "name": "python3"
  },
  "language_info": {
   "codemirror_mode": {
    "name": "ipython",
    "version": 3
   },
   "file_extension": ".py",
   "mimetype": "text/x-python",
   "name": "python",
   "nbconvert_exporter": "python",
   "pygments_lexer": "ipython3",
   "version": "3.11.2"
  }
 },
 "nbformat": 4,
 "nbformat_minor": 1
}
