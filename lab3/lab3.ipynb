{
 "cells": [
  {
   "cell_type": "markdown",
   "source": [
    "## Rozwiązanie lab 3"
   ],
   "metadata": {
    "collapsed": false
   }
  },
  {
   "cell_type": "code",
   "execution_count": 1,
   "outputs": [],
   "source": [
    "from PIL import Image, ImageDraw, ImageFont"
   ],
   "metadata": {
    "collapsed": false
   }
  },
  {
   "cell_type": "markdown",
   "source": [
    "#### Wizualizacja algorytmu obliczania odległości edycyjnej"
   ],
   "metadata": {
    "collapsed": false
   }
  },
  {
   "cell_type": "code",
   "execution_count": 2,
   "outputs": [],
   "source": [
    "def draw_word(text, change=None):\n",
    "    m = len(text)\n",
    "    d = 40\n",
    "    img = Image.new(mode=\"RGB\", size=(d*m, d), color=(176, 165, 155))\n",
    "\n",
    "    draw = ImageDraw.Draw(img)\n",
    "    for i in range(1, m + 1):\n",
    "        draw.line([(i*d, 0), (i*d, d)], width=1, fill=(0, 0, 0))\n",
    "\n",
    "    if change is not None:\n",
    "        index, color = change\n",
    "        draw.rectangle([(index*d, 0), ((index + 1)*d, d)], fill=color)\n",
    "\n",
    "    font = ImageFont.truetype(\"arial.ttf\", 20)\n",
    "    for i in range(m):\n",
    "        draw.text((i*d + d/2.5, d / 4), text=text[i], font=font, fill=(0, 0, 0))\n",
    "    display(img)"
   ],
   "metadata": {
    "collapsed": false
   }
  },
  {
   "cell_type": "code",
   "execution_count": 3,
   "outputs": [],
   "source": [
    "def visualise_edits(text1, text2, dp, parent):\n",
    "    t1 = list(text1)\n",
    "    i = len(text1)\n",
    "    j = len(text2)\n",
    "    draw_word(t1)\n",
    "    print()\n",
    "    while dp[i][j]:\n",
    "        if parent[i][j] == 0:\n",
    "            i -= 1\n",
    "            j -= 1\n",
    "            continue\n",
    "        elif parent[i][j] == 1:\n",
    "            i -= 1\n",
    "            j -= 1\n",
    "            old, t1[i] = t1[i], text2[j]\n",
    "            draw_word(t1, (i, 'green'))\n",
    "            print(f\"Zamiana {old} na {text2[j]}\")\n",
    "        elif parent[i][j] == 2:\n",
    "            i -= 1\n",
    "            draw_word(t1, (i, 'red'))\n",
    "            print(f\"Usunięcie {t1[i]}\")\n",
    "            t1.pop(i)\n",
    "            draw_word(t1)\n",
    "        else:\n",
    "            j -= 1\n",
    "            t1.insert(i, text2[j])\n",
    "            draw_word(t1, (i, 'green'))\n",
    "            print(f\"Dodanie {text2[j]}\")\n",
    "        print()\n",
    "    draw_word(t1)\n"
   ],
   "metadata": {
    "collapsed": false
   }
  },
  {
   "cell_type": "markdown",
   "source": [
    "#### Algorytm obliczania odległości edycyjnej"
   ],
   "metadata": {
    "collapsed": false
   }
  },
  {
   "cell_type": "code",
   "execution_count": 4,
   "outputs": [],
   "source": [
    "from math import inf\n",
    "\n",
    "def edit_distance(text1, text2, visualise=False):\n",
    "    m = len(text1)\n",
    "    n = len(text2)\n",
    "    dp = [[inf for _ in range(n + 1)] for _ in range(m + 1)]\n",
    "    parent = [[-1 for _ in range(n + 1)] for _ in range(m + 1)]\n",
    "\n",
    "    for i in range(m + 1):\n",
    "        dp[i][0] = i\n",
    "    for i in range(n + 1):\n",
    "        dp[0][i] = i\n",
    "\n",
    "    for i in range(1, m + 1):\n",
    "        for j in range(1, n + 1):\n",
    "            if text1[i-1] == text2[j - 1]:\n",
    "                dp[i][j] = dp[i-1][j-1]\n",
    "                parent[i][j] = 0\n",
    "            else:\n",
    "                dp[i][j] = dp[i-1][j-1] + 1\n",
    "                parent[i][j] = 1\n",
    "                if dp[i][j] > dp[i-1][j] + 1:\n",
    "                    dp[i][j] = dp[i-1][j] + 1\n",
    "                    parent[i][j] = 2\n",
    "                if dp[i][j] > dp[i][j - 1] + 1:\n",
    "                    dp[i][j] = dp[i][j - 1] + 1\n",
    "                    parent[i][j] = 3\n",
    "    if visualise:\n",
    "        visualise_edits(text1, text2, dp, parent)\n",
    "    return dp[-1][-1], dp, parent"
   ],
   "metadata": {
    "collapsed": false
   }
  },
  {
   "cell_type": "code",
   "execution_count": 5,
   "outputs": [
    {
     "data": {
      "text/plain": "<PIL.Image.Image image mode=RGB size=120x40>",
      "image/png": "[encoded data removed]"
     },
     "metadata": {},
     "output_type": "display_data"
    },
    {
     "name": "stdout",
     "output_type": "stream",
     "text": [
      "\n"
     ]
    },
    {
     "data": {
      "text/plain": "<PIL.Image.Image image mode=RGB size=120x40>",
      "image/png": "[encoded data removed]"
     },
     "metadata": {},
     "output_type": "display_data"
    },
    {
     "name": "stdout",
     "output_type": "stream",
     "text": [
      "Zamiana s na c\n",
      "\n"
     ]
    },
    {
     "data": {
      "text/plain": "<PIL.Image.Image image mode=RGB size=160x40>",
      "image/png": "[encoded data removed]"
     },
     "metadata": {},
     "output_type": "display_data"
    },
    {
     "name": "stdout",
     "output_type": "stream",
     "text": [
      "Dodanie k\n",
      "\n"
     ]
    },
    {
     "data": {
      "text/plain": "<PIL.Image.Image image mode=RGB size=160x40>",
      "image/png": "[encoded data removed]"
     },
     "metadata": {},
     "output_type": "display_data"
    }
   ],
   "source": [
    "_ = edit_distance(\"los\", \"kloc\", visualise=True)"
   ],
   "metadata": {
    "collapsed": false
   }
  },
  {
   "cell_type": "code",
   "execution_count": 6,
   "outputs": [
    {
     "data": {
      "text/plain": "<PIL.Image.Image image mode=RGB size=160x40>",
      "image/png": "[encoded data removed]"
     },
     "metadata": {},
     "output_type": "display_data"
    },
    {
     "name": "stdout",
     "output_type": "stream",
     "text": [
      "\n"
     ]
    },
    {
     "data": {
      "text/plain": "<PIL.Image.Image image mode=RGB size=160x40>",
      "image/png": "[encoded data removed]"
     },
     "metadata": {},
     "output_type": "display_data"
    },
    {
     "name": "stdout",
     "output_type": "stream",
     "text": [
      "Zamiana ź na z\n",
      "\n"
     ]
    },
    {
     "data": {
      "text/plain": "<PIL.Image.Image image mode=RGB size=160x40>",
      "image/png": "[encoded data removed]"
     },
     "metadata": {},
     "output_type": "display_data"
    },
    {
     "name": "stdout",
     "output_type": "stream",
     "text": [
      "Zamiana ó na o\n",
      "\n"
     ]
    },
    {
     "data": {
      "text/plain": "<PIL.Image.Image image mode=RGB size=160x40>",
      "image/png": "[encoded data removed]"
     },
     "metadata": {},
     "output_type": "display_data"
    },
    {
     "name": "stdout",
     "output_type": "stream",
     "text": [
      "Zamiana Ł na L\n",
      "\n"
     ]
    },
    {
     "data": {
      "text/plain": "<PIL.Image.Image image mode=RGB size=160x40>",
      "image/png": "[encoded data removed]"
     },
     "metadata": {},
     "output_type": "display_data"
    }
   ],
   "source": [
    "_ = edit_distance(\"Łódź\", \"Lodz\", visualise=True)"
   ],
   "metadata": {
    "collapsed": false
   }
  },
  {
   "cell_type": "code",
   "execution_count": 7,
   "outputs": [
    {
     "data": {
      "text/plain": "<PIL.Image.Image image mode=RGB size=480x40>",
      "image/png": "[encoded data removed]"
     },
     "metadata": {},
     "output_type": "display_data"
    },
    {
     "name": "stdout",
     "output_type": "stream",
     "text": [
      "\n"
     ]
    },
    {
     "data": {
      "text/plain": "<PIL.Image.Image image mode=RGB size=480x40>",
      "image/png": "[encoded data removed]"
     },
     "metadata": {},
     "output_type": "display_data"
    },
    {
     "name": "stdout",
     "output_type": "stream",
     "text": [
      "Zamiana a na e\n",
      "\n"
     ]
    },
    {
     "data": {
      "text/plain": "<PIL.Image.Image image mode=RGB size=480x40>",
      "image/png": "[encoded data removed]"
     },
     "metadata": {},
     "output_type": "display_data"
    },
    {
     "name": "stdout",
     "output_type": "stream",
     "text": [
      "Usunięcie j\n"
     ]
    },
    {
     "data": {
      "text/plain": "<PIL.Image.Image image mode=RGB size=440x40>",
      "image/png": "[encoded data removed]"
     },
     "metadata": {},
     "output_type": "display_data"
    },
    {
     "name": "stdout",
     "output_type": "stream",
     "text": [
      "\n"
     ]
    },
    {
     "data": {
      "text/plain": "<PIL.Image.Image image mode=RGB size=480x40>",
      "image/png": "[encoded data removed]"
     },
     "metadata": {},
     "output_type": "display_data"
    },
    {
     "name": "stdout",
     "output_type": "stream",
     "text": [
      "Dodanie s\n",
      "\n"
     ]
    },
    {
     "data": {
      "text/plain": "<PIL.Image.Image image mode=RGB size=480x40>",
      "image/png": "[encoded data removed]"
     },
     "metadata": {},
     "output_type": "display_data"
    },
    {
     "name": "stdout",
     "output_type": "stream",
     "text": [
      "Zamiana w na u\n",
      "\n"
     ]
    },
    {
     "data": {
      "text/plain": "<PIL.Image.Image image mode=RGB size=480x40>",
      "image/png": "[encoded data removed]"
     },
     "metadata": {},
     "output_type": "display_data"
    },
    {
     "name": "stdout",
     "output_type": "stream",
     "text": [
      "Zamiana k na q\n",
      "\n"
     ]
    },
    {
     "data": {
      "text/plain": "<PIL.Image.Image image mode=RGB size=480x40>",
      "image/png": "[encoded data removed]"
     },
     "metadata": {},
     "output_type": "display_data"
    }
   ],
   "source": [
    "_ = edit_distance(\"kwintesencja\", \"quintessence\", visualise=True)"
   ],
   "metadata": {
    "collapsed": false
   }
  },
  {
   "cell_type": "code",
   "execution_count": 8,
   "outputs": [
    {
     "data": {
      "text/plain": "<PIL.Image.Image image mode=RGB size=720x40>",
      "image/png": "[encoded data removed]"
     },
     "metadata": {},
     "output_type": "display_data"
    },
    {
     "name": "stdout",
     "output_type": "stream",
     "text": [
      "\n"
     ]
    },
    {
     "data": {
      "text/plain": "<PIL.Image.Image image mode=RGB size=720x40>",
      "image/png": "[encoded data removed]"
     },
     "metadata": {},
     "output_type": "display_data"
    },
    {
     "name": "stdout",
     "output_type": "stream",
     "text": [
      "Usunięcie C\n"
     ]
    },
    {
     "data": {
      "text/plain": "<PIL.Image.Image image mode=RGB size=680x40>",
      "image/png": "[encoded data removed]"
     },
     "metadata": {},
     "output_type": "display_data"
    },
    {
     "name": "stdout",
     "output_type": "stream",
     "text": [
      "\n"
     ]
    },
    {
     "data": {
      "text/plain": "<PIL.Image.Image image mode=RGB size=680x40>",
      "image/png": "[encoded data removed]"
     },
     "metadata": {},
     "output_type": "display_data"
    },
    {
     "name": "stdout",
     "output_type": "stream",
     "text": [
      "Zamiana G na C\n",
      "\n"
     ]
    },
    {
     "data": {
      "text/plain": "<PIL.Image.Image image mode=RGB size=680x40>",
      "image/png": "[encoded data removed]"
     },
     "metadata": {},
     "output_type": "display_data"
    },
    {
     "name": "stdout",
     "output_type": "stream",
     "text": [
      "Zamiana C na G\n",
      "\n"
     ]
    },
    {
     "data": {
      "text/plain": "<PIL.Image.Image image mode=RGB size=680x40>",
      "image/png": "[encoded data removed]"
     },
     "metadata": {},
     "output_type": "display_data"
    },
    {
     "name": "stdout",
     "output_type": "stream",
     "text": [
      "Zamiana A na G\n",
      "\n"
     ]
    },
    {
     "data": {
      "text/plain": "<PIL.Image.Image image mode=RGB size=720x40>",
      "image/png": "[encoded data removed]"
     },
     "metadata": {},
     "output_type": "display_data"
    },
    {
     "name": "stdout",
     "output_type": "stream",
     "text": [
      "Dodanie C\n",
      "\n"
     ]
    },
    {
     "data": {
      "text/plain": "<PIL.Image.Image image mode=RGB size=720x40>",
      "image/png": "[encoded data removed]"
     },
     "metadata": {},
     "output_type": "display_data"
    },
    {
     "name": "stdout",
     "output_type": "stream",
     "text": [
      "Zamiana T na G\n",
      "\n"
     ]
    },
    {
     "data": {
      "text/plain": "<PIL.Image.Image image mode=RGB size=720x40>",
      "image/png": "[encoded data removed]"
     },
     "metadata": {},
     "output_type": "display_data"
    },
    {
     "name": "stdout",
     "output_type": "stream",
     "text": [
      "Zamiana A na G\n",
      "\n"
     ]
    },
    {
     "data": {
      "text/plain": "<PIL.Image.Image image mode=RGB size=720x40>",
      "image/png": "[encoded data removed]"
     },
     "metadata": {},
     "output_type": "display_data"
    }
   ],
   "source": [
    "_ = edit_distance(\"ATGAATCTTACCGCCTCG\", \"ATGAGGCTCTGGCCCCTG\", visualise=True)"
   ],
   "metadata": {
    "collapsed": false
   }
  },
  {
   "cell_type": "markdown",
   "source": [
    "### Najdłuższy wspólny podciąg"
   ],
   "metadata": {
    "collapsed": false
   }
  },
  {
   "cell_type": "code",
   "execution_count": 9,
   "outputs": [],
   "source": [
    "def lcs(text1, text2):\n",
    "    m = len(text1)\n",
    "    n = len(text2)\n",
    "    dp = [[0 for _ in range(n + 1)] for _ in range(m + 1)]\n",
    "    for i in range(1, m + 1):\n",
    "        for j in range(1, n + 1):\n",
    "            if text1[i-1] == text2[j-1]:\n",
    "                dp[i][j] = dp[i-1][j-1] + 1\n",
    "            else:\n",
    "                dp[i][j] = max(dp[i-1][j], dp[i][j-1])\n",
    "    return dp[-1][-1], dp"
   ],
   "metadata": {
    "collapsed": false
   }
  },
  {
   "cell_type": "code",
   "execution_count": 10,
   "outputs": [],
   "source": [
    "with open(\"romeo-i-julia-700.txt\", \"r\", encoding=\"UTF-8\") as f:\n",
    "    text = f.read()"
   ],
   "metadata": {
    "collapsed": false
   }
  },
  {
   "cell_type": "code",
   "execution_count": 11,
   "outputs": [],
   "source": [
    "from spacy.lang.pl import Polish\n",
    "nlp = Polish()\n",
    "doc = nlp(text)\n",
    "token_list = list(doc)"
   ],
   "metadata": {
    "collapsed": false
   }
  },
  {
   "cell_type": "code",
   "execution_count": 12,
   "outputs": [],
   "source": [
    "from numpy.random import rand\n",
    "\n",
    "truncated_text1 = []\n",
    "for token in token_list:\n",
    "    if token.text == '\\n' or rand() > 0.03:\n",
    "        truncated_text1.append(token.text)\n",
    "\n",
    "\n",
    "truncated_text2 = []\n",
    "for token in token_list:\n",
    "    if token.text == '\\n' or rand() > 0.03:\n",
    "        truncated_text2.append(token.text)"
   ],
   "metadata": {
    "collapsed": false
   }
  },
  {
   "cell_type": "code",
   "execution_count": 14,
   "outputs": [
    {
     "name": "stdout",
     "output_type": "stream",
     "text": [
      "Długość pierwszego tekstu: 2627\n",
      "Długość drugiego tekstu: 2623\n",
      "Długość najdłuższego wspólnego podciągu: 2553\n"
     ]
    }
   ],
   "source": [
    "print(f\"Długość pierwszego tekstu: {len(truncated_text1)}\")\n",
    "print(f\"Długość drugiego tekstu: {len(truncated_text2)}\")\n",
    "ans, _ = lcs(truncated_text2, truncated_text1)\n",
    "print(f\"Długość najdłuższego wspólnego podciągu: {ans}\")"
   ],
   "metadata": {
    "collapsed": false
   }
  },
  {
   "cell_type": "code",
   "execution_count": 15,
   "outputs": [],
   "source": [
    "with open(\"truncated1.txt\", \"w\", encoding=\"UTF-8\") as f1, open(\"truncated2.txt\", \"w\", encoding=\"UTF-8\") as f2:\n",
    "    f1.write(\"\".join(truncated_text1))\n",
    "    f2.write(\"\".join(truncated_text2))"
   ],
   "metadata": {
    "collapsed": false
   }
  },
  {
   "cell_type": "code",
   "execution_count": 16,
   "outputs": [],
   "source": [
    "with open(\"truncated1.txt\", \"r\", encoding=\"UTF-8\") as f1, open(\"truncated2.txt\", \"r\", encoding=\"UTF-8\") as f2:\n",
    "    lines1 = f1.readlines()\n",
    "    lines2 = f2.readlines()"
   ],
   "metadata": {
    "collapsed": false
   }
  },
  {
   "cell_type": "code",
   "execution_count": 17,
   "outputs": [],
   "source": [
    "def diff_lines(file, ind):\n",
    "    different = [True for _ in range(len(file))]\n",
    "    for i in ind:\n",
    "        different[i] = False\n",
    "    for i, line in enumerate(file):\n",
    "        if different[i]:\n",
    "            print(f\"numer linii: {i}, {line}\")"
   ],
   "metadata": {
    "collapsed": false
   }
  },
  {
   "cell_type": "code",
   "execution_count": 18,
   "outputs": [],
   "source": [
    "def find_diff(text1, text2):\n",
    "    _, dp = lcs(text1, text2)\n",
    "    i = len(text1)\n",
    "    j = len(text2)\n",
    "    index1 = []\n",
    "    index2 = []\n",
    "    while i > 0 and j > 0:\n",
    "        if text1[i - 1] == text2[j - 1]:\n",
    "            index1.append(i - 1)\n",
    "            index2.append(j - 1)\n",
    "            i -= 1\n",
    "            j -= 1\n",
    "        else:\n",
    "            if dp[i][j - 1] > dp[i - 1][j]:\n",
    "                j -= 1\n",
    "            else:\n",
    "                i -= 1\n",
    "    print(\"Niepasujące linie z pierwszego pliku\")\n",
    "    diff_lines(lines1, index1)\n",
    "    print(\"Niepasujące linie z drugiego pliku\")\n",
    "    diff_lines(lines2, index2)"
   ],
   "metadata": {
    "collapsed": false
   }
  },
  {
   "cell_type": "code",
   "execution_count": 19,
   "outputs": [
    {
     "name": "stdout",
     "output_type": "stream",
     "text": [
      "Niepasujące linie z pierwszego pliku\n",
      "numer linii: 3, tłum.JózefPaszkowski\n",
      "\n",
      "numer linii: 11,  *PARYS—młodyWeroneńczykrodu,krewnyksięcia\n",
      "\n",
      "numer linii: 15,  *MERKUCJO—krewnyksięcia\n",
      "\n",
      "numer linii: 18,  *LAURENTY—franciszkanin\n",
      "\n",
      "numer linii: 20,  *BALTAZAR—służącyRomea\n",
      "\n",
      "numer linii: 22,  *—służącyMontekiego*APTEKARZ\n",
      "\n",
      "numer linii: 23,  *TRZECHMUZYKANTÓW\n",
      "\n",
      "numer linii: 24,  *PAŹPARYSA\n",
      "\n",
      "numer linii: 25,  *PIOTR\n",
      "\n",
      "numer linii: 27,  *PANIMONTEKImałżonkaMontekiego\n",
      "\n",
      "numer linii: 31,  *Obywateleweroneńscy,różneosobypłciobojej,liczącysiędoprzyjaciółobudomówmaski,strażwojskowaiinneosoby.RzeczodbywasięwiększączęśćsztukiwWeronie,przezczęśćpiątegoaktuwMantui.\n",
      "\n",
      "numer linii: 39, Dwarodyzacnejednakoisławne—\n",
      "\n",
      "numer linii: 41, Donowejpchajązłościdawne,\n",
      "\n",
      "numer linii: 76, Marozumieć,bobyśmybylizdziercami.\n",
      "\n",
      "numer linii: 79, SAMSON\n",
      "\n",
      "numer linii: 80, \n",
      "\n",
      "numer linii: 81, Alebędziemydarlikoty,jakznamizadrą.\n",
      "\n",
      "numer linii: 86, Ktozechcezadrzećznami,będziemusiałzadrżeć.\n",
      "\n",
      "numer linii: 96, Takalezarazzwykłeśsiędaćrozruchać.\n",
      "\n",
      "numer linii: 106, Rozruchaćsiętyleznaczycoruszyćsięzmiejsca;byćwalecznymjesttostaćnieporuszenie:pojmujęwięc,żeskutkiemrozruchaniasiętwegobędzie-drapnięcie.\n",
      "\n",
      "numer linii: 111, TepsyzdomuMontekichrozruchaćmięmogątylkodostanianamiejscu.Będęjakmurkażdegomężczyznyikobietyztegodomu.\n",
      "\n",
      "numer linii: 121, Prawda,dlategotokobiety,jako,tuląsięzawszedomuru.JateżodtrącęodmuruludziMontekich,akobietyMontekichprzyprędomuru.\n",
      "\n",
      "numer linii: 126, Spórjesttylkomiędzynaszymipanamiimiędzynami,ichludźmi.\n",
      "\n",
      "numer linii: 131, Mniejszamito,będęnieubłagany.Pobiwszyludzi,wywręwściekłośćnakobietach:rzeźmiędzynimisprawię.\n",
      "\n",
      "numer linii: 141, Nieinaczej:wtłoczęmieczwkażdąpo.Wiadomo,żesiędolwówliczę.\n",
      "\n",
      "numer linii: 146, Tymlepiej,żesięliczyszdozwierząt;bogdybyśsięliczyłdoryb,topewniesztokfiszem.Weźnosięzainstrument,bootonadchodzidwóchdomownikówMontekiego.\n",
      "\n",
      "numer linii: 148, /WchodząAbrahamiBaltazar./\n",
      "\n",
      "numer linii: 150, \n",
      "\n",
      "numer linii: 151, SAMSON\n",
      "\n",
      "numer linii: 152, \n",
      "\n",
      "numer linii: 153, Mójgiwerjużdobyty:zaczepich,jastanęztyłu.\n",
      "\n",
      "numer linii: 173, Miejmyprawozasobą,niechonizaczną.\n",
      "\n",
      "numer linii: 178, Marsaimnastawięprzechodząc;niechgosobie,jakchcą,tłumaczą\n",
      "\n",
      "numer linii: 183, Niejakchcą,alejakśmią.Jaimgębęwykrzywię;hańbaim,jeślitościerpią.\n",
      "\n",
      "numer linii: 196, \n",
      "\n",
      "numer linii: 201, \n",
      "\n",
      "numer linii: 205, Będziemy–żmieliprawozasobą,jakpowiem:tak?\n",
      "\n",
      "numer linii: 213, \n",
      "\n",
      "numer linii: 232, Jeżelijejszukasz,tojestemwaścineusługi.Mójpantakdobryjakiwasz\n",
      "\n",
      "numer linii: 237, Nielepszy.SAMSON\n",
      "\n",
      "numer linii: 241, /Benwolioukazujesięwgłębi./\n",
      "\n",
      "numer linii: 261, SAMSON\n",
      "\n",
      "numer linii: 263, Dobądźciemieczów,jeślimacieserca.Grzegorzu,pamiętajoswoimpchnięciu.BENWOLIO\n",
      "\n",
      "numer linii: 265, ,głupcy;schowajciemieczedopochew.Saminiewiecie,corobicie.\n",
      "\n",
      "numer linii: 269, /WchodziTybalt/\n",
      "\n",
      "numer linii: 275, Domnie,Benwolio!pilnujswegożycia.\n",
      "\n",
      "numer linii: 280, Przywracamtylkopokój.Włóżmiecznazad\n",
      "\n",
      "numer linii: 286, Zgołymorężempokój?\n",
      "\n",
      "numer linii: 291, /Walczą.Nadchodzikilkuprzyjaciółobupartiiimieszająsiędozwady;wkrótcepotemwchodząmieszczaniezpałkami./\n",
      "\n",
      "numer linii: 294, PIERWSZYOBYWATEL\n",
      "\n",
      "numer linii: 297, PreczzMontekimi,preczzKapuletami!\n",
      "\n",
      "numer linii: 299, /WchodząKapuletiPaniKapulet/\n",
      "\n",
      "numer linii: 304, Cohałas?Podajciemidługi\n",
      "\n",
      "numer linii: 310, Raczejkulęcocizmiecza?\n",
      "\n",
      "numer linii: 318, /MontekiiPaniMonteki./\n",
      "\n",
      "numer linii: 325, /dożony/\n",
      "\n",
      "numer linii: 332, Niepuszczęciękrok,gdywrógprzedtobą.\n",
      "\n",
      "numer linii: 337, KSIĄŻĘ\n",
      "\n",
      "numer linii: 340, Bezcześcicielebratniejstali!Cóżto,\n",
      "\n",
      "numer linii: 343, Wwłasnychżyłswoichźródlepurpurowym;\n",
      "\n",
      "numer linii: 345, Zdłoniskrwawionychtębrońbuntowniczą\n",
      "\n",
      "numer linii: 351, Takpoważniwiekiemizasługą\n",
      "\n",
      "numer linii: 354, Iwstaredłoniestareująćmiecze,\n",
      "\n",
      "numer linii: 355, zardzewiałymostrzemzardzewiałe\n",
      "\n",
      "numer linii: 361, Tyzaś,Monteki,przyjdzieszpopołudniu\n",
      "\n",
      "numer linii: 363, Dalszamawolaoznajmionabędzie.\n",
      "\n",
      "numer linii: 364, razwzywamwszystkichtuobecnych\n",
      "\n",
      "numer linii: 365, Podkarąśmierci,abysięrozeszli.\n",
      "\n",
      "numer linii: 372, Ktowszcząłtęzwadę?Mów,synowcze,\n",
      "\n",
      "numer linii: 381, WtemwpadłszalonyTybaltzgołymmieczem,\n",
      "\n",
      "numer linii: 399, Godzinąpierwej,nimwspaniałesłońce\n",
      "\n",
      "numer linii: 402, Wówgaj,cosięciągnie\n",
      "\n",
      "numer linii: 404, ,jużtakrano,synwaszsięprzechadzał.\n",
      "\n",
      "numer linii: 407, Iwukryłsięgęstwinie.\n",
      "\n",
      "numer linii: 412, Iwinnąstronęsięudałem,chętnie\n",
      "\n",
      "numer linii: 418, Nierazoświciegotamwidziano\n",
      "\n",
      "numer linii: 419, porannąmnożącegorosę,\n",
      "\n",
      "numer linii: 424, On,uciekającodwidokuświatła,\n",
      "\n",
      "numer linii: 425, Cozamykałsięwswoimpokoju;\n",
      "\n",
      "numer linii: 427, Isobieciemnicęutwarzał.\n",
      "\n",
      "numer linii: 429, Jeślinatolekarstwonieznajdzie.\n",
      "\n",
      "numer linii: 434, Szanownystryju,znasz–żepowódtego\n",
      "\n",
      "numer linii: 444, Wybadywałżeśgojakimsposobem\n",
      "\n",
      "numer linii: 445, \n",
      "\n",
      "numer linii: 446, \n",
      "\n",
      "numer linii: 447, MONTEKI\n",
      "\n",
      "numer linii: 451, Takimjestwierny,takzamkniętywsobie,\n",
      "\n",
      "numer linii: 457, Niezbrakłobynamzaradczegośrodka\n",
      "\n",
      "numer linii: 471, Mógłbyćszczęśliwszymodnas!Pójdźmy,pani.\n",
      "\n",
      "numer linii: 473, /WychodząMontekiiPaniMonteki./BENWOLIO\n",
      "\n",
      "numer linii: 475, Dzień,bracie.\n",
      "\n",
      "numer linii: 488, ROMEO\n",
      "\n",
      "numer linii: 489, \n",
      "\n",
      "numer linii: 490,                         Jaknudnie\n",
      "\n",
      "numer linii: 491, Wlokąsięchwile.Moi–żtorodzice\n",
      "\n",
      "numer linii: 492, Takspieszniewtamtąulicę?\n",
      "\n",
      "numer linii: 497, jest.Leczcóżtakchwiletwojedłuży?\n",
      "\n",
      "numer linii: 502, Nieposiadanietego,jeskraca.\n",
      "\n",
      "numer linii: 522, Brakjejtam,skądbympragnął.\n",
      "\n",
      "numer linii: 527, Niestety!Czemuż,zdającsięniebianką,\n",
      "\n",
      "numer linii: 537, Wtunienawiśćwielka,leczimiłość.\n",
      "\n",
      "numer linii: 539, Szorstkamiłości!nienawiścitkliwa!\n",
      "\n",
      "numer linii: 544, Śniebezsnu!towsobiezawiłość,\n",
      "\n",
      "numer linii: 556, Nadczym,poczciwaduszo\n",
      "\n",
      "numer linii: 562, Poczciwejduszytwojej\n",
      "\n",
      "numer linii: 569, Dośćmijużciężyłsmutek,tyjego\n",
      "\n",
      "numer linii: 570, Brzemiępowiększaszprzewyżkątwojego;\n",
      "\n",
      "numer linii: 571, Współczucietwojenadmoimcierpieniem\n",
      "\n",
      "numer linii: 573, Dlamegoserca.Miłośćprzyjacielu,\n",
      "\n",
      "numer linii: 577, Czymżejestwięcej?Istnymamalgamem\n",
      "\n",
      "numer linii: 578, Żółciątrawiącązbawczymbalsamem.\n",
      "\n",
      "numer linii: 603,                         Przestańdręczyć.\n",
      "\n",
      "numer linii: 604, Mam–żewrazjęczyćimówić?\n",
      "\n",
      "numer linii: 618, Dobredlatego,ktojestwtakzłymstanie?\n",
      "\n",
      "numer linii: 628, ROMEO\n",
      "\n",
      "numer linii: 629, \n",
      "\n",
      "numer linii: 630, Bieglecelujesz.Ita,którąkocham,\n",
      "\n",
      "numer linii: 631, Jestpiękna\n",
      "\n",
      "numer linii: 636,                         Wpięknyceltrafić.\n",
      "\n",
      "numer linii: 642, Kupida;onamanaturęDiany;\n",
      "\n",
      "numer linii: 655, Wiecznie–żchcesamazostaćzbogactwem?\n",
      "\n",
      "numer linii: 664, Zbytmądrzepiękna:stądistnymjestgłazem.\n",
      "\n",
      "numer linii: 665, Przysięgłanigdyniekochaćidzięki\n",
      "\n",
      "numer linii: 666, Temuskazanym-wiecznecierpiećmęki.BENWOLIO\n",
      "\n",
      "numer linii: 668, Jestnato:przestańmyślećoniej\n",
      "\n",
      "numer linii: 673, Doradź–żetakżejakimbymsposobem\n",
      "\n",
      "Niepasujące linie z drugiego pliku\n",
      "numer linii: 3, tłum.Józef\n",
      "\n",
      "numer linii: 11,  *PARYS—młodyWeroneńczykszlachetnegorodu,krewnyksięcia\n",
      "\n",
      "numer linii: 15,  MERKUCJOkrewnyksięcia\n",
      "\n",
      "numer linii: 18,  *LAURENTY—ojciecfranciszkanin\n",
      "\n",
      "numer linii: 20,  BALTAZAR—służącyRomea\n",
      "\n",
      "numer linii: 22,  *ABRAHAM—służącyMontekiego\n",
      "\n",
      "numer linii: 23,  *APTEKARZ\n",
      "\n",
      "numer linii: 24,  *TRZECHMUZYKANTÓW*PAŹPARYSA\n",
      "\n",
      "numer linii: 25,  *\n",
      "\n",
      "numer linii: 27,  *PANIMONTEKI—małżonkaMontekiego\n",
      "\n",
      "numer linii: 31,  *Obywatele,różneosobypłciobojej,liczącysiędoprzyjaciółobudomów,maski,strażwojskowaiinneosoby.\n",
      "\n",
      "numer linii: 32, \n",
      "\n",
      "numer linii: 33, \n",
      "\n",
      "numer linii: 34, \n",
      "\n",
      "numer linii: 35, \n",
      "\n",
      "numer linii: 36, RzeczodbywasięprzezwiększączęśćsztukiwWeronie,przezczęśćpiątegoaktuwMantui.\n",
      "\n",
      "numer linii: 44, Dwarody,zacnejednakoisławne—\n",
      "\n",
      "numer linii: 46, Donowejzbrodnipchajązłościdawne,\n",
      "\n",
      "numer linii: 81, Masię,bobyśmybylizdziercami.\n",
      "\n",
      "numer linii: 84, SAMSONAlebędziemydarlikoty,jakznamizadrą.\n",
      "\n",
      "numer linii: 89, Ktozechcez,będziemusiałzadrżeć\n",
      "\n",
      "numer linii: 99, ,aleniezarazzwykłeśsiędaćrozruchać.\n",
      "\n",
      "numer linii: 109, Rozruchaćsiętyleznaczycoruszyćsięzmiejsca;byćjeststaćnieporuszenie:pojmujęwięc,żeskutkiemrozruchaniasiętwegobędzie-drapnięcie.\n",
      "\n",
      "numer linii: 114, TepsyzdomuMontekichrozruchaćmięmogątylkodostanianamiejscu.jakmurdlakażdegomężczyznyikażdejkobietyztegodomu.\n",
      "\n",
      "numer linii: 124, Prawda,dlategotokobiety,jakonajsłabsze,tuląsięzawszedomuru.JateżodtrącęodmuruludziMontekich,akobietyMontekichprzyprędomuru.\n",
      "\n",
      "numer linii: 129, Spórjesttylkomiędzynaszymiimiędzynami,ichludźmi.\n",
      "\n",
      "numer linii: 134, Mniejszamioto,będęnieubłagany.Pobiwszyludzi,wywręwściekłośćnakobietach:rzeźmiędzynimisprawię.\n",
      "\n",
      "numer linii: 144, Nieinaczej:wtłoczęmieczwkażdąpokolei.Wiadomo,żesiędolwówliczę.\n",
      "\n",
      "numer linii: 149, Tymlepiej,żesięliczyszdozwierząt;bogdybyśliczyłdoryb,tobyłbyśpewniesztokfiszem.Weźnosięzainstrument,bootonadchodzidwóchdomownikówMontekiego.\n",
      "\n",
      "numer linii: 151, /WchodząAbrahamiBaltazar./SAMSON\n",
      "\n",
      "numer linii: 153, giwerjużdobyty:zaczepich,jastanęztyłu.\n",
      "\n",
      "numer linii: 173, Miejmyprawozasobą,niechzaczną.\n",
      "\n",
      "numer linii: 178, Marsaimnastawięprzechodząc;niechgosobiejakchcą,tłumaczą.\n",
      "\n",
      "numer linii: 183, Niejak,alejakśmią.Jaimgębęwykrzywię;hańbaim,jeślitościerpią.\n",
      "\n",
      "numer linii: 196, ABRAHAM\n",
      "\n",
      "numer linii: 201, SAMSON\n",
      "\n",
      "numer linii: 205, Będziemy–żmieliprawozasobą,powiem:takjest?\n",
      "\n",
      "numer linii: 213, SAMSON\n",
      "\n",
      "numer linii: 232, Jeżelijejszukasz,tojestemwaścineusługi.Mójpantakdobryjakiwasz.\n",
      "\n",
      "numer linii: 236, \n",
      "\n",
      "numer linii: 237, Nielepszy.\n",
      "\n",
      "numer linii: 238, \n",
      "\n",
      "numer linii: 240, SAMSON\n",
      "\n",
      "numer linii: 244, /Benwoliosięwgłębi./\n",
      "\n",
      "numer linii: 262, \n",
      "\n",
      "numer linii: 264, SAMSONDobądźciemieczów,jeślimaciesercaGrzegorzu,pamiętajoswoimpchnięciu.\n",
      "\n",
      "numer linii: 267, BENWOLIO\n",
      "\n",
      "numer linii: 269, Odstąpcie,głupcy;schowajciemieczedopochew.Saminiewiecie,corobicie.\n",
      "\n",
      "numer linii: 273, /WchodziTybalt./\n",
      "\n",
      "numer linii: 279, mnie,Benwolio!pilnujswegożycia.\n",
      "\n",
      "numer linii: 284, Przywracampokój.Włóżmiecznazad\n",
      "\n",
      "numer linii: 290, Zgołymorężempokój?Nienawidzę\n",
      "\n",
      "numer linii: 295, /Walczą.Nadchodzikilkuprzyjaciółobuimieszająsiędozwady;wkrótcepotemwchodząmieszczaniezpałkami./\n",
      "\n",
      "numer linii: 298, OBYWATEL\n",
      "\n",
      "numer linii: 301, PreczzMontekimi,preczz!\n",
      "\n",
      "numer linii: 303, /WchodząKapuletiPani/\n",
      "\n",
      "numer linii: 308, Cozahałas?Podajciemidługi\n",
      "\n",
      "numer linii: 314, Raczejkulę;cocizmiecza?\n",
      "\n",
      "numer linii: 322, /WchodząMontekiiPaniMonteki./\n",
      "\n",
      "numer linii: 329, dożony/\n",
      "\n",
      "numer linii: 336, Niepuszczęcięnakrok,gdywrógprzedtobą.\n",
      "\n",
      "numer linii: 339, \n",
      "\n",
      "numer linii: 344, Bezcześcicielebratniejstali!Cóżto\n",
      "\n",
      "numer linii: 347, Wwłasnychżyłswoichpurpurowym;\n",
      "\n",
      "numer linii: 349, Zdłoniskrwawionychtębroń\n",
      "\n",
      "numer linii: 355, Takżepoważniwiekiemizasługą\n",
      "\n",
      "numer linii: 358, Istaredłoniestareująćmiecze,\n",
      "\n",
      "numer linii: 359, Byzardzewiałymostrzemzardzewiałe\n",
      "\n",
      "numer linii: 365, TyzaśMonteki,przyjdzieszpołudniu\n",
      "\n",
      "numer linii: 367, Dalszawolaoznajmionabędzie.\n",
      "\n",
      "numer linii: 368, Jeszczerazwzywamwszystkichtuobecnych\n",
      "\n",
      "numer linii: 369, Podkarąśmierciabyrozeszli.\n",
      "\n",
      "numer linii: 376, Ktowszcząłtęnowązwadę?Mów,synowcze,\n",
      "\n",
      "numer linii: 385, WtemwpadłszalonyTybaltzgołymmieczem\n",
      "\n",
      "numer linii: 403, Godzinąpierwejnimwspaniałesłońce\n",
      "\n",
      "numer linii: 406, Wsykomorowyówgaj,cosięciągnie\n",
      "\n",
      "numer linii: 408, Tam,takrano,synwaszsięprzechadzał.\n",
      "\n",
      "numer linii: 411, Inajciemniejszejukryłsięgęstwinie.\n",
      "\n",
      "numer linii: 416, Iwinnąstronęsięudałemchętnie\n",
      "\n",
      "numer linii: 422, Nierazoświciejużgotamwidziano\n",
      "\n",
      "numer linii: 423, Łzamiporannąmnożącegorosę,\n",
      "\n",
      "numer linii: 428, On,uciekającodwidoku,\n",
      "\n",
      "numer linii: 429, Cotchuzamykałsięwswoimpokoju;\n",
      "\n",
      "numer linii: 431, sztucznąsobieutwarzał.\n",
      "\n",
      "numer linii: 433, Jeślisięnatolekarstwonieznajdzie.\n",
      "\n",
      "numer linii: 438, Szanownystryju,znasz–żepowódtego?\n",
      "\n",
      "numer linii: 448, Wybadywałżeśgojakimsposobem?MONTEKI\n",
      "\n",
      "numer linii: 452, Takimwierny,takzamkniętywsobie,\n",
      "\n",
      "numer linii: 458, Niezbrakłobynamzaradczegośrodka.\n",
      "\n",
      "numer linii: 472, Mógłbyćszczęśliwszymnas!Pójdźmy,pani.\n",
      "\n",
      "numer linii: 473, \n",
      "\n",
      "numer linii: 474, /WychodząMontekiiPaniMonteki./\n",
      "\n",
      "numer linii: 475, \n",
      "\n",
      "numer linii: 477, BENWOLIO\n",
      "\n",
      "numer linii: 479, Dzieńdobry,bracie.\n",
      "\n",
      "numer linii: 492, ROMEOJaknudnie\n",
      "\n",
      "numer linii: 493, Wlokąsię.Moi–żtorodzice\n",
      "\n",
      "numer linii: 494, Takspieszniewtamtązboczyliulicę?\n",
      "\n",
      "numer linii: 499, Takjest.Leczcóżchwiletwojedłuży?\n",
      "\n",
      "numer linii: 504, Nieposiadanietego,cojeskraca.\n",
      "\n",
      "numer linii: 524, Brakjejtam,skądbympragnąłwzajemności.\n",
      "\n",
      "numer linii: 529, !Czemuż,zdającsięniebianką,\n",
      "\n",
      "numer linii: 539, Wgrzetunienawiśćwielka,leczimiłość.\n",
      "\n",
      "numer linii: 541, Szorstkamiłości!nienawiścitkliwa\n",
      "\n",
      "numer linii: 546, Śniebezsnu!Takątowsobiezawiłość,\n",
      "\n",
      "numer linii: 558, Nad,poczciwaduszo?\n",
      "\n",
      "numer linii: 564, Poczciwejduszytwojej.\n",
      "\n",
      "numer linii: 571, Dośćmijużciężyłmójsmutek,tyjego\n",
      "\n",
      "numer linii: 572, Brzemiępowiększaszprzewyżkątwojego\n",
      "\n",
      "numer linii: 573, Współczucietwojenadcierpieniem\n",
      "\n",
      "numer linii: 575, Dlamegoserca.Miłość,przyjacielu,\n",
      "\n",
      "numer linii: 579, Czymżejestwięcej?amalgamem\n",
      "\n",
      "numer linii: 580, trawiącąizbawczymbalsamem.\n",
      "\n",
      "numer linii: 605,                         Przestańmiędręczyć.\n",
      "\n",
      "numer linii: 606, Mamżewrazjęczyćimówić?\n",
      "\n",
      "numer linii: 620, tego,ktojestwtakzłymstanie?\n",
      "\n",
      "numer linii: 630, ROMEOBieglecelujesz.Ita,którąkocham,\n",
      "\n",
      "numer linii: 631, Jestpiękna.\n",
      "\n",
      "numer linii: 636,                         Wpięknyceltrafićnajłatwiej.\n",
      "\n",
      "numer linii: 642, Kupida;onamanaturęDiany\n",
      "\n",
      "numer linii: 655, Wiecznie–żchcesamazostaćzswymbogactwem?\n",
      "\n",
      "numer linii: 664, Zbytmądrzepiękna:istnymjestgłazem.\n",
      "\n",
      "numer linii: 665, Przysięgłanigdyniei\n",
      "\n",
      "numer linii: 666, Temuskazanym-wiecznecierpiećmęki.\n",
      "\n",
      "numer linii: 667, \n",
      "\n",
      "numer linii: 668, \n",
      "\n",
      "numer linii: 669, BENWOLIO\n",
      "\n",
      "numer linii: 671, Jestnatorada:przestańmyślećoniej.\n",
      "\n",
      "numer linii: 676, –żetakże,jakimbymsposobem\n",
      "\n"
     ]
    }
   ],
   "source": [
    "find_diff(lines1, lines2)"
   ],
   "metadata": {
    "collapsed": false
   }
  },
  {
   "cell_type": "code",
   "execution_count": 18,
   "outputs": [],
   "source": [],
   "metadata": {
    "collapsed": false
   }
  }
 ],
 "metadata": {
  "kernelspec": {
   "display_name": "Python 3",
   "language": "python",
   "name": "python3"
  },
  "language_info": {
   "codemirror_mode": {
    "name": "ipython",
    "version": 2
   },
   "file_extension": ".py",
   "mimetype": "text/x-python",
   "name": "python",
   "nbconvert_exporter": "python",
   "pygments_lexer": "ipython2",
   "version": "2.7.6"
  }
 },
 "nbformat": 4,
 "nbformat_minor": 0
}
