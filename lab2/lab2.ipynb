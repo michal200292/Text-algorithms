{
 "cells": [
  {
   "cell_type": "markdown",
   "source": [
    "# Rozwiązanie laboratorium 2"
   ],
   "metadata": {
    "collapsed": false
   }
  },
  {
   "cell_type": "code",
   "execution_count": 616,
   "outputs": [],
   "source": [
    "from queue import PriorityQueue\n",
    "from time import perf_counter"
   ],
   "metadata": {
    "collapsed": false
   }
  },
  {
   "cell_type": "markdown",
   "source": [
    "Funkcje konwertujące"
   ],
   "metadata": {
    "collapsed": false
   }
  },
  {
   "cell_type": "code",
   "execution_count": 617,
   "outputs": [],
   "source": [
    "def string_to_int(string):\n",
    "    val = 0\n",
    "    for x in string:\n",
    "        val = val << 1 | (0 if x == '0' else 1)\n",
    "    return val\n",
    "\n",
    "\n",
    "def int_to_string(x, no_of_bits):\n",
    "    string = []\n",
    "    mask = 1 << (no_of_bits - 1)\n",
    "    for _ in range(no_of_bits):\n",
    "        string.append(\"1\" if x & mask else \"0\")\n",
    "        mask >>= 1\n",
    "    return \"\".join(string)"
   ],
   "metadata": {
    "collapsed": false
   }
  },
  {
   "cell_type": "markdown",
   "source": [
    "Wczytytywanie i odczytywanie z plików binarnych/tekstowych"
   ],
   "metadata": {
    "collapsed": false
   }
  },
  {
   "cell_type": "code",
   "execution_count": 618,
   "outputs": [],
   "source": [
    "def read_file_to_string(filename):\n",
    "    with open(filename, \"r\", encoding=\"UTF-8\") as f:\n",
    "        data = f.read()\n",
    "    return data\n",
    "\n",
    "\n",
    "def read_binary_file_to_string(filename):\n",
    "    with open(filename, 'rb') as f:\n",
    "        bit_data = f.read()\n",
    "\n",
    "    data = []\n",
    "    for bit in bit_data[:-2]:\n",
    "        data.append(int_to_string(bit, 8))\n",
    "    last = \"\"\n",
    "    mask = 1 << 7\n",
    "    if bit_data[-1]:\n",
    "        for j in range(bit_data[-1]):\n",
    "            last += \"1\" if mask & bit_data[-2] else \"0\"\n",
    "            mask >>= 1\n",
    "    else:\n",
    "        for j in range(8):\n",
    "            last += \"1\" if mask & bit_data[-2] else \"0\"\n",
    "            mask >>= 1\n",
    "    data.append(last)\n",
    "    return \"\".join(data)\n",
    "\n",
    "\n",
    "def write_string_to_binary_file(filename, text):\n",
    "    b = bytearray()\n",
    "    for i in range(0, len(text), 8):\n",
    "        b.append(string_to_int(text[i:i+8]))\n",
    "\n",
    "    with open(filename, 'wb') as f:\n",
    "        f.write(b)"
   ],
   "metadata": {
    "collapsed": false
   }
  },
  {
   "cell_type": "code",
   "execution_count": 619,
   "outputs": [],
   "source": [
    "def add_last_bits(text):\n",
    "    padding_length = len(text) % 8\n",
    "    text += \"0\" * ((8 - padding_length)%8)\n",
    "    text += int_to_string(padding_length, 8)\n",
    "    return text"
   ],
   "metadata": {
    "collapsed": false
   }
  },
  {
   "cell_type": "markdown",
   "source": [
    "### Statyczne drzewo Huffmana"
   ],
   "metadata": {
    "collapsed": false
   }
  },
  {
   "cell_type": "code",
   "execution_count": 620,
   "outputs": [],
   "source": [
    "class StaticNode:\n",
    "    def __init__(self, character=None):\n",
    "        self.character = character\n",
    "        self.left = None\n",
    "        self.right = None\n",
    "\n",
    "class StaticHuffman:\n",
    "    def __init__(self):\n",
    "        self.tree_root = None\n",
    "        self.frequency_dict = {}\n",
    "        self.code_dict = {}\n",
    "\n",
    "    def build_frequency_dict(self, data):\n",
    "        for c in data:\n",
    "            if c not in self.frequency_dict:\n",
    "                self.frequency_dict[c] = 1\n",
    "            else:\n",
    "                self.frequency_dict[c] += 1\n",
    "\n",
    "    def build_tree(self):\n",
    "        pq = PriorityQueue()\n",
    "        for c in self.frequency_dict:\n",
    "            pq.put((self.frequency_dict[c], c, StaticNode(c)))\n",
    "\n",
    "        while True:\n",
    "            freq1, str1, node1 = pq.get()\n",
    "            if pq.empty():\n",
    "                self.tree_root = node1\n",
    "                return\n",
    "            freq2, str2, node2 = pq.get()\n",
    "            new_node = StaticNode()\n",
    "            new_node.left = node1\n",
    "            new_node.right = node2\n",
    "            pq.put((freq1 + freq2, str1 + str2, new_node))\n",
    "\n",
    "    def code_characters(self):\n",
    "        def traverse_tree(node, code=\"\"):\n",
    "            if node.character is not None:\n",
    "                self.code_dict[node.character] = code\n",
    "            else:\n",
    "                traverse_tree(node.left, code + '0')\n",
    "                traverse_tree(node.right, code + '1')\n",
    "\n",
    "        traverse_tree(self.tree_root, code=\"\")\n",
    "\n",
    "    def encode_text(self, text):\n",
    "        self.build_frequency_dict(text)\n",
    "        self.build_tree()\n",
    "        self.code_characters()\n",
    "        encoded = []\n",
    "        for c in text:\n",
    "            encoded.append(self.code_dict[c])\n",
    "        return add_last_bits(\"\".join(encoded))\n",
    "\n",
    "    def decode_text(self, text):\n",
    "        ind = 0\n",
    "        decoded = []\n",
    "        while ind < len(text):\n",
    "            ptr = self.tree_root\n",
    "            while ptr.character is None:\n",
    "                ptr = ptr.left if text[ind] == '0' else ptr.right\n",
    "                ind += 1\n",
    "            decoded.append(ptr.character)\n",
    "        return \"\".join(decoded)"
   ],
   "metadata": {
    "collapsed": false
   }
  },
  {
   "cell_type": "code",
   "execution_count": 621,
   "outputs": [],
   "source": [
    "file = read_file_to_string(\"pan-tadeusz.txt\")"
   ],
   "metadata": {
    "collapsed": false
   }
  },
  {
   "cell_type": "code",
   "execution_count": 622,
   "outputs": [],
   "source": [
    "# static_tree = StaticHuffman()\n",
    "# encoded_text = static_tree.encode_text(file)\n",
    "# write_string_to_binary_file(\"tak1\", encoded_text)\n",
    "# decoded_text = static_tree.decode_text(read_binary_file_to_string(\"tak1\"))\n",
    "# print(decoded_text == file)"
   ],
   "metadata": {
    "collapsed": false
   }
  },
  {
   "cell_type": "markdown",
   "source": [
    "### Dynamiczne drzewo Huffmana"
   ],
   "metadata": {
    "collapsed": false
   }
  },
  {
   "cell_type": "code",
   "execution_count": 623,
   "outputs": [],
   "source": [
    "class AdaptiveNode:\n",
    "    def __init__(self, index, weight, character, external):\n",
    "        self.index = index\n",
    "        self.weight = weight\n",
    "        self.character = character\n",
    "        self.external = external\n",
    "        self.left = None\n",
    "        self.right = None\n",
    "        self.parent = None\n",
    "\n",
    "\n",
    "def interchange(node, change):\n",
    "    if change != node:\n",
    "        change.index, node.index = node.index, change.index\n",
    "        parent_change, parent_node = change.parent, node.parent\n",
    "        if parent_change.left == change:\n",
    "            if parent_node.left == node:\n",
    "                parent_change.left, parent_node.left = node, change\n",
    "            else:\n",
    "                parent_change.left, parent_node.right = node, change\n",
    "        else:\n",
    "            if parent_node.left == node:\n",
    "                parent_change.right, parent_node.left = node, change\n",
    "            else:\n",
    "                parent_change.right, parent_node.right = node, change\n",
    "        node.parent, change.parent = parent_change, parent_node\n",
    "\n",
    "\n",
    "def update_weight(node, node_dict):\n",
    "    node_dict[node.weight].remove(node)\n",
    "    if node.weight + 1 not in node_dict:\n",
    "        node_dict[node.weight + 1] = set()\n",
    "    node_dict[node.weight + 1].add(node)\n",
    "\n",
    "\n",
    "class AdaptiveHuffman:\n",
    "    def __init__(self):\n",
    "        self.root = AdaptiveNode(1000, 0, \"NYT\", True)\n",
    "        self.NYT = self.root\n",
    "        self.free_index = 999\n",
    "        self.leaves = {}\n",
    "        self.node_weights = {1:set()}\n",
    "        self.leaf_weights = {1:set()}\n",
    "\n",
    "    def get_leaf_code(self, node):\n",
    "        code = []\n",
    "        while node != self.root:\n",
    "            code.append(\"0\" if node == node.parent.left else \"1\")\n",
    "            node = node.parent\n",
    "        return \"\".join(code)[::-1]\n",
    "\n",
    "    def add_new_node(self, char):\n",
    "        right_child = AdaptiveNode(self.free_index, 1, char, True)\n",
    "        self.free_index -= 1\n",
    "        left_child = AdaptiveNode(self.free_index, 0, \"NYT\", True)\n",
    "        self.free_index -= 1\n",
    "\n",
    "        internal, self.NYT = self.NYT, left_child\n",
    "\n",
    "        internal.weight = 1\n",
    "        internal.character = \"\"\n",
    "        internal.external = False\n",
    "        internal.left = left_child\n",
    "        internal.right = right_child\n",
    "\n",
    "        right_child.parent = internal\n",
    "        left_child.parent = internal\n",
    "\n",
    "        self.leaves[char] = right_child\n",
    "        self.node_weights[1].add(right_child)\n",
    "        if internal != self.root:\n",
    "            self.node_weights[1].add(internal)\n",
    "\n",
    "        self.leaf_weights[1].add(right_child)\n",
    "        self.update(internal)\n",
    "\n",
    "    def update(self, node):\n",
    "        while node != self.root:\n",
    "            if node.parent.left == self.NYT:\n",
    "                change = max(self.leaf_weights[node.weight], key=lambda item: item.index)\n",
    "                interchange(node, change)\n",
    "            else:\n",
    "                change = max(self.node_weights[node.weight], key=lambda item: item.index)\n",
    "                interchange(node, change)\n",
    "\n",
    "            if node.external:\n",
    "                update_weight(node, self.leaf_weights)\n",
    "            update_weight(node, self.node_weights)\n",
    "            node.weight += 1\n",
    "            node = node.parent\n",
    "\n",
    "        self.root.weight += 1\n",
    "\n",
    "    def encode_text(self, text):\n",
    "        encoded = []\n",
    "        for c in text:\n",
    "            if c not in self.leaves:\n",
    "                encoded.append(self.get_leaf_code(self.NYT))\n",
    "                encoded.append(int_to_string(ord(c), 16))\n",
    "                self.add_new_node(c)\n",
    "            else:\n",
    "                encoded.append(self.get_leaf_code(self.leaves[c]))\n",
    "                self.update(self.leaves[c])\n",
    "\n",
    "        return add_last_bits(\"\".join(encoded))\n",
    "\n",
    "\n",
    "    def decode_text(self, text):\n",
    "        decoded = []\n",
    "        ind = 0\n",
    "        while ind < len(text):\n",
    "            ptr = self.root\n",
    "            while not ptr.external:\n",
    "                ptr = ptr.left if text[ind] == '0' else ptr.right\n",
    "                ind += 1\n",
    "\n",
    "            if ptr == self.NYT:\n",
    "                new_char = chr(string_to_int(text[ind:ind+16]))\n",
    "                decoded.append(new_char)\n",
    "                self.add_new_node(new_char)\n",
    "                ind += 16\n",
    "            else:\n",
    "                decoded.append(ptr.character)\n",
    "                self.update(ptr)\n",
    "        return \"\".join(decoded)"
   ],
   "metadata": {
    "collapsed": false
   }
  },
  {
   "cell_type": "code",
   "execution_count": 673,
   "outputs": [],
   "source": [
    "file_content = read_file_to_string(\"random_files/file_size_1000kb.txt\")"
   ],
   "metadata": {
    "collapsed": false
   }
  },
  {
   "cell_type": "code",
   "execution_count": null,
   "outputs": [],
   "source": [
    "# tree = AdaptiveHuffman()\n",
    "# t = perf_counter()\n",
    "# output = tree.encode_text(file_content)\n",
    "# print(perf_counter() - t)\n",
    "# write_string_to_binary_file(\"tak2\", output)\n",
    "# to_decode = read_binary_file_to_string(\"tak2\")\n",
    "# tree2 = AdaptiveHuffman()\n",
    "# t = perf_counter()\n",
    "# output2 = tree2.decode_text(to_decode)\n",
    "# print(perf_counter() - t)\n",
    "# print(output2==file_content)"
   ],
   "metadata": {
    "collapsed": false,
    "pycharm": {
     "is_executing": true
    }
   }
  },
  {
   "cell_type": "markdown",
   "source": [
    "### Algorytm o zmiennym bloku kompresji LZW (Lempel–Ziv–Welch)"
   ],
   "metadata": {
    "collapsed": false
   }
  },
  {
   "cell_type": "code",
   "execution_count": null,
   "outputs": [],
   "source": [
    "def encoding():\n",
    "    pass\n",
    "\n",
    "\n",
    "def decoding():\n",
    "    pass"
   ],
   "metadata": {
    "collapsed": false
   }
  },
  {
   "cell_type": "code",
   "execution_count": null,
   "outputs": [],
   "source": [],
   "metadata": {
    "collapsed": false
   }
  }
 ],
 "metadata": {
  "kernelspec": {
   "display_name": "Python 3",
   "language": "python",
   "name": "python3"
  },
  "language_info": {
   "codemirror_mode": {
    "name": "ipython",
    "version": 2
   },
   "file_extension": ".py",
   "mimetype": "text/x-python",
   "name": "python",
   "nbconvert_exporter": "python",
   "pygments_lexer": "ipython2",
   "version": "2.7.6"
  }
 },
 "nbformat": 4,
 "nbformat_minor": 0
}
