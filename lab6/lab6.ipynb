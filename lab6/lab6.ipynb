{
 "cells": [
  {
   "cell_type": "code",
   "execution_count": 13,
   "metadata": {
    "collapsed": true
   },
   "outputs": [],
   "source": [
    "from random import randrange"
   ]
  },
  {
   "cell_type": "code",
   "execution_count": 14,
   "outputs": [],
   "source": [
    "test_words = [\n",
    "    \"bbb$\",\n",
    "    \"aabbabd$\",\n",
    "    \"ababcd$\",\n",
    "    \"abaababaabaabaabab$\",\n",
    "    \"\".join([chr(randrange(97, 99)) for _ in range(100)])]\n",
    "\n",
    "with open(\"1997_714_head.txt\", \"r\", encoding='UTF-8') as f:\n",
    "    test_words.append(f.read())\n",
    "\n",
    "test_words[-1] = test_words[-1] + '$'\n",
    "test_words[-2] = test_words[-2] + '$'"
   ],
   "metadata": {
    "collapsed": false
   }
  },
  {
   "cell_type": "code",
   "execution_count": 15,
   "outputs": [],
   "source": [
    "def build_kmp_table(pattern):\n",
    "    m = len(pattern)\n",
    "    pi = [0 for _ in range(m)]\n",
    "    k = 0\n",
    "    for i in range(1, m):\n",
    "        while k > 0 and pattern[i] != pattern[k]:\n",
    "            k = pi[k-1]\n",
    "        if pattern[i] == pattern[k]:\n",
    "            k += 1\n",
    "        pi[i] = k\n",
    "    return pi\n",
    "\n",
    "def kmp(pattern, text):\n",
    "    m = len(pattern)\n",
    "    pi = build_kmp_table(pattern)\n",
    "    ans = []\n",
    "    i = 0\n",
    "    j = 0\n",
    "    while j < len(text):\n",
    "        while i > 0 and pattern[i] != text[j]:\n",
    "            i = pi[i - 1]\n",
    "        if pattern[i] == text[j]:\n",
    "            i += 1\n",
    "        if i == m:\n",
    "            ans.append(j)\n",
    "            i = pi[-1]\n",
    "        j += 1\n",
    "    return ans"
   ],
   "metadata": {
    "collapsed": false
   }
  },
  {
   "cell_type": "code",
   "execution_count": 16,
   "outputs": [],
   "source": [
    "from time import perf_counter\n",
    "\n",
    "def timeit(func):\n",
    "    def wrapper(*args, **kwargs):\n",
    "        t1 = perf_counter()\n",
    "        res = func(*args, **kwargs)\n",
    "        t2 = perf_counter()\n",
    "        return res, round(t2 - t1, 4)\n",
    "    return wrapper"
   ],
   "metadata": {
    "collapsed": false
   }
  },
  {
   "cell_type": "code",
   "execution_count": 17,
   "outputs": [],
   "source": [
    "from abc import ABC, abstractmethod\n",
    "\n",
    "class Tree(ABC):\n",
    "    def __init__(self, text):\n",
    "        self.text = text\n",
    "        self.root = None\n",
    "\n",
    "    @abstractmethod\n",
    "    def find_word(self, word):\n",
    "        pass\n",
    "\n",
    "    @abstractmethod\n",
    "    def initiate_trie(self, *args):\n",
    "        pass"
   ],
   "metadata": {
    "collapsed": false
   }
  },
  {
   "cell_type": "code",
   "execution_count": 18,
   "outputs": [],
   "source": [
    "from math import inf\n",
    "\n",
    "class TrieNode:\n",
    "    count = 0\n",
    "    def __init__(self, begin=0, length=inf, link=None):\n",
    "        self.begin = begin\n",
    "        self.length = length\n",
    "        self.edges = {}\n",
    "        self.suffix_link = link\n",
    "\n",
    "def add_word(root, word):\n",
    "    cur = root\n",
    "    for letter in word:\n",
    "        if letter not in cur.edges:\n",
    "            cur.edges[letter] = TrieNode()\n",
    "        cur = cur.edges[letter]\n",
    "\n",
    "@timeit\n",
    "def build_regular_trie(text):\n",
    "    root = TrieNode()\n",
    "    for i in range(len(text)):\n",
    "        add_word(root, text[i:])\n",
    "    return root\n",
    "\n",
    "\n",
    "def find_word_trie(root, word):\n",
    "    cur = root\n",
    "    for x in word:\n",
    "        if x not in cur.edges:\n",
    "            return False\n",
    "        cur = cur.edges[x]\n",
    "    return True\n",
    "\n",
    "class RegularTrie(Tree):\n",
    "    def find_word(self, word):\n",
    "        return find_word_trie(self.root, word)\n",
    "\n",
    "    def initiate_trie(self):\n",
    "        self.root, time = build_regular_trie(self.text)\n",
    "        return time"
   ],
   "metadata": {
    "collapsed": false
   }
  },
  {
   "cell_type": "code",
   "execution_count": 19,
   "outputs": [],
   "source": [
    "@timeit\n",
    "def build_linked_trie(text):\n",
    "    root = TrieNode()\n",
    "    deepest = root\n",
    "    for letter in text:\n",
    "        cur = deepest\n",
    "        prev = deepest = cur.edges[letter] = TrieNode(link=root)\n",
    "        cur = cur.suffix_link\n",
    "        while cur is not None:\n",
    "            if letter not in cur.edges:\n",
    "                cur.edges[letter] = TrieNode(link=root)\n",
    "            prev.suffix_link = cur.edges[letter]\n",
    "            prev = cur.edges[letter]\n",
    "            cur = cur.suffix_link\n",
    "    return root\n",
    "\n",
    "class LinkedTrie(Tree):\n",
    "    def find_word(self, word):\n",
    "        return find_word_trie(self.root, word)\n",
    "\n",
    "    def initiate_trie(self):\n",
    "        self.root, time = build_linked_trie(self.text)\n",
    "        return time"
   ],
   "metadata": {
    "collapsed": false
   }
  },
  {
   "cell_type": "code",
   "execution_count": 20,
   "outputs": [],
   "source": [
    "def add_suffix(node, ind, text):\n",
    "    length = 0\n",
    "    edge = None\n",
    "    for i in range(ind, len(text)):\n",
    "        letter = text[i]\n",
    "        if length == 0:\n",
    "            if letter not in node.edges:\n",
    "                node.edges[letter] = TrieNode(i)\n",
    "                return\n",
    "            edge = node.edges[letter]\n",
    "        if text[edge.begin + length] != letter:\n",
    "            break\n",
    "        length += 1\n",
    "        if length >= edge.length:\n",
    "            node = edge\n",
    "            length = 0\n",
    "    else:\n",
    "        return\n",
    "\n",
    "    new_node = TrieNode(edge.begin, length)\n",
    "    node.edges[text[edge.begin]] = new_node\n",
    "    new_node.edges[text[edge.begin + length]] = edge\n",
    "    new_node.edges[text[i]] = TrieNode(i)\n",
    "    edge.begin = edge.begin + length\n",
    "    edge.length -= length\n",
    "\n",
    "\n",
    "@timeit\n",
    "def build_suffix_tree(text):\n",
    "    root = TrieNode()\n",
    "    for i in range(len(text)):\n",
    "        add_suffix(root, i, text)\n",
    "    return root\n",
    "\n",
    "\n",
    "def find_word(node, text, word):\n",
    "    length = 0\n",
    "    edge = None\n",
    "    for letter in word:\n",
    "        if length == 0:\n",
    "            if letter not in node.edges:\n",
    "                return False\n",
    "            edge = node.edges[letter]\n",
    "        if text[edge.begin + length] != letter:\n",
    "            return False\n",
    "        length += 1\n",
    "        if length >= edge.length:\n",
    "            node = edge\n",
    "            length = 0\n",
    "    return True\n",
    "\n",
    "\n",
    "class SuffixTrie(Tree):\n",
    "    def find_word(self, word):\n",
    "        return find_word(self.root, self.text, word)\n",
    "\n",
    "    def initiate_trie(self):\n",
    "        self.root, time = build_suffix_tree(self.text)\n",
    "        return time\n"
   ],
   "metadata": {
    "collapsed": false
   }
  },
  {
   "cell_type": "code",
   "execution_count": 21,
   "outputs": [],
   "source": [
    "def test_correctness(text, TreeType):\n",
    "    tree = TreeType(text)\n",
    "    build_time = tree.initiate_trie()\n",
    "    print(f\"Text size: {len(text)}, Build time: {build_time}\")\n",
    "    for i in range(100):\n",
    "        left = randrange(len(text) - 1)\n",
    "        right = randrange(left + 1, len(text))\n",
    "        substring = text[left:right]\n",
    "        if i % 2:\n",
    "            m = len(substring) // 2\n",
    "            substring = substring[:m] + 'a' + substring[m:]\n",
    "        found = len(kmp(substring, text)) > 0\n",
    "        assert tree.find_word(substring) == found, \"Not OK\"\n",
    "    else:\n",
    "        print(\"Tests passed\\n\")"
   ],
   "metadata": {
    "collapsed": false
   }
  },
  {
   "cell_type": "code",
   "execution_count": 23,
   "outputs": [
    {
     "name": "stdout",
     "output_type": "stream",
     "text": [
      "Text size: 4, Build time: 0.0\n",
      "Tests passed\n",
      "\n",
      "Text size: 8, Build time: 0.0\n",
      "Tests passed\n",
      "\n",
      "Text size: 7, Build time: 0.0\n",
      "Tests passed\n",
      "\n",
      "Text size: 19, Build time: 0.0002\n",
      "Tests passed\n",
      "\n",
      "Text size: 101, Build time: 0.0071\n",
      "Tests passed\n",
      "\n",
      "Text size: 2482, Build time: 12.5232\n",
      "Tests passed\n",
      "\n"
     ]
    }
   ],
   "source": [
    "for t in test_words:\n",
    "    test_correctness(t, LinkedTrie)"
   ],
   "metadata": {
    "collapsed": false
   }
  },
  {
   "cell_type": "code",
   "execution_count": 24,
   "outputs": [
    {
     "name": "stdout",
     "output_type": "stream",
     "text": [
      "Text size: 4, Build time: 0.0\n",
      "Tests passed\n",
      "\n",
      "Text size: 8, Build time: 0.0\n",
      "Tests passed\n",
      "\n",
      "Text size: 7, Build time: 0.0\n",
      "Tests passed\n",
      "\n",
      "Text size: 19, Build time: 0.0002\n",
      "Tests passed\n",
      "\n",
      "Text size: 101, Build time: 0.0057\n",
      "Tests passed\n",
      "\n",
      "Text size: 2482, Build time: 7.1274\n",
      "Tests passed\n",
      "\n"
     ]
    }
   ],
   "source": [
    "for t in test_words:\n",
    "    test_correctness(t, RegularTrie)"
   ],
   "metadata": {
    "collapsed": false
   }
  },
  {
   "cell_type": "code",
   "execution_count": 26,
   "outputs": [
    {
     "name": "stdout",
     "output_type": "stream",
     "text": [
      "Text size: 4, Build time: 0.0\n",
      "Tests passed\n",
      "\n",
      "Text size: 8, Build time: 0.0\n",
      "Tests passed\n",
      "\n",
      "Text size: 7, Build time: 0.0\n",
      "Tests passed\n",
      "\n",
      "Text size: 19, Build time: 0.0001\n",
      "Tests passed\n",
      "\n",
      "Text size: 101, Build time: 0.0006\n",
      "Tests passed\n",
      "\n",
      "Text size: 2482, Build time: 0.0243\n",
      "Tests passed\n",
      "\n"
     ]
    }
   ],
   "source": [
    "for t in test_words:\n",
    "    test_correctness(t, SuffixTrie)"
   ],
   "metadata": {
    "collapsed": false
   }
  },
  {
   "cell_type": "code",
   "execution_count": null,
   "outputs": [],
   "source": [
    "def ukkonnen(text):\n",
    "    pass"
   ],
   "metadata": {
    "collapsed": false
   }
  },
  {
   "cell_type": "code",
   "execution_count": 125,
   "outputs": [],
   "source": [],
   "metadata": {
    "collapsed": false
   }
  },
  {
   "cell_type": "code",
   "execution_count": null,
   "outputs": [],
   "source": [
    "# for t in test_words:\n",
    "#     test_correctness(t, SuffixTree)"
   ],
   "metadata": {
    "collapsed": false,
    "pycharm": {
     "is_executing": true
    }
   }
  }
 ],
 "metadata": {
  "kernelspec": {
   "display_name": "Python 3",
   "language": "python",
   "name": "python3"
  },
  "language_info": {
   "codemirror_mode": {
    "name": "ipython",
    "version": 2
   },
   "file_extension": ".py",
   "mimetype": "text/x-python",
   "name": "python",
   "nbconvert_exporter": "python",
   "pygments_lexer": "ipython2",
   "version": "2.7.6"
  }
 },
 "nbformat": 4,
 "nbformat_minor": 0
}
