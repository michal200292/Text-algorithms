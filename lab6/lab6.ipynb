{
 "cells": [
  {
   "cell_type": "code",
   "execution_count": 1,
   "metadata": {
    "collapsed": true
   },
   "outputs": [],
   "source": [
    "from random import randrange"
   ]
  },
  {
   "cell_type": "code",
   "execution_count": 2,
   "outputs": [],
   "source": [
    "test_words = [\n",
    "    \"bbb$\",\n",
    "    \"aabbabd$\",\n",
    "    \"ababcd$\",\n",
    "    \"abaababaabaabaabab$\",\n",
    "    \"\".join([chr(randrange(97, 98)) for _ in range(1000)])]\n",
    "\n",
    "with open(\"1997_714_head.txt\", \"r\", encoding='UTF-8') as f:\n",
    "    test_words.append(f.read())\n",
    "\n",
    "test_words[-1] = test_words[-1] + '$'\n",
    "test_words[-2] = test_words[-2] + '$'"
   ],
   "metadata": {
    "collapsed": false
   }
  },
  {
   "cell_type": "code",
   "execution_count": 3,
   "outputs": [],
   "source": [
    "def build_kmp_table(pattern):\n",
    "    m = len(pattern)\n",
    "    pi = [0 for _ in range(m)]\n",
    "    k = 0\n",
    "    for i in range(1, m):\n",
    "        while k > 0 and pattern[i] != pattern[k]:\n",
    "            k = pi[k-1]\n",
    "        if pattern[i] == pattern[k]:\n",
    "            k += 1\n",
    "        pi[i] = k\n",
    "    return pi\n",
    "\n",
    "def kmp(pattern, text):\n",
    "    m = len(pattern)\n",
    "    pi = build_kmp_table(pattern)\n",
    "    ans = []\n",
    "    i = 0\n",
    "    j = 0\n",
    "    while j < len(text):\n",
    "        while i > 0 and pattern[i] != text[j]:\n",
    "            i = pi[i - 1]\n",
    "        if pattern[i] == text[j]:\n",
    "            i += 1\n",
    "        if i == m:\n",
    "            ans.append(j)\n",
    "            i = pi[-1]\n",
    "        j += 1\n",
    "    return ans"
   ],
   "metadata": {
    "collapsed": false
   }
  },
  {
   "cell_type": "code",
   "execution_count": 4,
   "outputs": [],
   "source": [
    "from time import perf_counter\n",
    "\n",
    "def timeit(func):\n",
    "    def wrapper(*args, **kwargs):\n",
    "        t1 = perf_counter()\n",
    "        res = func(*args, **kwargs)\n",
    "        t2 = perf_counter()\n",
    "        return res, round(t2 - t1, 4)\n",
    "    return wrapper"
   ],
   "metadata": {
    "collapsed": false
   }
  },
  {
   "cell_type": "code",
   "execution_count": 5,
   "outputs": [],
   "source": [
    "from abc import ABC, abstractmethod\n",
    "\n",
    "class Tree(ABC):\n",
    "    def __init__(self, text):\n",
    "        self.text = text\n",
    "        self.root = None\n",
    "\n",
    "    @abstractmethod\n",
    "    def find_word(self, word):\n",
    "        pass\n",
    "\n",
    "    @abstractmethod\n",
    "    def initiate_trie(self, *args):\n",
    "        pass"
   ],
   "metadata": {
    "collapsed": false
   }
  },
  {
   "cell_type": "code",
   "execution_count": 13,
   "outputs": [],
   "source": [
    "from math import inf\n",
    "\n",
    "class Node:\n",
    "    def __init__(self, begin=0, length=inf, link=None):\n",
    "        self.begin = begin\n",
    "        self.length = length\n",
    "        self.edges = {}\n",
    "        self.suffix = link\n",
    "\n",
    "def add_word(root, word):\n",
    "    cur = root\n",
    "    for letter in word:\n",
    "        if letter not in cur.edges:\n",
    "            cur.edges[letter] = Node()\n",
    "        cur = cur.edges[letter]\n",
    "\n",
    "@timeit\n",
    "def build_regular_trie(text):\n",
    "    root = Node()\n",
    "    for i in range(len(text)):\n",
    "        add_word(root, text[i:])\n",
    "    return root\n",
    "\n",
    "\n",
    "def find_word_trie(root, word):\n",
    "    cur = root\n",
    "    for x in word:\n",
    "        if x not in cur.edges:\n",
    "            return False\n",
    "        cur = cur.edges[x]\n",
    "    return True\n",
    "\n",
    "class RegularTrie(Tree):\n",
    "    def find_word(self, word):\n",
    "        return find_word_trie(self.root, word)\n",
    "\n",
    "    def initiate_trie(self):\n",
    "        self.root, time = build_regular_trie(self.text)\n",
    "        return time"
   ],
   "metadata": {
    "collapsed": false
   }
  },
  {
   "cell_type": "code",
   "execution_count": 14,
   "outputs": [],
   "source": [
    "@timeit\n",
    "def build_linked_trie(text):\n",
    "    root = Node()\n",
    "    deepest = root\n",
    "    for letter in text:\n",
    "        cur = deepest\n",
    "        prev = deepest = cur.edges[letter] = Node(link=root)\n",
    "        cur = cur.suffix\n",
    "        while cur is not None:\n",
    "            if letter not in cur.edges:\n",
    "                cur.edges[letter] = Node(link=root)\n",
    "            prev.suffix = cur.edges[letter]\n",
    "            prev = cur.edges[letter]\n",
    "            cur = cur.suffix\n",
    "    return root\n",
    "\n",
    "class LinkedTrie(RegularTrie):\n",
    "    def initiate_trie(self):\n",
    "        self.root, time = build_linked_trie(self.text)\n",
    "        return time"
   ],
   "metadata": {
    "collapsed": false
   }
  },
  {
   "cell_type": "code",
   "execution_count": 15,
   "outputs": [],
   "source": [
    "def add_suffix(node, ind, text):\n",
    "    length = 0\n",
    "    edge = None\n",
    "    for i in range(ind, len(text)):\n",
    "        letter = text[i]\n",
    "        if length == 0:\n",
    "            if letter not in node.edges:\n",
    "                node.edges[letter] = Node(i)\n",
    "                return\n",
    "            edge = node.edges[letter]\n",
    "        if text[edge.begin + length] != letter:\n",
    "            break\n",
    "        length += 1\n",
    "        if length >= edge.length:\n",
    "            node = edge\n",
    "            length = 0\n",
    "    else:\n",
    "        return\n",
    "\n",
    "    new_node = Node(edge.begin, length)\n",
    "    node.edges[text[edge.begin]] = new_node\n",
    "    new_node.edges[text[edge.begin + length]] = edge\n",
    "    new_node.edges[text[i]] = Node(i)\n",
    "    edge.begin = edge.begin + length\n",
    "    edge.length -= length\n",
    "\n",
    "\n",
    "@timeit\n",
    "def build_suffix_tree(text):\n",
    "    root = Node()\n",
    "    for i in range(len(text)):\n",
    "        add_suffix(root, i, text)\n",
    "    return root\n",
    "\n",
    "\n",
    "def find_word(node, text, word):\n",
    "    length = 0\n",
    "    edge = None\n",
    "    for letter in word:\n",
    "        if length == 0:\n",
    "            if letter not in node.edges:\n",
    "                return False\n",
    "            edge = node.edges[letter]\n",
    "        if text[edge.begin + length] != letter:\n",
    "            return False\n",
    "        length += 1\n",
    "        if length >= edge.length:\n",
    "            node = edge\n",
    "            length = 0\n",
    "    return True\n",
    "\n",
    "\n",
    "class SuffixTrie(Tree):\n",
    "    def find_word(self, word):\n",
    "        return find_word(self.root, self.text, word)\n",
    "\n",
    "    def initiate_trie(self):\n",
    "        self.root, time = build_suffix_tree(self.text)\n",
    "        return time"
   ],
   "metadata": {
    "collapsed": false
   }
  },
  {
   "cell_type": "code",
   "execution_count": 25,
   "outputs": [],
   "source": [
    "class ActivePoint:\n",
    "    def __init__(self, root, text):\n",
    "        self.tree_root = root\n",
    "        self.length = 0\n",
    "        self.edge = 0\n",
    "        self.node = root\n",
    "        self.remainder = 0\n",
    "        self.text = text\n",
    "\n",
    "    def walk_down(self, node):\n",
    "        if self.length >= node.length:\n",
    "            self.edge += node.length\n",
    "            self.length -= node.length\n",
    "            self.node = node\n",
    "            return True\n",
    "        return False\n",
    "\n",
    "@timeit\n",
    "def ukkonen(text):\n",
    "    root = Node(0, 0)\n",
    "    root.suffix = root\n",
    "    point = ActivePoint(root, text)\n",
    "\n",
    "    for i, c in enumerate(text):\n",
    "        prev = None\n",
    "        point.remainder += 1\n",
    "        while point.remainder > 0:\n",
    "            if point.length == 0:\n",
    "                point.edge = i\n",
    "            if text[point.edge] not in point.node.edges:\n",
    "                new_node = Node(i)\n",
    "                point.node.edges[text[point.edge]] = new_node\n",
    "                if prev is not None:\n",
    "                    prev.suffix = point.node\n",
    "                prev = point.node\n",
    "            else:\n",
    "                nxt = point.node.edges[text[point.edge]]\n",
    "                if point.walk_down(nxt):\n",
    "                    continue\n",
    "                if text[nxt.begin + point.length] == c:\n",
    "                    point.length += 1\n",
    "                    if prev is not None:\n",
    "                        prev.suffix = point.node\n",
    "                    break\n",
    "\n",
    "                split = Node(nxt.begin, point.length, root)\n",
    "                point.node.edges[text[point.edge]] = split\n",
    "                leaf = Node(i)\n",
    "                split.edges[c] = leaf\n",
    "                nxt.begin += point.length\n",
    "                nxt.length -= point.length\n",
    "                split.edges[text[nxt.begin]] = nxt\n",
    "                if prev is not None:\n",
    "                    prev.suffix = split\n",
    "                prev = split\n",
    "\n",
    "            point.remainder -= 1\n",
    "            if point.node == root and point.length > 0:\n",
    "                point.length -= 1\n",
    "                point.edge = i - point.remainder + 1\n",
    "            else:\n",
    "                point.node = point.node.suffix\n",
    "\n",
    "    return root\n",
    "\n",
    "class SuffixTree(SuffixTrie):\n",
    "    def initiate_trie(self):\n",
    "        self.root, time = ukkonen(self.text)\n",
    "        return time"
   ],
   "metadata": {
    "collapsed": false
   }
  },
  {
   "cell_type": "code",
   "execution_count": 26,
   "outputs": [],
   "source": [
    "def test_correctness(text, TreeType):\n",
    "    tree = TreeType(text)\n",
    "    build_time = tree.initiate_trie()\n",
    "    print(f\"Text size: {len(text)}, Build time: {build_time}\")\n",
    "    for i in range(100):\n",
    "        left = randrange(len(text) - 1)\n",
    "        right = randrange(left + 1, len(text))\n",
    "        substring = text[left:right]\n",
    "        if i % 2:\n",
    "            m = len(substring) // 2\n",
    "            substring = substring[:m] + 'a' + substring[m:]\n",
    "        found = len(kmp(substring, text)) > 0\n",
    "        assert tree.find_word(substring) == found, \"Not OK\"\n",
    "    else:\n",
    "        print(\"Tests passed\\n\")"
   ],
   "metadata": {
    "collapsed": false
   }
  },
  {
   "cell_type": "code",
   "execution_count": 27,
   "outputs": [
    {
     "name": "stdout",
     "output_type": "stream",
     "text": [
      "Text size: 4, Build time: 0.0\n",
      "Tests passed\n",
      "\n",
      "Text size: 8, Build time: 0.0001\n",
      "Tests passed\n",
      "\n",
      "Text size: 7, Build time: 0.0\n",
      "Tests passed\n",
      "\n",
      "Text size: 19, Build time: 0.0001\n",
      "Tests passed\n",
      "\n",
      "Text size: 1001, Build time: 0.0028\n",
      "Tests passed\n",
      "\n",
      "Text size: 2482, Build time: 0.0069\n",
      "Tests passed\n",
      "\n"
     ]
    }
   ],
   "source": [
    "for t in test_words:\n",
    "    test_correctness(t, SuffixTree)"
   ],
   "metadata": {
    "collapsed": false
   }
  },
  {
   "cell_type": "code",
   "execution_count": 28,
   "outputs": [
    {
     "name": "stdout",
     "output_type": "stream",
     "text": [
      "Text size: 4, Build time: 0.0\n",
      "Tests passed\n",
      "\n",
      "Text size: 8, Build time: 0.0\n",
      "Tests passed\n",
      "\n",
      "Text size: 7, Build time: 0.0\n",
      "Tests passed\n",
      "\n",
      "Text size: 19, Build time: 0.0002\n",
      "Tests passed\n",
      "\n",
      "Text size: 1001, Build time: 0.0418\n",
      "Tests passed\n",
      "\n",
      "Text size: 2482, Build time: 4.8752\n",
      "Tests passed\n",
      "\n"
     ]
    }
   ],
   "source": [
    "for t in test_words:\n",
    "    test_correctness(t, RegularTrie)"
   ],
   "metadata": {
    "collapsed": false
   }
  },
  {
   "cell_type": "code",
   "execution_count": 29,
   "outputs": [
    {
     "name": "stdout",
     "output_type": "stream",
     "text": [
      "Text size: 4, Build time: 0.0\n",
      "Tests passed\n",
      "\n",
      "Text size: 8, Build time: 0.0\n",
      "Tests passed\n",
      "\n",
      "Text size: 7, Build time: 0.0\n",
      "Tests passed\n",
      "\n",
      "Text size: 19, Build time: 0.0\n",
      "Tests passed\n",
      "\n",
      "Text size: 1001, Build time: 0.0809\n",
      "Tests passed\n",
      "\n",
      "Text size: 2482, Build time: 0.0107\n",
      "Tests passed\n",
      "\n"
     ]
    }
   ],
   "source": [
    "for t in test_words:\n",
    "    test_correctness(t, SuffixTrie)"
   ],
   "metadata": {
    "collapsed": false
   }
  },
  {
   "cell_type": "code",
   "execution_count": 30,
   "outputs": [
    {
     "name": "stdout",
     "output_type": "stream",
     "text": [
      "Text size: 4, Build time: 0.0\n",
      "Tests passed\n",
      "\n",
      "Text size: 8, Build time: 0.0\n",
      "Tests passed\n",
      "\n",
      "Text size: 7, Build time: 0.0\n",
      "Tests passed\n",
      "\n",
      "Text size: 19, Build time: 0.0001\n",
      "Tests passed\n",
      "\n",
      "Text size: 1001, Build time: 0.0663\n",
      "Tests passed\n",
      "\n",
      "Text size: 2482, Build time: 6.7894\n",
      "Tests passed\n",
      "\n"
     ]
    }
   ],
   "source": [
    "for t in test_words:\n",
    "    test_correctness(t, LinkedTrie)"
   ],
   "metadata": {
    "collapsed": false
   }
  },
  {
   "cell_type": "code",
   "execution_count": null,
   "outputs": [],
   "source": [],
   "metadata": {
    "collapsed": false
   }
  }
 ],
 "metadata": {
  "kernelspec": {
   "display_name": "Python 3",
   "language": "python",
   "name": "python3"
  },
  "language_info": {
   "codemirror_mode": {
    "name": "ipython",
    "version": 2
   },
   "file_extension": ".py",
   "mimetype": "text/x-python",
   "name": "python",
   "nbconvert_exporter": "python",
   "pygments_lexer": "ipython2",
   "version": "2.7.6"
  }
 },
 "nbformat": 4,
 "nbformat_minor": 0
}
