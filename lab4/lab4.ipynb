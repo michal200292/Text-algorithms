{
 "cells": [
  {
   "cell_type": "markdown",
   "source": [
    "# Rozwiązanie Lab 4"
   ],
   "metadata": {
    "collapsed": false
   }
  },
  {
   "cell_type": "code",
   "execution_count": 1,
   "outputs": [],
   "source": [
    "import numpy as np\n",
    "from scipy import sparse"
   ],
   "metadata": {
    "collapsed": false
   }
  },
  {
   "cell_type": "code",
   "execution_count": 2,
   "outputs": [],
   "source": [
    "with open(\"lines.txt\", \"r\", encoding=\"UTF-8\") as f1:\n",
    "    unprocessed_e_mails = f1.readlines()"
   ],
   "metadata": {
    "collapsed": false
   }
  },
  {
   "cell_type": "markdown",
   "source": [
    "#### Klasa EMAIL\n",
    "Przechowuje informacje o jednym mailu z pliku lines\n",
    "self.email - treść maila\n",
    "self.word_dict - reprezentacja maila bag_of_words, można to utożsamiać z wektorem, lecz jest to dict\n",
    "self.index_vector - przechowuje id słów, które występują w tym tekście, tej reprezentacji używam przy metrykach dice, lcs, levenshtein\n",
    "self.vector_norm - norma euklidesowa wektora"
   ],
   "metadata": {
    "collapsed": false
   }
  },
  {
   "cell_type": "code",
   "execution_count": 3,
   "outputs": [],
   "source": [
    "class EMAIL:\n",
    "    def __init__(self, email: str, word_dict: dict[str, int]):\n",
    "        self.email: str = email\n",
    "        self.word_dict : dict[str, int] = word_dict\n",
    "        self.index_vector = None\n",
    "        self.vector_norm = 1"
   ],
   "metadata": {
    "collapsed": false
   }
  },
  {
   "cell_type": "markdown",
   "source": [
    "Processing tekstu"
   ],
   "metadata": {
    "collapsed": false
   }
  },
  {
   "cell_type": "code",
   "execution_count": 4,
   "outputs": [],
   "source": [
    "from nltk.tokenize import word_tokenize\n",
    "from nltk.probability import FreqDist\n",
    "from string import punctuation\n",
    "\n",
    "def process_text(email: str) -> EMAIL:\n",
    "    text = \"\".join(list(map(lambda c: \" \" if c in punctuation else c, email)))\n",
    "    words = [word.lower() for word in word_tokenize(text)]\n",
    "    return EMAIL(email, dict(FreqDist(words)))"
   ],
   "metadata": {
    "collapsed": false
   }
  },
  {
   "cell_type": "code",
   "execution_count": 5,
   "outputs": [],
   "source": [
    "emails = list(map(process_text, unprocessed_e_mails))"
   ],
   "metadata": {
    "collapsed": false
   }
  },
  {
   "cell_type": "markdown",
   "source": [
    "Tworzenie alfabetu (biorę wszystkie słowa jakie występują w tekstach)"
   ],
   "metadata": {
    "collapsed": false
   }
  },
  {
   "cell_type": "code",
   "execution_count": 6,
   "outputs": [
    {
     "name": "stdout",
     "output_type": "stream",
     "text": [
      "17804\n",
      "6751\n"
     ]
    }
   ],
   "source": [
    "alphabet = {}\n",
    "count = {}\n",
    "i = 0\n",
    "for e in emails:\n",
    "    for word in e.word_dict:\n",
    "        if word not in alphabet:\n",
    "            alphabet[word] = i\n",
    "            count[word] = 1\n",
    "            i += 1\n",
    "        else:\n",
    "            count[word] += 1\n",
    "M1 = len(alphabet)\n",
    "N1 = len(emails)\n",
    "print(M1)\n",
    "print(N1)"
   ],
   "metadata": {
    "collapsed": false
   }
  },
  {
   "cell_type": "code",
   "execution_count": 7,
   "outputs": [],
   "source": [
    "for e in emails:\n",
    "    indices = list(map(lambda x: alphabet[x], e.word_dict.keys()))\n",
    "    e.index_vector = np.sort(np.array(indices))"
   ],
   "metadata": {
    "collapsed": false
   }
  },
  {
   "cell_type": "markdown",
   "source": [
    "Tworzenie macierzy, w której każda kolumna reprezentuje jakieś słowo jako wektor. Oczywiście jest to macierz rzadka.\n",
    "Argument words jest to alfabet słów, które występują w mailach w liście mails. M to rozmiar alfabetu a N to ilość maili.\n",
    "Argument normalize umożliwia stworzenie macierzy w której wektory są znormalizowane (dzięki temu można szybko obliczyć wartości metryki cosinusowej)"
   ],
   "metadata": {
    "collapsed": false
   }
  },
  {
   "cell_type": "code",
   "execution_count": 32,
   "outputs": [],
   "source": [
    "def create_sparse_matrix(mails: list[EMAIL], words: dict[str, int], M: int, N: int, normalize=False):\n",
    "    nonzero_entries = sum(len(e.index_vector) for e in mails)\n",
    "    data = np.zeros(nonzero_entries)\n",
    "    row = np.copy(data)\n",
    "    col = np.copy(data)\n",
    "    ind = 0\n",
    "    for i, e in enumerate(mails):\n",
    "        start = ind\n",
    "        for w in e.word_dict:\n",
    "            data[ind] = e.word_dict[w]\n",
    "            row[ind] = words[w]\n",
    "            col[ind] = i\n",
    "            ind += 1\n",
    "        length = np.linalg.norm(data[start:ind])\n",
    "        e.vector_norm = length\n",
    "        if normalize:\n",
    "            data[start:ind] /= length\n",
    "\n",
    "    return sparse.csr_matrix((data, (row, col)), shape=(M, N), dtype=float)"
   ],
   "metadata": {
    "collapsed": false
   }
  },
  {
   "cell_type": "code",
   "execution_count": 9,
   "outputs": [],
   "source": [
    "bag_of_words = create_sparse_matrix(emails, alphabet, M1, N1)\n",
    "bag_of_words_n = create_sparse_matrix(emails, alphabet, M1, N1, normalize=True)"
   ],
   "metadata": {
    "collapsed": false
   }
  },
  {
   "cell_type": "markdown",
   "source": [
    "## Implementacja metryk"
   ],
   "metadata": {
    "collapsed": false
   }
  },
  {
   "cell_type": "markdown",
   "source": [
    "Przyjmuje, że czym jakieś dwa dokumenty są bliżej, to znaczy ,że wartość metryki jest bliżej zera. Dlatego od wartość cosinusa odejmuje od zera"
   ],
   "metadata": {
    "collapsed": false
   }
  },
  {
   "cell_type": "markdown",
   "source": [
    "### Metryka cosinusowa\n",
    "Od razu obliczam macierz która zawiera wartość metryki dla każdej pary tekstów. Wyjściowo macierz ma wymiary N x N, gdzie N to liczba tekstów. Obliczanie wartości metryk za każdym razem dla jakiś dwóch teksów zajmowało, bardzo długo, lecz wykorzystując mnożenie macierzy rzadkich, można wartości tych metryk obliczyć bardzo szybko.\n",
    "Podana macierz musi być już znormalizowana."
   ],
   "metadata": {
    "collapsed": false
   }
  },
  {
   "cell_type": "code",
   "execution_count": 65,
   "outputs": [],
   "source": [
    "def cosine(matrix):\n",
    "    return 1 - np.array((matrix.T @ matrix).todense())"
   ],
   "metadata": {
    "collapsed": false
   }
  },
  {
   "cell_type": "markdown",
   "source": [
    "### Metryka euklidesowa\n",
    "Postępuje analogicznie jak w przypadku metryki cosinusowej i obliczam wartości metryki korzystając z działań na macierzach."
   ],
   "metadata": {
    "collapsed": false
   }
  },
  {
   "cell_type": "code",
   "execution_count": 11,
   "outputs": [],
   "source": [
    "def euclidian(matrix, e_mails, N):\n",
    "    X = np.array([e.vector_norm**2 for e in e_mails]).reshape((N, 1)) @ np.ones(N).reshape((1, N))\n",
    "    return np.sqrt(np.abs(X + X.T - 2*np.array((matrix.T @ matrix).todense())))"
   ],
   "metadata": {
    "collapsed": false
   }
  },
  {
   "cell_type": "markdown",
   "source": [
    "Dla pozostałych metryk nie da się specjalnie przyśpieszyć obliczania ich wartości. Klasteryzacje z użyciem tych metryk będę przeprowadzał na dużo mniejszym zbiorze tekstów"
   ],
   "metadata": {
    "collapsed": false
   }
  },
  {
   "cell_type": "markdown",
   "source": [
    "### Najdłuższy wspólny podciąg"
   ],
   "metadata": {
    "collapsed": false
   }
  },
  {
   "cell_type": "code",
   "execution_count": 66,
   "outputs": [],
   "source": [
    "def lcs(text1: EMAIL, text2: EMAIL) -> float:\n",
    "    seq_a = text1.index_vector\n",
    "    seq_b = text2.index_vector\n",
    "    m = len(seq_a)\n",
    "    n = len(seq_b)\n",
    "    dp = [[0 for _ in range(n + 1)] for _ in range(m + 1)]\n",
    "    for i in range(1, m + 1):\n",
    "        for j in range(1, n + 1):\n",
    "            if seq_a[i-1] == seq_b[j-1]:\n",
    "                dp[i][j] = dp[i-1][j-1] + 1\n",
    "            else:\n",
    "                dp[i][j] = max(dp[i-1][j], dp[i][j-1])\n",
    "    return 1 - (dp[-1][-1] / max(m, n))"
   ],
   "metadata": {
    "collapsed": false
   }
  },
  {
   "cell_type": "markdown",
   "source": [
    "### Odległość edycyjna"
   ],
   "metadata": {
    "collapsed": false
   }
  },
  {
   "cell_type": "code",
   "execution_count": 68,
   "outputs": [],
   "source": [
    "def levenshtein(text1: EMAIL, text2: EMAIL) -> float:\n",
    "    seq_a = text1.index_vector\n",
    "    seq_b = text2.index_vector\n",
    "    m = len(seq_a)\n",
    "    n = len(seq_b)\n",
    "    dp = [[float(\"inf\") for _ in range(n + 1)] for _ in range(m + 1)]\n",
    "\n",
    "    for i in range(m + 1):\n",
    "        dp[i][0] = i\n",
    "    for i in range(n + 1):\n",
    "        dp[0][i] = i\n",
    "\n",
    "    for i in range(1, m + 1):\n",
    "        for j in range(1, n + 1):\n",
    "            if seq_a[i-1] == seq_b[j - 1]:\n",
    "                dp[i][j] = dp[i-1][j-1]\n",
    "            else:\n",
    "                dp[i][j] = min(dp[i-1][j-1] + 1, dp[i-1][j] + 1, dp[i][j - 1] + 1)\n",
    "\n",
    "    return dp[-1][-1] / max(m, n)"
   ],
   "metadata": {
    "collapsed": false
   }
  },
  {
   "cell_type": "markdown",
   "source": [
    "### Współczynnik DICE"
   ],
   "metadata": {
    "collapsed": false
   }
  },
  {
   "cell_type": "code",
   "execution_count": 69,
   "outputs": [],
   "source": [
    "def dice(text1: EMAIL, text2: EMAIL) -> float:\n",
    "    seq_a = text1.index_vector\n",
    "    seq_b = text2.index_vector\n",
    "    count_union = len([x for x in seq_a if x in seq_b])\n",
    "    count_1 = len(seq_a)\n",
    "    count_2 = len(seq_b)\n",
    "    return 1 - (2*count_union / (count_1 + count_2))"
   ],
   "metadata": {
    "collapsed": false
   }
  },
  {
   "cell_type": "markdown",
   "source": [
    "## Klasteryzacja\n",
    "\n",
    "Do klasteryzacji używam algorytmu k-means. Jest on jednak trochę zmodyfikowany. W oryginalnym algorytmie na początku losowo wybierało się k przedstawicieli grup. Każdy tekst trafiał do grupy do której przedstawiciela miał najbliżej według danej metryki. Następnie kolejnych przedstawicieli się już nie losuje, tylko bierze się średnią z wartości w danym klasterze. Jednak implementacja takiego trudna byłaby trudna, gdyż wtedy pojawiałyby się nowe punkty, a reprezentacja tekstów jako wielowymiarów wektórów, byłaby wymagająca obliczeniowo i prawdopodobnie algorytm nie policzyłby się dla całego zbioru maili. Poza tym pojęcie średniej zmienia zależnie od tego jakiej użyje się metryki. Ponadto przy metryce lcs, dice i levenshtein'a niemożliwe byłoby porównanie tekstów do wektora który powstał ze średniej. Dlatego jako średnią z klustera wybieram po prostu tekst, który znajduje się tym zbiorze i minimalizuje wariancje w obrębie tego klustera. Do oceny klasteryzacji używam indeksu Davies-Bouldine'a"
   ],
   "metadata": {
    "collapsed": false
   }
  },
  {
   "cell_type": "code",
   "execution_count": 72,
   "outputs": [
    {
     "name": "stdout",
     "output_type": "stream",
     "text": [
      "(6751, 6751)\n",
      "(6751, 6751)\n",
      "CPU times: total: 4.8 s\n",
      "Wall time: 5.78 s\n"
     ]
    }
   ],
   "source": [
    "%%time\n",
    "cosine_metric = cosine(bag_of_words_n)\n",
    "euclidian_metric = euclidian(bag_of_words, emails, N1)\n",
    "print(cosine_metric.shape)\n",
    "print(euclidian_metric.shape)"
   ],
   "metadata": {
    "collapsed": false
   }
  },
  {
   "cell_type": "code",
   "execution_count": 16,
   "outputs": [
    {
     "name": "stdout",
     "output_type": "stream",
     "text": [
      "CPU times: total: 17.7 s\n",
      "Wall time: 20.6 s\n"
     ]
    }
   ],
   "source": [
    "%%time\n",
    "dice_metric = np.array([[dice(mail1, mail2) for mail1 in emails[:200]] for mail2 in emails[:200]])\n",
    "lcs_metric = np.array([[lcs(mail1, mail2) for mail1 in emails[:200]] for mail2 in emails[:200]])\n",
    "edit_metric = np.array([[levenshtein(mail1, mail2) for mail1 in emails[:200]] for mail2 in emails[:200]])"
   ],
   "metadata": {
    "collapsed": false
   }
  },
  {
   "cell_type": "code",
   "execution_count": 17,
   "outputs": [],
   "source": [
    "def find_centroid(cluster, metric):\n",
    "    dists = metric[np.ix_(cluster, cluster)]\n",
    "    variances = np.power(np.sum(dists, axis=1), 2)\n",
    "    return cluster[np.argmin(variances)], np.min(variances)\n",
    "\n",
    "\n",
    "def k_means_cluster(mails, metric=euclidian_metric, max_iter=100, k=10):\n",
    "    n = metric.shape[0]\n",
    "    a = np.arange(n)\n",
    "    np.random.shuffle(a)\n",
    "    cluster_means = a[:k]\n",
    "    best_clustering = cluster_means\n",
    "    best_variance = float(\"inf\")\n",
    "\n",
    "    for i in range(max_iter):\n",
    "        clusters = [[cluster_means[i]] for i in range(k)]\n",
    "        for i, mail in enumerate(mails):\n",
    "            if i not in cluster_means:\n",
    "                clusters[np.argmin(metric[i, cluster_means])].append(i)\n",
    "\n",
    "        cluster_variance = 0\n",
    "        prev_clustering = cluster_means.copy()\n",
    "\n",
    "        for i in range(k):\n",
    "            centroid, min_var = find_centroid(clusters[i], metric)\n",
    "            cluster_means[i] = centroid\n",
    "            cluster_variance += min_var\n",
    "\n",
    "        if cluster_variance < best_variance:\n",
    "            best_variance = cluster_variance\n",
    "            best_clustering = cluster_means.copy()\n",
    "\n",
    "        if np.all(prev_clustering == cluster_means):\n",
    "            break\n",
    "\n",
    "    cluster_means = best_clustering\n",
    "    clusters = [[cluster_means[i]] for i in range(k)]\n",
    "    for i, mail in enumerate(mails):\n",
    "        if i not in cluster_means:\n",
    "            clusters[np.argmin(metric[i, cluster_means])].append(i)\n",
    "\n",
    "    return clusters\n"
   ],
   "metadata": {
    "collapsed": false
   }
  },
  {
   "cell_type": "code",
   "execution_count": 70,
   "outputs": [],
   "source": [
    "def davies_bouldin_index(clusters, metric):\n",
    "    k = len(clusters)\n",
    "    dispersion = []\n",
    "    centroids = []\n",
    "    for i in range(k):\n",
    "        centroid, min_var = find_centroid(clusters[i], metric)\n",
    "        dispersion.append(min_var / len(clusters[i]))\n",
    "        centroids.append(centroid)\n",
    "\n",
    "    separation = metric[np.ix_(centroids, centroids)]\n",
    "    eps = pow(10, -3)\n",
    "    separation[np.abs(separation) < eps] = 1000\n",
    "    np.fill_diagonal(separation, 1000)\n",
    "    similarity = np.array([[dispersion[i] + dispersion[j] for i in range(k)] for j in range(k)]) / separation\n",
    "\n",
    "    return np.sum(np.max(similarity, axis=1)) / k"
   ],
   "metadata": {
    "collapsed": false
   }
  },
  {
   "cell_type": "code",
   "execution_count": 86,
   "outputs": [],
   "source": [
    "from copy import deepcopy\n",
    "\n",
    "def find_best_clusters(mails, k_range, metric):\n",
    "    best = float(\"inf\")\n",
    "    best_clusters = []\n",
    "    index_val = []\n",
    "    for i in k_range:\n",
    "        clusters_ = k_means_cluster(mails, metric=metric, k=i)\n",
    "        index_val.append(davies_bouldin_index(clusters_, metric))\n",
    "        if index_val[-1] < best:\n",
    "            best = index_val[-1]\n",
    "            best_clusters = deepcopy(clusters_)\n",
    "    return best_clusters"
   ],
   "metadata": {
    "collapsed": false
   }
  },
  {
   "cell_type": "code",
   "execution_count": 79,
   "outputs": [],
   "source": [
    "def print_clusters_parameters(mails, metric_type, clusters):\n",
    "    print(f\"Użyta metryka {metric_type}\")\n",
    "    print(f\"Łącznie jest {len(clusters)} grup maili\")\n",
    "    print(f\"Największy kluster składa się z {max(len(x) for x in clusters)} maili\")\n",
    "    print(f\"Jest {len(list(filter(lambda x: len(x) == 1, clusters)))} grup jednoelementowych\")\n",
    "    print(\"Kilka przykładowych klustrów\")\n",
    "    print()\n",
    "\n",
    "    a = np.arange(len(clusters))\n",
    "    np.random.shuffle(a)\n",
    "    for i in a[:20]:\n",
    "        print(\"############################\")\n",
    "        for m in clusters[i]:\n",
    "            print(mails[m].email)\n",
    "        print()\n"
   ],
   "metadata": {
    "collapsed": false
   }
  },
  {
   "cell_type": "code",
   "execution_count": 47,
   "outputs": [
    {
     "name": "stdout",
     "output_type": "stream",
     "text": [
      "CPU times: total: 1min 4s\n",
      "Wall time: 1min 5s\n"
     ]
    }
   ],
   "source": [
    "%%time\n",
    "b_clusters = find_best_clusters(emails, range(200, 3000, 100), euclidian_metric)"
   ],
   "metadata": {
    "collapsed": false
   }
  },
  {
   "cell_type": "code",
   "execution_count": 49,
   "outputs": [
    {
     "name": "stdout",
     "output_type": "stream",
     "text": [
      "Użyta metryka Euklidesowa\n",
      "Łącznie jest 2700 grup maili\n",
      "Największy kluster składa się z 227 maili\n",
      "Jest 1496 grup jednoelementowych\n",
      "Kilka przykładowych klustrów\n",
      "\n",
      "############################\n",
      "M+R FORWARDING (CHINA) LTD. GUANGZHOU BRANCH BLOCK D,20/FL.,GAOSHENG BLDG.,NO.109. TIYU ROAD.,WEST,GUANGZHOU,P.R.CHINA POSTAL CODE:510620\n",
      "\n",
      "\n",
      "############################\n",
      "MASHIMPORT LLC        B5,40,  BOLSHAYA SEMENOVSKAYA STR, 107023, MOSCOW, RUSSIA\n",
      "\n",
      "MASHIMPORT LLC B5,40,  BOLSHAYA SEMENOVSKAYA STR, 107023, MOSCOW, RUSSIA\n",
      "\n",
      "MASHIMPORT LLC  B5,40,  BOLSHAYA SEMENOVSKAYA STR, 107023, MOSCOW, RUSSIA\n",
      "\n",
      "MASHIMPORT LLC      B5,40,  BOLSHAYA SEMENOVSKAYA STR, 107023, MOSCOW,RUSSIA\n",
      "\n",
      "MASHIMPORT LLC B5,40,BOLSHAYA SEMENOVSKAYA STR.,107023,MOSCOW,RUSSIA\n",
      "\n",
      "\n",
      "############################\n",
      "ZHONGSHAN GALLOP INTERNATIONAL CO.,LTD NO 2,HAIBANG ROAD XIAOLAN ZHONGSHAN GUANGDONG CHINA\n",
      "\n",
      "BEIJING KANG JIE KONG INTO CARGO AGENT CO LTD - ZHONGSHAN BRANCH UNIT702,SOUTH TOWER HOLIDAY PLAZA NO.6,XINGZHONG ROAD, ZHONGSHAN CHINA, PEOPLES REP.\n",
      "\n",
      "DACHSER SHENZHEN CO LTD ZHONGSHAN BR 6 XING ZHONG ROAD ROOM 515  NORTHBLOCK HOLIDAY PLAZA 528400 ZHONGSHAN CHINA ZHONGSHAN 44 CN\n",
      "\n",
      "ZHONGSHAN NATIVE PRODUCE IMPORT&EXPORT CO LTD  NO. 8 OF 2ND BLDG HENGXIN STREET EAST DISTRICT  ZHONGSHAN CITY GUANGDONG CHINA\n",
      "\n",
      "ZHONGSHAN YUELIANG ECONOMY&TRADEIMP.&EXP.CO., LTD. NO.20 YUELAINANROAD,SHIQI, ZHONGSHAN,GUANGDONG, CHINA\n",
      "\n",
      "\n",
      "############################\n",
      "PANALPINA WORLD TRANSPORT (PRC) LTD.,NINGBO BRANCH AS AGENT FOR AND ONBEHALF OF PANTAINER LTD ROOM 1309HUALIAN MANSION NR. 55 DONGDU ROAD315010 NINGBO\n",
      "\n",
      "\n",
      "############################\n",
      "BEIJING KANG JIE KONG INTERNATIONALCARGO AGENT CO.,LTD.SHENZHEN BRANCH 29F SHUN HING SQUARE DI WANG CENTRE 5002 SHENNAN ROAD EAST,SHENZHENCHINA, PEOPLES REP.\n",
      "\n",
      "\n",
      "############################\n",
      "TO ORDER OF ENS LTD Address: Staropetrovskiy passage, bld 7A, construction 3 125130, Moscow, Russia Tel:(499) 130-7336\n",
      "\n",
      "\n",
      "############################\n",
      "FRESH START LTD16 HABANKIM STPO BOX 3311231330\n",
      "\n",
      "\n",
      "############################\n",
      "1.Forward Expedition Limited HKG, Moscow Representation, 111033,Moscow, Zolotorozhskiy val str.32/6-2, 2floor, of.3, PIC: Alexander Slisenko Tel/Fax +7(495) 665 63 67+++\n",
      "\n",
      "1.Forward Expedition Limited HKG, Moscow Representation, 111033,Moscow, Zolotorozhskiy val str.32/6-2, 2floor, of.3, PIC: Alexander Slisenko Tel/Fax +7(495) 665 63 67 +++\n",
      "\n",
      "1.FORWARD EXPEDITION LIMITED HKG, MOSCOW REPRESENTATION, 111033,MOSCOW, ZOLOTOROZHSKIY VAL STR.32/6-2, 2FLOOR, OF.3, PIC: ALEXANDER SLISENKO TEL/FAX +7(495) 665 63 67 E-MAIL:\n",
      "\n",
      "\n",
      "############################\n",
      "\"LTC SOLUTION OY\" FINLAND, HAMINA 49420, SYVASATAMANTIE 18 ON BEHALF \"AETZ REKORD\" CO., LTD--\n",
      "\n",
      "\"LTC SOLUTION OY\" FINLAND, HAMINA 49420, PILARITIE 2 ON BEHALF \"AETZ REKORD\" CO., LTD 2, GAGARINA STR., ALEXANDROV,--\n",
      "\n",
      "\n",
      "############################\n",
      "KUEHNE + NAGEL SP. Z O.O. UL.SPEDYCYJNA 1 PL-62-023 GADKI /POZNAN POLAND      VAT NO: 9291004963 AS AGENTOF BLUE ANCHOR LINE\n",
      "\n",
      "KUEHNE + NAGEL SP.Z.O.O. UL-SPEDYCYJNA 1 62-023 GADKI/POZNAN POLAND VAT NO:9291004963 AS AGENT OF BLUE ANCHOR LINE\n",
      "\n",
      "KUEHNE + NAGEL SP. Z O.O. UL.SPEDYCYJNA 1 PL-62-023 GADKI /POZNAN POLAND      VAT NO: 9291004963 AS AGENTOF BLUE AHCHOR LINE\n",
      "\n",
      "\n",
      "############################\n",
      "PT SAMUDERA NAGA GLOBALVENDORJL BOULEVARD RAYA BLK QF/1 NO 23-24LT 2 KELAPA GADING, JAKARTA10220 INDONESIA\n",
      "\n",
      "\n",
      "############################\n",
      "TIANJIN TIANJI BICYCLE CO.,LTD QINGGUANG INDUSTRIAL QINGGUANG TOWN,BEICHEN DISTRICT,TIANJIN,CHINA TEL:02226956826\n",
      "\n",
      "\n",
      "############################\n",
      "JAS-FBG S.A. KWIATKOWSKIEGO 60 81-156 GDYNIA POLAND +48 58 621 30 68 +48 58 621 30 69\n",
      "\n",
      "JAS-FBG S.A. KWIATKOWSKIEGO 60,81-156, GDYNIA,POLAND TEL:+48 58 621 3068 FAX:48 58 621 30 69\n",
      "\n",
      "JAS FBG S.A KWIATKOWSKIEGO 60 81-156 GDYNIA TEL:48 58 621 30 68 FAX:4858 621 30 69\n",
      "\n",
      "ROHLIG SUUS LOGISTICS SA ODDZIAL GDYNIA UL. JANKA WISNIEWSKIEGO 31 GDYNIA 81-156 POLAND EMIL EKAZINSKI Telephone: 48 (58) 621-5260 Telefax:48 (58) 621-5030 Email: EKAZINSKI@S\n",
      "\n",
      "\n",
      "############################\n",
      "EXPOLCO TRANSPED SP. Z O.O. UL.INDYJSKA 13, 81-336 GDYNIA TEL/FAX: (58) 6213139 CTC:KAROL POCHYLSKI\n",
      "\n",
      "EXPOLCO TRANSPED KAROL POCHYLSKI UL. INDYJSKA 13 81-336 GOYNIA PL KAROL.POCHYLSKI@EXPOLCO.COM.PL\n",
      "\n",
      "EXPOLCO TRANSPED SP. Z O.O. UL INDYJSKA 13 81-336 GDYNIA TEL: +48 58 /621 6217, 621 3147,\n",
      "\n",
      "\n",
      "############################\n",
      "TO ORDER OF<CONTRUST>LOGISTICS LTD, 197101, S-PETERSBURG, CHAPAEVA 15 LITTERS A, TEL: + 7 (812)646-68-10 (EXT 239)\n",
      "\n",
      "TO ORDER OF<<CONTRUST LOGISTICS>>LTD,  197101, S- PETERSBURG, CHAPAEVA 15 LITTERS A,  TEL: + 7 (812)646-68-10 (EXT 239)  FAX: +7 (812) 646-68-11\n",
      "\n",
      "\n",
      "############################\n",
      "GEODIS WILSON HONG KONG LTD AS AGENT FOR CARGO CONTAINER LINE LTD  3/FTWO HARBOURFRONT  18-22 TAK FUNG STREET HUNG HOM KOWLOON HONGKONG\n",
      "\n",
      "GEODIS WILSON HONG KONG LTD AS AGENT FOR  CARGO CONTAINER LINE LTD  3/F TWO HARBOURFRONT  18-22 TAK FUNGSTREET HUNG HOM KOWLOON HONGKONG\n",
      "\n",
      "\n",
      "############################\n",
      "ZEN CONTINENTAL (TIANJIN) ENTERPRISES CO.,LTD.SHENZHEN BRANCH RM.D,12F, TIMES PLAZA, NO.1 TAIZI ROAD,SHEKOU, SHENZHEN,GUANGDONG, CHINA 0755-2681-8599 0755-2689-1817 ZIP:518067\n",
      "\n",
      "ZEN CONTINENTAL (TIANJIN) ENTERPRISES CO.,LTD.SHENZHEN BRANCH RM.D,12F, TIMES PLAZA, NO.1 TAIZI ROAD,SHEKOU,SHENZHEN,GUANGDONG, CHINA 0755-2681-8599 0755-2689-1817 ZIP:518067\n",
      "\n",
      "ZEN CONTINENTAL (TIANJIN) ENTERPRISES CO.,LTD.SHENZHEN BRANCH RM.D,12F, TIMES PLAZA, NO.1 TAIZI ROAD,SHEKOU,SHENZHEN,GUANGDONG, CHINA 0755-2681-8599 0755-2689-1817  ZIP:518067\n",
      "\n",
      "ZEN CONTINENTAL (TIANJIN) ENTERPRISES CO.,LTD.SHENZHEN BRANCH RM.D,12F, TIMES PLAZA, NO.1 TAIZI ROAD, SHEKOU,SHENZHEN,GUANGDONG, CHINA 0755-2681-8599 0755-2689-1817 ZIP:518067\n",
      "\n",
      "\n",
      "############################\n",
      "ART LOGISTICS LLC 191036, ST.PETERSBURG, RUSSIA, NEVSKY PR.134, LIT B,OFFICE 5 PHONE:+7(812) 640-35-95 FAX:+7(812)640-35-90\n",
      "\n",
      "ART LOGISTICS LLC 191036,ST.PETERSBURG,RUSSIA,NEVSKY PR.134,LIT B,OFFICE 5 PHONE:+7(812)640-35-95 FAX:+7(812)640-35-90\n",
      "\n",
      "\n",
      "############################\n",
      "UPS SCS (CHINA) LIMITED AS AGENT FOR  UPS SCS ASIA LIMITED UNIT A/C 9TH FL BLDG A INNOTEC TOWER NO.235 NANJING ROAD TIANJIN TEL:86-22-27217071 FAX:86-22-27217078\n",
      "\n",
      "\n",
      "############################\n",
      "SHANGHAI BESTU INTL FREIGHT CO LTD515 HANKOU ROADROOM 809 HUIJING BUILDING200000 SHANGHAI CHINA\n",
      "\n",
      "\n"
     ]
    }
   ],
   "source": [
    "print_clusters_parameters(emails, \"Euklidesowa\", b_clusters)"
   ],
   "metadata": {
    "collapsed": false
   }
  },
  {
   "cell_type": "code",
   "execution_count": 87,
   "outputs": [
    {
     "name": "stdout",
     "output_type": "stream",
     "text": [
      "CPU times: total: 2min 56s\n",
      "Wall time: 2min 59s\n"
     ]
    }
   ],
   "source": [
    "%%time\n",
    "b_clusters = find_best_clusters(emails, range(200, 3000, 100), cosine_metric)"
   ],
   "metadata": {
    "collapsed": false
   }
  },
  {
   "cell_type": "code",
   "execution_count": 88,
   "outputs": [
    {
     "name": "stdout",
     "output_type": "stream",
     "text": [
      "Użyta metryka Cosinusowa\n",
      "Łącznie jest 2600 grup maili\n",
      "Największy kluster składa się z 28 maili\n",
      "Jest 1017 grup jednoelementowych\n",
      "Kilka przykładowych klustrów\n",
      "\n",
      "############################\n",
      "JINHU GOLDEN SUN ENTERPRISE CO.,LTD. NO.22 JIANKANG ROAD,JINHU,JIANGSU,CHINA\n",
      "\n",
      "JIANGSU GOLDEN ISLAND INTERNATIONALCO.,LTD. NO.217,QINGSHUITING WESTROAD, JIANGNING ECONMIC DEVELOPMENT+\n",
      "\n",
      "JINHU GOLDEN SUN ENTERPRISE CO. ,LTD. NO.22 JIANKANG ROAD, JINHU ,JIANGSU, CHINA\n",
      "\n",
      "\n",
      "############################\n",
      "LLC \"LENTA\" SAVUSHKINA STREET 112 ST.PETERSBURG 197374 RUSSIAN FEDERATION\n",
      "\n",
      "\n",
      "############################\n",
      "FMG SHIPPING AND FORWARDING LTD., IMPORT@FMGSHIPPING.SPB.RU, 190020,ST. PETERSBURG RUSSIA, BUMAZHNAYA STR., 18 BUSINESS CENTER PORTAL, OF. 310 TEL.+7(812)4488283 FAX.+7(812)44\n",
      "\n",
      "\n",
      "############################\n",
      "PANALPINA CIS HELSINKI OY REPRESENTATIVE OFFICE BUSINESS-CENTRE \"NOVOSPASSKIY DVOR\", 7 BLOCK 9, DERBENEVSKAYA NABEREJNAYA 115114 MOSCOW RUSSIA PHONE +7 495 96 1 2559 FAX 2569\n",
      "\n",
      "\n",
      "############################\n",
      "OOO \"TAMAN-OREKHOVO\" LIPOVAYA ALLEY, 9, LIT.A 197183 ST.PETERSBURG RUSSIA\n",
      "\n",
      "OOO\"TAMAN-OREKHOVO\" LIPOVAYA ALLEY,9, LIT.A 197183 ST.PETERSBURG RUSSIA\n",
      "\n",
      "OOO\"TAMAN-OREKHOVO\" LIPOVAYA ALLEY,9, LIT.A 197183 ST. PETERSBURG RUSSIA\n",
      "\n",
      "OOO \"TAMAN-OREKHOVO\" LIPOVAYA ALLEY, 9, LIT.A 197183 ST. PETERSBURG  RUSSIA\n",
      "\n",
      "\n",
      "############################\n",
      "KHY THAY CORPORATION CO., LTD NO.132D, ST. RUSSIAN BLVD, SANGKAT TEUKLAAL, KHAN TOUL KOK, PHNOM PENH CAMBODIA TEL: 855 11 717442/ FAX: 85523 884 381\n",
      "\n",
      "BERRY APPAREL (CAMBODIA) CO., LTD PHUM CHUMPOU VOIN,SANGKAT CHOAM CHAOKHAN DANGKOR, PHNOM PENH, CAMBODIATEL/FAX : (855) 23 729 136 / 163\n",
      "\n",
      "CHANG SHENG (CAMBODIA) GARMENT CO.,LTD. TOUL PONG RO VILLAGE, SANGKATCHOM CHAO, KHAN DONGKOR, PHNOM PENH, CAMBODIA TEL: (855)23-351370\n",
      "\n",
      "GLADPEER GARMENTS FACTORY(CAMBODIA)LTD NATIONAL ROAD NO. 4, PHUM PREYPRING KHANGCHHOEUNG, SANGKAT CHOMCHAU, KHAN DANGKOR, PHNOM PENH (-)\n",
      "\n",
      "\n",
      "############################\n",
      "HUALIAN MACHINERY GROUP WENZHOU IMPORT&EXPORT CO.,LTD. 6,CHANYEYUANROAD,WENZHOU, CHINA,P.C.:325028. TEL:0577-88627766 FAX:057788628566\n",
      "\n",
      "\n",
      "############################\n",
      "CARGOWELL LLC 190020,SAINT-PETERSBURG LIFLYANDSKAYA  STR,6,LIT B TEL/FAX:8(812)493-53-85\n",
      "\n",
      "CARGOWELL LLC, 190020, SAINT-PETERSBURG,  LIFLYANDSKAYA STR,6, LIT B,TEL/FAX: 8(812)493-53-85\n",
      "\n",
      "CARGOWELL LLC 190020, RUSSIA, SAINT- PETERSBURG, LIFLIANDSKAY STR, 6,LIT B , POM.325 CONTACT PERSON: POLINA  TEL:(812)495-96-60\n",
      "\n",
      "Cargowell LLC 190020, Saint-Petersburg, Liflyandskaya str,6, lit B tel/fax: 8(812)493-53-85\n",
      "\n",
      "CARGOWELL LLC 190020, SAINT-PETERSBURG, LIFLYANDSKAYA STR,6, LIT B TEL/FAX: 8(812)493-53-85 NIKITA DROFICH\n",
      "\n",
      "CARGOWELL LLC 190020, SAINT-PETERSBURG,  LIFLYANDSKAYA STR,6, LIT B TEL/FAX: TEL: +78124935385\n",
      "\n",
      "CARGOWELL   LLC 190020, SAINT-PETERSBURG, LIFLYANDSKAYA STR., 6 LIT B8(812) 493-53-85  8(812) 493-53-86\n",
      "\n",
      "CARGO WELL LLC 190020,SAINT-PETERSBURG, LIFLYANDSKAYA STR.,6 LIT B 8 (812) 493-53-85 8 (812) 493-53-86 P.pashennykh@cargowell.ru\n",
      "\n",
      "LLC TD\"METALLORUKAV\" TEKSTILSHIKOV,D 8,LIT B,143900,BALASHIKHA, MOSCOWREGION,RUSSIA TEL./FAX:+7(496)303-60-16\n",
      "\n",
      "\n",
      "############################\n",
      "INTEK SOLUTIONS LIMITED 7/F. KIN ONCOMMERCIAL BUILDING, 49-51 JERVOISSTREET,SHEUNG WAN, HONGKONG TEL:00852-2152  7388\n",
      "\n",
      "HECNY SHIPPING LIMITED 6/F,HECNY CARGO BUILDING 111 WAI YIP STREET, KWUN TONG,KOWLOON TEL:00852 28546952FAX:00852 27583665\n",
      "\n",
      "\n",
      "############################\n",
      "NATURE CONCEPT FOOD98/146 MOO 5RATCHAPRUK RD, PAKKRED, NONTHABURI11120 THAILAND\n",
      "\n",
      "\n",
      "############################\n",
      "FORWARD LLC 196084, RUSSIA, ST-PETERSBURG, MOSKOVSKIY PR. 91A TEL : +7-812-4954114 E-MAIL:IMPORT@FRWD.BIZFWS4286\n",
      "\n",
      "\n",
      "############################\n",
      "DIAL-TRANS OY KOTOLAHDENTIE, 7 48310 KOTKA FAX: +358 5 227 67 81 E-MAIL: FORWARDING@DIALTRANS.FI ATTN: MIKE GRACHEV\n",
      "\n",
      "DIAL-TRANS OY KOTOLAHDENTIE, 7 48310 KOTKA FAX: +358 5 227 67 81 E-MAIL: FORWARDING@DIALTRANS.FI\n",
      "\n",
      "DIAL-TRANS OY KOTOLAHDENTIE,7 48310KOTKA FAX:+358 5 227 67 81 E-MAIL:FORWARDING@DIALTRANS.FI ATTN:MIKE GRACHEV\n",
      "\n",
      "\n",
      "############################\n",
      "OY VAER LOG LTD Y-TUNNUS: 2066533-3ADRESS: MERITUULENTIE 424 , 48310KOTKA, FINLAND TEL: +358 5 21 21 33FAX:\n",
      "\n",
      "\n",
      "############################\n",
      "OOO \"KONTEX\" 199004. RUSSIA, SAINTPETERSBURG, 4 - LINIYA VASILEVSKOGOOSTROVA, D 17. TEL. 8 812 323- 95-95\n",
      "\n",
      "\n",
      "############################\n",
      "LUXDESIGN S.C. UL.ZEGRZYNSKA 15A 05-110 JABLONNA/WARSZAWA POLAND IZABELA +48501357977\n",
      "\n",
      "\n",
      "############################\n",
      "ADE LINE SA UL.POLNA 14, 55-110 PRUSICE,POLAND\n",
      "\n",
      "\n",
      "############################\n",
      "HANGZHOU JLS FLAME RETARDANTS CHEMICAL CO.,LTD MOGANSHAN ROAD 1418# SHANGCHENG INDUSTRIAL PARK SHANGYUANROAD 310011\n",
      "\n",
      "\n",
      "############################\n",
      "GLOBAL GOODWILL LOGISTICS CORP.  CELL03.7FLOOR,BLOCKS,SENLING  REAL ESTATE 200080  NO.469 WU SONG RD.  SHANGHAI CHINA\n",
      "\n",
      "GLOBAL GOODWILL LOGISTICS  CORP.CELL03.7FLOOR,BLOCKS,  SENLING REAL ESTATE  NO.469 WU SONG  RD.SHANGHAI CHINA 200080\n",
      "\n",
      "\n",
      "############################\n",
      "COMPANY \"VNESHTRANSPORT\" IN SAINT-PETERSBURG MR DMITRIY STEPANOV MOB:+7 921 902 41 64 FAX: +7 812 326 0675\n",
      "\n",
      "\n",
      "############################\n",
      "DAMCO POLAND 60 KWIATKOWSKIEGO 81-127 GDYNIA GDYNIA POLAND\n",
      "\n",
      "ALFA FORWARDING LTD. UL.Kwiatkowskiego 60/178/179 81-127 GDYNIA, POLAND TEL:( 058 ) 621 1386\n",
      "\n",
      "DAMCO POLAND KWIATKOWSKIEGO 60 81-127 GDYNIA POLAND\n",
      "\n",
      "MORSKA AGENCJA GDYNIA UL. KWIATKOWSKIEGO 60 81-127 GDYNIA PHONE: 48 58681-3522\n",
      "\n",
      "NTA INTERNATIONAL FORWARDERS LTD UL, MORSKA 59,81-323 GDYNIA POLAND\n",
      "\n",
      "\n"
     ]
    }
   ],
   "source": [
    "print_clusters_parameters(emails, \"Cosinusowa\", b_clusters)"
   ],
   "metadata": {
    "collapsed": false
   }
  },
  {
   "cell_type": "code",
   "execution_count": 55,
   "outputs": [
    {
     "name": "stdout",
     "output_type": "stream",
     "text": [
      "CPU times: total: 250 ms\n",
      "Wall time: 255 ms\n"
     ]
    }
   ],
   "source": [
    "%%time\n",
    "b_clusters = find_best_clusters(emails[:200], range(20, 100, 5), dice_metric)"
   ],
   "metadata": {
    "collapsed": false
   }
  },
  {
   "cell_type": "code",
   "execution_count": 56,
   "outputs": [
    {
     "name": "stdout",
     "output_type": "stream",
     "text": [
      "Użyta metryka Dice\n",
      "Łącznie jest 75 grup maili\n",
      "Największy kluster składa się z 8 maili\n",
      "Jest 26 grup jednoelementowych\n",
      "Kilka przykładowych klustrów\n",
      "\n",
      "############################\n",
      "\"AVANPORT\"  LLC INN: 7839413675 KPP: 783901001 190020, SAINT PETERSBURG, QUAY OF THE OBVODNY CHANNEL, 134-136-138, BUILD. 101, LIT. A\"\n",
      "\n",
      "\"ALLIANCE-TRADE\" LLC INN: 7816391055 / KPP: 784601001 190020, Saint Petersburg, quay of the Obvodny channel, 138, bulk 1, liter.B\n",
      "\n",
      "\"AVANPORT\"  LLC INN: 7839413675 KPP: 783901001 190020, SAINT PETERSBURG, QUAY OF  THE OBVODNY CHANNEL,134-136-138,  BUILD. 101, LIT. A\"\n",
      "\n",
      "\n",
      "############################\n",
      "\"ELECTROGROUP\" (OOO),190068.RUSSIA,SAINT-PETERSBURG,UL.BOLSHAYA PODYACHESKAYA,5,LIT.A,POM.4-N\n",
      "\n",
      "\"ELECTROGROUP\" (OOO),190068.RUSSIA,SAINT-PETERSBURG,UL.BOLSHAYA  PODYACHESKAYA,5,LIT.A,POM.4-N\n",
      "\n",
      "\"OOO\" TECHNOLINE\" 191123,ST.-PETERSBURG,UL. FURSCHTATSKAYA 48,LITER A\"\n",
      "\n",
      "<TORGOVIY SOYUZ>LENSOVETA STR., 16, LIT. A, APP.  4-N SAINT-PETERSBURG, 196135, RUSSIA\n",
      "\n",
      "\n",
      "############################\n",
      "\"FT-LINE\"LLC RUSSIA 115230,MOSCOW,ELECTROLYTNIY PROEZD,3G/2 TEL:+79851607522\n",
      "\n",
      "<<MATTINO EXIM>>LLC  INN 7720534383  105120, MOSCOW, GJELSKIY PEREULOK, 19/2\n",
      "\n",
      "<<WILD FISH>>LLC 10 PROSPEKT POBEDI, KALININGRAD REGION, KALININGRAD,236010, RUSSIA.\n",
      "\n",
      "\n",
      "############################\n",
      "\"TOPEX SP.Z.O.O.\"SP.K. UL.POGRANICZNA 2/4, 02-285 WARSZAWA.POLAND\n",
      "\n",
      "\n",
      "############################\n",
      "\"UNITREID\" LLC SADOVAYA STR., BLD.128, LETTER A, OFFICE 7H 190121, ST.-PETERSBURG, RUSSIA TEL.: + 7 (812)458 54 38++\n",
      "\n",
      "\"SHIP-MASTER DELTA\"LLC RIGSKY PR.,19,SAINT-PETERSBURG, 190103,RUSSIA TEL:+7(812)251-81-11; +7(812)575-33-38;+7(812)251-73-03 FAX: +7 (812) 575-33-40\n",
      "\n",
      "\"SILMET\" COMPANY LIMITED 196084, RUSSIA, ST.PETERSBURG, ZAOZERNAYA STR., 4. LETTER A, 9H. TEL /FAX: 7 812334 35 74\n",
      "\n",
      "\"UNITREID\" LLC SADOVAYA STR., BLD.128, LETTER A , OFFICE 7H 190121, ST.-PETERSBURG, RUSSIA TEL.: + 7 (812) 458 54 38+++\n",
      "\n",
      "\n",
      "############################\n",
      "\"A-LIFT\",JSC 1 PROSPEKT MARSHALA ZHUKOVA,MOSCOW 123308,RUSSIA  T: +7(495)784-7961\n",
      "\n",
      "\n",
      "############################\n",
      "\"SUNTIRE\"CO.LTD TEL:+7(812)458 54 38 E-MAIL:CLIENT@S-LOGISTIC.RU\n",
      "\n",
      "\n",
      "############################\n",
      "\"ARIVIST\", 198035, RUSSIA, SAINT-PETERSBURG. GAPSALSKAYA STR.,5. OFFICE1-3; TEL.+78123277732, FAX+78123277729. VOLOKNO@YAHOO.COM\n",
      "\n",
      "\"ARIVIST\", 198035,RUSSIA,SAINT-PETERSBURG, GAPSALSKAYA STR.,5,OFFICE 1-3; TEL:+78123277732,FAX:+781 23277729.VOLOKNO@YAHOO.COM\n",
      "\n",
      "\"ARIVIST\", 198035, RUSSIA, SAINT-PETERSBURG, GAPSALSKAYA STR.,5, OFFICE1-3; TEL.+78123277732, FAX +78123277729. VOLOKNO@YAHOO.COM\n",
      "\n",
      "1.AGENCJA CELNA HAUSE UL.BIALOWIESKA 1, 54-234 WROCLAW    ATTN JACEK BOROWSKI; EMAIL:JACEK.BOROWSKI@HAUSE.COM.PL; TEL./FAX +4871352684, MOBILE 600052696\n",
      "\n",
      "\n",
      "############################\n",
      "1)CENTROTRADE DEUTSCHLAND KOELNER STR 10 B 65760 ESCHBORN - GERMANY 2)KABAT SPOLKA JAWNA UL GUMOWA 6 64-840 BUDZYN - POLAND EORI NR:PL766100691900000\n",
      "\n",
      "\n",
      "############################\n",
      "\"ARIVIST\", 198035, RUSSIA,  SAINT-PETERSBURG,  GAPSALSKAYA STR.,5,OFFICE1-3;  TEL.+78123277732, FAX  +78123277729.\n",
      "\n",
      "\"ARIVIST\", 198035,RUSSIA,SAINT-PETERSBURG, GAPSALSKAYA STR.,5,OFFICE 1-3; TEL.:+78123277732,FAX+ 78123277729.\n",
      "\n",
      "\"ARIVIST\", 198035,RUSSIA,SAINT-PETERSBURG,  GAPSALSKAYA STR.,5,OFFICE1-3; TEL.:+78123277732,FAX+ 78123277729.\n",
      "\n",
      "\"ARIVIST\", 198035,RUSSIA,SAINT-PETERSBURG,  GAPSALSKAYA STR.,5,OFFICE1-3; TEL.:+78123277732,FAX + 78123277729.\n",
      "\n",
      "\"NFC\" LTD GAPSALSKAYA STR., 5 198035 ST. PETERSBURG, RUSSIA TEL: +7 812 327 77 41  FAX: +7 812 327 77 29\n",
      "\n",
      "\"NFC\"LTD GAPSALSKAYA STR., 5 198035ST.PETERSBURG,RUSSIA TEL.+78123277741 FAX +78123277729\n",
      "\n",
      "\"NFC\" LTD GAPSALSKAYA STR., 5 198035 ST.PETERSBURG, RUSSIA TEL. +7 812327 77 41 FAX +7 812 327 77 29\n",
      "\n",
      "\n",
      "############################\n",
      "\"EVROTRANSIT\" LLC 105005, RUSSIAN FEDERATION, MOSCOW, BAUMANSKAYA STR., 33/2, BLD.1 E-MAIL:EVROTRANZIT-LOGL@INBOX.RU TEL:8-495-665-34-68\n",
      "\n",
      "\n",
      "############################\n",
      "\"OMEGA TOYS GRUP\"CO.,LTD. AVTOZAVODSKAY STR.23,STRUCTURE 8 MOSCOW,RUSSIAN FEDERATION,P.O.X:115280 TEL/FAX:+7-495-674-60-62 TITARENKO ALEXANDR E-mail serinity-toys@mail.ru INN\n",
      "\n",
      "/11692589 RD TUNA CANNERS, LTD. PORTION 1004, SIAR NORTH COAST ROAD, P.O.BOX 2113, MADANG, PAPUA NEW GUINEA\n",
      "\n",
      "\n",
      "############################\n",
      "\"LTC SOLUTION OY\" FINLAND, HAMINA 49420, PILARITIE 2 TEL. +358 (0) 522-66-130 FAX: +358 (0) 522-66-120\n",
      "\n",
      "\"LTC SOLUTION OY\" FINLAND, HAMINA 49420, SYVASATAMANTIE 18 TEL. +358 (0) 522-66-130 FAX: +358 (0) 522-66-120\n",
      "\n",
      "1.TRANSMARE LOGISTICS OY VANHA TALVITIE 19B, 00580 HELSINKI TEL.+358 97599 3520 FAX.+358 9 7599 3535  2.Railship (Contract 413059)\n",
      "\n",
      "\n",
      "############################\n",
      "\"LTC SOLUTION OY\" FINLAND, HAMINA 49420, SYVASATAMANTIE 18 ON BEHALF \"AETZ REKORD\" CO., LTD--\n",
      "\n",
      "\n",
      "############################\n",
      "1.OOO SILMAR SPB,198035, RUSSIA , ST. PETERSBURG UL. DVINSKAYA 16/2, CONTACT PERSON:ALEXEY YASHIN TEL: +7812 495 8527\n",
      "\n",
      "\"OOO\" BALTIYSKIY EKSPEDITOR\" EUGENIY KOMRAKOV (812) 676-16-03\"\n",
      "\n",
      "1.OOO SILMAR SPB,198035, RUSSIA , ST. PETERSBURG UL. DVINSKAYA 16/2, CONTACT PERSON: ALEXEY YASHIN TEL: +7812 495 8527\n",
      "\n",
      "1.OOO SILMAR SPB,198035, RUSSIA , ST. PETERSBURG UL.DVINSKAYA 16/2 TEL: +7812 495 8527\n",
      "\n",
      "1. OOO SILMAR SPB 198035, RUSSIA ,ST. PETERSBURG UL. DVINSKAYA 16/2 TEL: +7812 495 8527\n",
      "\n",
      "1.OOO SILMAR SPB 198035, RUSSIA, STPETERSBURG UL. DVINSKAYA 16/2 CONTACT PERSON: YASHIN ALEXEY PHONE: +7812 495 8527---\n",
      "\n",
      "\n",
      "############################\n",
      "1/FMG Shipping and Forwarding Ltd 190020, Saint Petersburg, Liflyandskaya str., 6, litera \"A\", building 31H, office 310 +++\n",
      "\n",
      "1/FMG SHIPPING AND FORWARDING LTD 190020, SAINT PETERSBURG, LIFLYANDSKAYA STR., 6, LITERA \"A\", BUILDING 31??, OFFICE 310\n",
      "\n",
      "\n",
      "############################\n",
      "\"FRUITIMPEX\" LLC 121170, Moscow, Russia, Kulneva st, 3 bld. 1 INN 7737514219 KPP773001001\n",
      "\n",
      "<<VNESHTECHTORG>>LLC  107076, RUSSIA, MOSCOW  KRASNOBOGATIRSKAYA STR., 44, BLD. 1\n",
      "\n",
      "\n",
      "############################\n",
      "1)AFTRANS LLC-512913 ZIP:111116,MOSCOW, ENERGETICHESKAYA STR., 6,INN 7729418215  TEL/FAX +7(495)742-53-82 SHULEVA@AFTR.RU - MS. ELIZAVETA\n",
      "\n",
      "1)AFTRANS LLC-512913 ZIP:111116,MOSCOW, ENERGETICHESKAYA STR.,  6,INN 7729418215  TEL/FAX +7(495)742-53-82 SHULEVA@AFTR.RU - MS. ELIZAVETA\n",
      "\n",
      "1) AFTRANS LLC-512913 ZIP:111116, MOSCOW, ENERGETICHESKAYA STR., 6 INN7729418215 EKATERINA KONYAHINA---\n",
      "\n",
      "1)AFTRANS LLC-512913 ZIP:111116, MOSCOW,ENERGETICHESKAYA STR.,6 INN 7729418215 TEL/FAX +7(495)742-53-82\n",
      "\n",
      "1) AFTRANS LLC-512913     ZIP:111116, Moscow, Energeticheskaya str.,6INN 7729418215     Tel/Fax +7(495)742-53-82\n",
      "\n",
      "1) AFTRANS LLC-512913  ZIP:111116,Moscow, Energeticheskaya str., 6 INN 7729418215  Tel/Fax +7(495)742-53-82  shuleva@aftr.ru - Ms. Elizaveta Shuleva, konyahina@aftr.ru - Ms.\n",
      "\n",
      "1) AF Trans LLC BC \"BARKLAY-PLAZA\"Moscow, Barklaya street  6,  building 5 floor 5th  offices B524 B528 C526  +7(495)742-53-82\n",
      "\n",
      "1)AF TRANS LLC BC\"BARKLAY-PLAZA\" MOSCOW, BARKLAYA STREET  6,BUILDING 5FLOOR 5TH  OFFICES B524 B528 C526+7 (495) 742-53-82  CH@AFTR.RU\n",
      "\n",
      "\n",
      "############################\n",
      "\"SUNTIRE\"CO.LTD M.BALKANSKAYA STREET,58,LIT.A 192289,ST.PETERSBURG,RUSSIA\n",
      "\n",
      "\"EXPRESS CO. LTD.\" RUSSIA 155101 IVANOVSKAYA REGION, LEZHNEVSKIY RAION, D. KOROVIHA, CENTRALNAYA STR. 4ARUSSIA\n",
      "\n",
      "\"EXPRESS CO. LTD.\"  RUSSIA 155101 IVANOVSKAYA REGION, LEZHNEVSKIY RAION, D. KOROVIHA, CENTRALNAYA STR. 4ARUSSIA\n",
      "\n",
      "\"SUNTIRE\" CO. LTD, M. BALKANSKAYA STREET, 58, LIT.A 192289, ST.-PETERSBURG, RUSSIA\n",
      "\n",
      "\n",
      "############################\n",
      "\"TEHIMEKS\"LLC 107497, BAIKALSKAYA STR., 1/3, BLD.1, MOSCOW, RUSSIA TEL(495)745-88-88 FAX:(495)380-01-24\n",
      "\n",
      "\"ALISA\" LTD, 1/5 Derbenevskaya str., Moscow, Russia Tel./Fax: (495) 987-13-07 postal code: 115114\n",
      "\n",
      "\"ENS\" LTD ADDRESS: STAROPETROVSKIYPASSAGE, BLD 7A,  CONSTRUCTION 3 125130, MOSCOW, RUSSIA TEL: (499) 130-7336\n",
      "\n",
      "\"GARANTTRANS SERVICE\" MOSCOW,RUSSIAUl.GILYAROVSKOGO,57.OFFICE 514 TEL:(495) 748 02 87 FAX:(495) 684 12 01\n",
      "\n",
      "\n"
     ]
    }
   ],
   "source": [
    "print_clusters_parameters(emails, \"Dice\", b_clusters)"
   ],
   "metadata": {
    "collapsed": false
   }
  },
  {
   "cell_type": "code",
   "execution_count": 58,
   "outputs": [
    {
     "name": "stdout",
     "output_type": "stream",
     "text": [
      "CPU times: total: 234 ms\n",
      "Wall time: 280 ms\n"
     ]
    }
   ],
   "source": [
    "%%time\n",
    "b_clusters = find_best_clusters(emails[:200], range(20, 100, 5), edit_metric)"
   ],
   "metadata": {
    "collapsed": false
   }
  },
  {
   "cell_type": "code",
   "execution_count": 59,
   "outputs": [
    {
     "name": "stdout",
     "output_type": "stream",
     "text": [
      "Użyta metryka Levenshtein\n",
      "Łącznie jest 85 grup maili\n",
      "Największy kluster składa się z 8 maili\n",
      "Jest 35 grup jednoelementowych\n",
      "Kilka przykładowych klustrów\n",
      "\n",
      "############################\n",
      "\"SUNTIRE\" CO. LTD. TEL.: + 7 (812)458 54 38 E-MAIL: CLIENT@S-LOGISTIC.RU\n",
      "\n",
      "/11692589 RD TUNA CANNERS, LTD. PORTION 1004, SIAR NORTH COAST ROAD, P.O.BOX 2113, MADANG, PAPUA NEW GUINEA\n",
      "\n",
      "\"SUNTIRE\"CO.LTD TEL:+7(812)458 54 38 E-MAIL:CLIENT@S-LOGISTIC.RU\n",
      "\n",
      "\n",
      "############################\n",
      "\"KM\" LTD 197183 RUSSIA,ST. PETERSBURG,SABIROVSKAYA STR.,50,OFF,115 OLEG TEREKHOV ZIP CODE:197183 PHONE:7911239-3109  FAX:7911239-3109\n",
      "\n",
      "\n",
      "############################\n",
      "\"FILLOGISTIK\" PP ZHOVKIVSKA 22 STREET 79019 LVOV,UKRAINE TEL:+380322458030 FAX:+380322458030\n",
      "\n",
      "\n",
      "############################\n",
      "1.MCT\n",
      "\n",
      "1. MCT\n",
      "\n",
      "\n",
      "############################\n",
      "\"TEHIMEKS\"LLC 107497, BAIKALSKAYA STR., 1/3, BLD.1, MOSCOW, RUSSIA TEL(495)745-88-88 FAX:(495)380-01-24\n",
      "\n",
      "\n",
      "############################\n",
      "\"SAME AS CONSIGNEE\"\n",
      "\n",
      "\n",
      "############################\n",
      "\"OOO\" TECHNOLINE\" 191123,ST.-PETERSBURG,UL. FURSCHTATSKAYA 48,LITER A\"\n",
      "\n",
      "\"VANDER\" ALEKSANDER LIS UL KRAKOWSKA 156 A 35-506 RZESZOW, POLAND\n",
      "\n",
      "\n",
      "############################\n",
      "\"FRUITIMPEX\" LLC 121170, Moscow, Russia, Kulneva st, 3 bld. 1 INN 7737514219 KPP773001001\n",
      "\n",
      "<<VNESHTECHTORG>>LLC  107076, RUSSIA, MOSCOW  KRASNOBOGATIRSKAYA STR., 44, BLD. 1\n",
      "\n",
      "000\"ZOLDEN\" 125565,RUSSIA,MOSCOW,PULKOVSKAYA STR.,H.3,BLD.2 INN7743791179 KPP774301001\n",
      "\n",
      "\n",
      "############################\n",
      "\"GARANTTRANS SERVICE\" MOSCOW,RUSSIAUl.GILYAROVSKOGO,57.OFFICE 514 TEL:(495) 748 02 87 FAX:(495) 684 12 01\n",
      "\n",
      "\n",
      "############################\n",
      "\"Rimal\" LTD \"Grazdansky prospect, 22.  St. Petersburg, 195220,  Russian Federation\"\n",
      "\n",
      "\n",
      "############################\n",
      "\"BIO plus LTD\" INN 7805166210 198303, S-Petersburg, Leninskiy Pr.,110/1, lit B, app.53-H, RUSSIA\n",
      "\n",
      "\"SERVICE-EXPRESS\" LTD 197110, RUSSIA, SAINT-PETERSBURG, GLUHAYA ZELENINA STREET,H.4, LIT B,OFFICE 19-H\n",
      "\n",
      "\n",
      "############################\n",
      "\"TRADE HOUSE \"PIROFF\"\" LTD 14, OBRAZTSOVA STR., MOSCOW, RUSSIAN FEDERATION,   127055 TEL/FAX:   +7   (495)   980  89  91\n",
      "\n",
      "\"OMEGA TOYS GRUP\"CO.,LTD. AVTOZAVODSKAY STR.23,STRUCTURE 8 MOSCOW,RUSSIAN FEDERATION,P.O.X:115280 TEL/FAX:+7-495-674-60-62 TITARENKO ALEXANDR E-mail serinity-toys@mail.ru INN\n",
      "\n",
      "\"TRADE HOUSE \"PIROFF\"\" LTD  14, OBRAZTSOVA  STR.,  MOSCOW, RUSSIAN  FEDERATION,   127055  TEL/FAX:   +7(495)   980  89  91\n",
      "\n",
      "\"TRADE HOUSE \"PIROFF\"\" LTD   14, OBRAZTSOVA  STR.,  MOSCOW, RUSSIANFEDERATION,   127055  TEL/FAX:  +7(495)   980  89  91\n",
      "\n",
      "\n",
      "############################\n",
      "\"ARIVIST\", 198035,RUSSIA,SAINT-PETERSBURG, GAPSALSKAYA STR.,5,OFFICE 1-3; TEL.:+78123277732,FAX+ 78123277729.\n",
      "\n",
      "\n",
      "############################\n",
      "\"ALTAIR\" LIMITED COMPANY 199004,SAINT-PETERSBURG, 1 LINE,H.20 LIT A,OF.8-H\n",
      "\n",
      "\n",
      "############################\n",
      "\"NFC\" LTD GAPSALSKAYA STR., 5 198035 ST. PETERSBURG, RUSSIA TEL: +7 812 327 77 41  FAX: +7 812 327 77 29\n",
      "\n",
      "\"INTERTRANS\" CO LTD. ST.PETERSBURG,198035,RUSSIA GAPSALSKAIA STREET,OFFICE 502, TEL 3242144, FAX:3242145\n",
      "\n",
      "\"NFC\" LTD GAPSALSKAYA STR., 5 198035 ST.PETERSBURG, RUSSIA TEL. +7 812327 77 41 FAX +7 812 327 77 29\n",
      "\n",
      "\"PARTNER\" LTD INN/KPP 7801080258/780101001 POM/1-N, HOUSE 1-2, 1-LINE;V. 0. , ST. PETERSBURG, 199053, RUSSIA TEL. : +7 812 600 20 22 FAX: +7 812 600 20 33\n",
      "\n",
      "\"PO\"SVET \"LTD PODREZOVA STR.,16,LIT.A,ROOM 5-H 197136 SAINT-PETERSBURG,RUSSIA. ITN 7813445827 TEL:+7-812-716-21-76\n",
      "\n",
      "\"SILMET\" COMPANY LIMITED 196084, RUSSIA, ST.PETERSBURG, ZAOZERNAYA STR., 4. LETTER A, 9H. TEL /FAX: 7 812334 35 74\n",
      "\n",
      "\n",
      "############################\n",
      "1.OOO \"LAROSS-T\",RUSSIA, SAINT-PERERSBURG,SCHERBAKOV PER. 17A,2ND FLOOR TEL:+7 812 3229123, FAX:+7 812 3229127\n",
      "\n",
      "\n",
      "############################\n",
      "\"OCEAN WORLD\" LLC 198099 RUSSIA, ST.PETERSBURG KALININ STREET, 57, LIT.A, OF.307 LEDENEVA ELENA. TEL./FAX.+7-812-336-65-88\n",
      "\n",
      "\"OCEAN WORLD\" LLC KALININ STREET, 57, LIT. A, OFFICE 307, ST. PETERSBURG, RUSSIA, 198099 LEDENEVA ELENA.TEL./FAX.+7-812-336-65-88\n",
      "\n",
      "\"OCEAN WORLD\" LLC LIT A, OF 307, 57KALININ STREET ST PETERSBURG 198099, RUSSIA MERKOVA MARIYA TEL/FAX: +7-812-336-65-88\n",
      "\n",
      "1.BRANCH OF CJSC JOHNSON CONTROLS INTERNATIONAL IN ST.- PETERSBURG, RUSSIA 196626,ST.-PETERSBURG, SHUSHARY,MOSKOVSKOE HIGHWAY,70/4, LIT.V\n",
      "\n",
      "\n",
      "############################\n",
      "1) AFTRANS LLC-512913     ZIP:111116, Moscow, Energeticheskaya str.,6INN 7729418215     Tel/Fax +7(495)742-53-82\n",
      "\n",
      "\"TORGOVAYA COMPANY MIRAZH LTD\" 2 KADASHEVSKIY LANE, 12, STR. 1 MOSCOW,115035, RUSSIA CONTACT: MR.PETER GRACHEV; TEL: + 7 950 027 03 12\n",
      "\n",
      "1) AF Trans LLC BC \"BARKLAY-PLAZA\"Moscow, Barklaya street  6,  building 5 floor 5th  offices B524 B528 C526  +7(495)742-53-82\n",
      "\n",
      "\n",
      "############################\n",
      "\"TOPEX SP. Z O.O.\" SP.K. UL.POGRANICZNA 2/4 02-285 WARSZAWA POLAND\n",
      "\n",
      "''TOPEX SP. Z O.O.'' SPOLKA KOMANDYTOWA UL. POGRANICZNA 2/4  02-285 WARSZAWA POLAND\n",
      "\n",
      "\"TOPEX SP.Z.O.O.\"SP.K. UL.POGRANICZNA 2/4,02-285 WARSZAWA POLAND\n",
      "\n",
      "\"TOPEX SP.Z O.O.\"SP.K. UL.POGRANICZNA 2/4 02-285 WARSZAWA POLAND\n",
      "\n",
      "\"TOPEX SP.ZO.O.\"SPOLKA  KOMANDYTOWAUL.POGRANICZNA 2/4 02-285  WARSZAWA POLAND\n",
      "\n",
      "\"TOPEX SP.ZO.O.\" SPOLKA KOMANDYTOWAUL.POGRANICZNA 2/4  02-285 WARSZAWA POLAND\n",
      "\n",
      "\"TOYOTA MATERIAL HANDLING POLSKASP. Z O.O.\" UL.WIEJSKA 4 05-077PRUSZKOW POLAND\n",
      "\n",
      "\n",
      "############################\n",
      "1)AQUAMARINE TRANS LLC FAX:+7(812)6771127\n",
      "\n",
      "1.LLC<<MORPORTSERVICE>>No.168 LENINSkY PR., ST-PETERSBURG, 196191, +7 (812) 3279363\n",
      "\n",
      "\n"
     ]
    }
   ],
   "source": [
    "print_clusters_parameters(emails, \"Levenshtein\", b_clusters)"
   ],
   "metadata": {
    "collapsed": false
   }
  },
  {
   "cell_type": "code",
   "execution_count": 60,
   "outputs": [
    {
     "name": "stdout",
     "output_type": "stream",
     "text": [
      "CPU times: total: 250 ms\n",
      "Wall time: 234 ms\n"
     ]
    }
   ],
   "source": [
    "%%time\n",
    "b_clusters = find_best_clusters(emails[:200], range(20, 100, 5), lcs_metric)"
   ],
   "metadata": {
    "collapsed": false
   }
  },
  {
   "cell_type": "code",
   "execution_count": 61,
   "outputs": [
    {
     "name": "stdout",
     "output_type": "stream",
     "text": [
      "Użyta metryka LCS\n",
      "Łącznie jest 85 grup maili\n",
      "Największy kluster składa się z 8 maili\n",
      "Jest 38 grup jednoelementowych\n",
      "Kilka przykładowych klustrów\n",
      "\n",
      "############################\n",
      "\"SUNTIRE\"CO.LTD M.BALKANSKAYA STREET,58,LIT.A 192289,ST.PETERSBURG,RUSSIA\n",
      "\n",
      "\"INTERLINK LTD SP ZOO UI.  POMORSKA50A 81-314 GDYNIA BIELSKA@INTERLINK.BIZ.PL SIEJKOWSKA@INTERLINK.BIZ.PL...+++\n",
      "\n",
      "\"SUNTIRE\" CO. LTD, M. BALKANSKAYA STREET, 58, LIT.A 192289, ST.-PETERSBURG, RUSSIA\n",
      "\n",
      "\n",
      "############################\n",
      "1.FMG SHIPPING AND FORWARDING LTD 190020, SAINT PETERSBURG, LIFLYANDSKAYA STR.,6,LITERA \"A\",BUILDING 31H,OFFICE 310 POST CODE:190020 TEL:+7812 448 82 83+\n",
      "\n",
      "\"FMG SHIPPING AND FORWARDING, LTD.\"190020, SAINT PETERSBURG,LIFLYANDSKAYA STR., 6,LITERA \"A\",BUILDING 31H,OFFICE 310 POST CODE:190020 TEL:+7 812 448 82 83 FAX:+7 812 448 04 9\n",
      "\n",
      "\"TVA\" DUNTES STR 23A,OFFICE 301, LV1005 R IGA, LATVIA RIGA RIX 36309 LATVIA T: +371 (6) 770-9141 F: + 371(6) 738-2375\n",
      "\n",
      "1/FMG SHIPPING AND FORWARDING LTD 190020, SAINT PETERSBURG, LIFLYANDSKAYA STR., 6, LITERA \"A\", BUILDING 31??, OFFICE 310\n",
      "\n",
      "1/FMG Shipping and Forwarding Ltd 190020, Saint Petersburg, Liflyandskaya str., 6, litera \"A\", building 31H, office 310 +++\n",
      "\n",
      "1.FMG SHIPPING AND FORWARDING LTD 190020, SAINT PETERSBURG, LIFLYANDSKAYA STR.,6,LITERA \"A\",BUILDING 31H,OFFICE 310 POST CODE:190020 TEL:+7812 448 82 83++\n",
      "\n",
      "1)FMG Shipping and Forwarding Ltd190020, Saint Petersburg, Liflyandskaya str., 6, litera A,  building 31, office 310  2)MAXCOM TRADING, RUSSIA, EFIMOVA STR., 4-A, ZIP CODE:1\n",
      "\n",
      "\n",
      "############################\n",
      "\"TOPEX SP.Z O.O.\"SP.K. UL.POGRANICZNA 2/4,02--285 WARSZAWA\n",
      "\n",
      "\"TOPEX SP.Z O.O.\"SP.K. UL,POGRANICZNA 2/4 02-285 WARSZAWA\n",
      "\n",
      "\n",
      "############################\n",
      "1)CENTROTRADE DEUTSCHLAND KOELNER STR 10 B 65760 ESCHBORN - GERMANY 2)KABAT SPOLKA JAWNA UL GUMOWA 6 64-840 BUDZYN - POLAND EORI NR:PL766100691900000\n",
      "\n",
      "\n",
      "############################\n",
      "\"KOBI-LIGHT\" SPOLKA KOMANDYTOWA UL.T.BOYA ZELENSKIEGO 25 35-105 RZESZOW,POLAND NIP:813-34-99-669\n",
      "\n",
      "\"KOBI-LIGHT\" SPOLKA KOMANDYTOWA UL.T.BOYA ZELENSKIEGO 25 35-105 RZESZOW,POLAND NIP:813-34-99-699\n",
      "\n",
      "\n",
      "############################\n",
      "\"AVENTA\"LTD. ADDRESS:129 110,MOSCOW,PROSPEKT MIRA,H.52,STR.3,POM,III Tel: 8-968-808-80-11\n",
      "\n",
      "\n",
      "############################\n",
      "\"MEAT TRADE COMPANY \"ST.PETERSBURG\"LTD 191015 SAINT-PETERSBURG, SHPALERNAYA STREET, 51 RUSSIAN FEDERATION\n",
      "\n",
      "\"MEAT TRADE COMPANY \"ST.PETERSBURG\"LTD.  191015 SAINT-PETERSBURG, SHPALERNAYA STREET, 51 RUSSIAN FEDERATION\n",
      "\n",
      "\"MEAT TRADE COMPANY \"ST.PETERSBURG\"LTD 191015 SAINT-PETERSBURG, SHPALERNAYA STREET, 51 RUSSIAN FEDERATION INN 7842339206\n",
      "\n",
      "\"Rimal\" LTD \"Grazdansky prospect, 22.  St. Petersburg, 195220,  Russian Federation\"\n",
      "\n",
      "\"STEP TRADE\" LLC KUBINSKAYA ST., 38, BUILDING A, ROOM 4-H,ST.PETERSBURG, 196247, RUSSIAN FEDERATION\n",
      "\n",
      "<<CHANGSHU FOREIGN TRADE CORPORATION>>\n",
      "\n",
      "\n",
      "############################\n",
      "\"OCEAN WORLD\" LLC 198099 RUSSIA, ST.PETERSBURG KALININ STREET, 57, LIT.A, OF.307 LEDENEVA ELENA. TEL./FAX.+7-812-336-65-88\n",
      "\n",
      "\"OCEAN WORLD\" LLC KALININ STREET, 57, LIT. A, OFFICE 307, ST. PETERSBURG, RUSSIA, 198099 LEDENEVA ELENA.TEL./FAX.+7-812-336-65-88\n",
      "\n",
      "\"OCEAN WORLD\" LLC LIT A, OF 307, 57KALININ STREET ST PETERSBURG 198099, RUSSIA MERKOVA MARIYA TEL/FAX: +7-812-336-65-88\n",
      "\n",
      "<<FAVORIT>>LLC SEDOVA STR.,BUILDING37,LIT.A,OFFICE 16N, SAINT-PETERSBURG,RUSSIAN FEDERATION,192148 TEL:+7 (812) 448-65-73 FAX:+7 (812) 448-65-73\n",
      "\n",
      "1.BRANCH OF CJSC JOHNSON CONTROLS INTERNATIONAL IN ST.- PETERSBURG, RUSSIA 196626,ST.-PETERSBURG, SHUSHARY,MOSKOVSKOE HIGHWAY,70/4, LIT.V\n",
      "\n",
      "\n",
      "############################\n",
      "\"ARIVIST\", 198035, RUSSIA,  SAINT-PETERSBURG,  GAPSALSKAYA STR.,5,OFFICE1-3;  TEL.+78123277732, FAX  +78123277729.\n",
      "\n",
      "\n",
      "############################\n",
      "1,FORWARD EXPEDITION LIMITED HKG MOSCOW REPRESENTATION, 121069,MOSCOW,NOVINSKIY BULVAR, 20 A, BLD.8 PIC:KSENIA GUSKOVA TEL/FAX+7(+++\n",
      "\n",
      "\"FORWARD EXPEDITION LIMITED HKG\" SUCCES COMM.BLDG.,6B,251, HENNESSY ROAD, HONGKONG ARRIVAL@FORWARD-HKG.COM\n",
      "\n",
      "\n",
      "############################\n",
      "000\"ZOLDEN\" 125565,RUSSIA,MOSCOW,PULKOVSKAYA STR.,H.3,BLD.2 INN7743791179 KPP774301001\n",
      "\n",
      "\"ENS\" LTD ADDRESS: STAROPETROVSKIYPASSAGE, BLD 7A,  CONSTRUCTION 3 125130, MOSCOW, RUSSIA TEL: (499) 130-7336\n",
      "\n",
      "\"FINANS AKTIV\",LTD. 111250,RUSSIA,MOSCOW, KRASNOKAZARMENNAYA STR.11+7495 665 6001\n",
      "\n",
      "\n",
      "############################\n",
      "\"PRANT\" LLC 603159 RUSSIA, NIZHNY NOVGOROD AKIMOVA-STR. 41, SUITE 63 INN 5257120394 KPP 525701001 TEL/FAX. +7 (831) 423-45-33\n",
      "\n",
      "\n",
      "############################\n",
      "1.Forward Expedition Limited HKG,Moscow Representation, 111033,Moscow,Zolotorozhskiy val str.32/6-2, 2 floor, of.3,  PIC: Alexander Slisenko  Tel/Fax +7(495) 665 63 67 e-mail\n",
      "\n",
      "\n",
      "############################\n",
      "\"VANDER\" ALEKSANDER LIS UL KRAKOWSKA 156 A 35-506 RZESZOW, POLAND\n",
      "\n",
      "\n",
      "############################\n",
      "\"TC \"UNOTRANS\" LTD 190020 ST.PETERSBURG, BUMAZHNAYA STR.9, K.1, OFF. 305 TEL/FAX: +7 812 445 28 43\n",
      "\n",
      "\"TC\"UNOTRANS\"LTD 190020 ST.PETERSBURG,BUMAZHNAYA STR.9,K.1,OFF.305 TEL/FAX:+7 812 445 28 43\n",
      "\n",
      "\"TC\"UNOTRANS\"LTD 190020 ST.PETERSBURG, BUMAZHNAYA STR.9,K.1,OFF.305 TEL/FAX:+7 812 445 28 43\n",
      "\n",
      "\"TC\"UNOTRANS\" LTD ZIP CODE:190020 ST.PETERSBURG, BUMAZHNAYA STR.9, K.1, LIT.A OFF.305 TEL:+7 812 445 28 42\n",
      "\n",
      "\n",
      "############################\n",
      "\"ELECTROGROUP\" (OOO),190068.RUSSIA,SAINT-PETERSBURG,UL.BOLSHAYA PODYACHESKAYA,5,LIT.A,POM.4-N\n",
      "\n",
      "<TORGOVIY SOYUZ>LENSOVETA STR., 16, LIT. A, APP.  4-N SAINT-PETERSBURG, 196135, RUSSIA\n",
      "\n",
      "\n",
      "############################\n",
      "\"OOO\" TECHNOLINE\" 191123,ST.-PETERSBURG,UL. FURSCHTATSKAYA 48,LITER A\"\n",
      "\n",
      "\n",
      "############################\n",
      "\"TRADE HOUSE \"PIROFF\"\" LTD 14, OBRAZTSOVA STR., MOSCOW, RUSSIAN FEDERATION,   127055 TEL/FAX:   +7   (495)   980  89  91\n",
      "\n",
      "\"TRADE HOUSE \"PIROFF\"\" LTD  14, OBRAZTSOVA  STR.,  MOSCOW, RUSSIAN  FEDERATION,   127055  TEL/FAX:   +7(495)   980  89  91\n",
      "\n",
      "\"TRADE HOUSE \"PIROFF\"\" LTD   14, OBRAZTSOVA  STR.,  MOSCOW, RUSSIANFEDERATION,   127055  TEL/FAX:  +7(495)   980  89  91\n",
      "\n",
      "\n",
      "############################\n",
      "\"LTC SOLUTION OY\" FINLAND, HAMINA 49420, SYVASATAMANTIE 18 TEL. +358 (0) 522-66-130 FAX: +358 (0) 522-66-120\n",
      "\n",
      "\"LTC SOLUTION OY\" FINLAND, HAMINA 49420, PILARITIE 2 ON BEHALF \"AETZ REKORD\" CO., LTD 2, GAGARINA STR., ALEXANDROV,--\n",
      "\n",
      "\"LTC SOLUTION OY\" FINLAND, HAMINA 49420, PILARITIE 2 TEL. +358 (0) 522-66-130 FAX: +358 (0) 522-66-120\n",
      "\n",
      "\"LTC SOLUTION OY\" FINLAND, HAMINA 49420, SYVASATAMANTIE 18 ON BEHALF \"AETZ REKORD\" CO., LTD--\n",
      "\n",
      "\n",
      "############################\n",
      "\"TC \"\"UNOTRANS\"\" LTD\" \"190020 ST.PETERSBURG,\" \"BUMAZHNAYA STR.9, K.1,OFFICE 305\" \"TEL/FAX: +7 812 445 2843\"\n",
      "\n",
      "1.TRANSMARE LOGISTICS OY VANHA TALVITIE 19B, 00580 HELSINKI TEL.+358 97599 3520 FAX.+358 9 7599 3535  2.Railship (Contract 413059)\n",
      "\n",
      "\n"
     ]
    }
   ],
   "source": [
    "print_clusters_parameters(emails, \"LCS\", b_clusters)"
   ],
   "metadata": {
    "collapsed": false
   }
  },
  {
   "cell_type": "markdown",
   "source": [
    "Czas obliczeń dla metryk dice, levehnstain i lcs był bardzo krótki, gdyż macierze były już obliczone, a samo przygotowanie macierzy 200 x 200 dla tych metryk trwało już po 5 sekund. Lepsza okazała się także metryka cosinusowa. Algorytm z użyciem tej metryki liczył się około 3 razy dłużej niż metryka euklidesowa. Przy obliczonych macierzach wykonywały na jedną iterację miej więcej tyle samo operacji, lecz warunkiem przerwania algorytmu było albo osiągięcie maksymalnej liczby iteracji lub powtórzenie się wektora tekstów będących średnimi z grup. Widać, że w metryce cosinusowej dokonywało się dużo więcej zmian podczas liczenia i liczność największej grupy jest dużo mniejsza niż po obliczeniach w metryce euklidesowej."
   ],
   "metadata": {
    "collapsed": false
   }
  },
  {
   "cell_type": "markdown",
   "source": [
    "## Preprocessing alfabetu\n",
    "\n",
    "Zostawiam tylko słowa, które wystąpiły przynajmiej dwa razy i usuwam dokumenty, które przez to nie mają żadnego słowa. ( był dokładnie jeden)"
   ],
   "metadata": {
    "collapsed": false
   }
  },
  {
   "cell_type": "code",
   "execution_count": 94,
   "outputs": [],
   "source": [
    "alphabet2 = {}\n",
    "ind = 0\n",
    "for word in alphabet:\n",
    "    if count[word] > 1:\n",
    "        alphabet2[word] = ind\n",
    "        ind += 1"
   ],
   "metadata": {
    "collapsed": false
   }
  },
  {
   "cell_type": "code",
   "execution_count": 95,
   "outputs": [],
   "source": [
    "def remove_words(mail: EMAIL):\n",
    "    new_word_dict = {}\n",
    "    for w in mail.word_dict:\n",
    "        if w in alphabet2:\n",
    "            new_word_dict[w] = mail.word_dict[w]\n",
    "    if len(new_word_dict) == 0:\n",
    "        return None\n",
    "    return EMAIL(mail.email, new_word_dict)"
   ],
   "metadata": {
    "collapsed": false
   }
  },
  {
   "cell_type": "code",
   "execution_count": 96,
   "outputs": [
    {
     "name": "stdout",
     "output_type": "stream",
     "text": [
      "7224\n",
      "6750\n"
     ]
    }
   ],
   "source": [
    "emails2 = list(filter(lambda x: x is not None, map(remove_words, emails)))\n",
    "for e in emails2:\n",
    "    indices = list(map(lambda x: alphabet2[x], e.word_dict.keys()))\n",
    "    e.index_vector = np.sort(np.array(indices))\n",
    "\n",
    "M2 = len(alphabet2)\n",
    "N2 = len(emails2)\n",
    "print(M2)\n",
    "print(N2)"
   ],
   "metadata": {
    "collapsed": false
   }
  },
  {
   "cell_type": "code",
   "execution_count": 97,
   "outputs": [],
   "source": [
    "bag_of_words2 = create_sparse_matrix(emails2, alphabet2, M2, N2)\n",
    "bag_of_words_n2 = create_sparse_matrix(emails2, alphabet2, M2, N2, normalize=True)"
   ],
   "metadata": {
    "collapsed": false
   }
  },
  {
   "cell_type": "code",
   "execution_count": 98,
   "outputs": [
    {
     "name": "stdout",
     "output_type": "stream",
     "text": [
      "(6750, 6750)\n",
      "(6750, 6750)\n"
     ]
    }
   ],
   "source": [
    "cosine_metric2 = cosine(bag_of_words_n2)\n",
    "euclidian_metric2 = euclidian(bag_of_words2, emails2, N2)\n",
    "print(cosine_metric2.shape)\n",
    "print(euclidian_metric2.shape)"
   ],
   "metadata": {
    "collapsed": false
   }
  },
  {
   "cell_type": "markdown",
   "source": [
    "Kolejne testy będę przeprowadzał już tylko dla metryki cosinusowej i euklidesowej"
   ],
   "metadata": {
    "collapsed": false
   }
  },
  {
   "cell_type": "code",
   "execution_count": 99,
   "outputs": [
    {
     "name": "stdout",
     "output_type": "stream",
     "text": [
      "CPU times: total: 1min\n",
      "Wall time: 1min 7s\n"
     ]
    }
   ],
   "source": [
    "%%time\n",
    "b_clusters = find_best_clusters(emails2, range(200, 3000, 100), euclidian_metric2)"
   ],
   "metadata": {
    "collapsed": false
   }
  },
  {
   "cell_type": "code",
   "execution_count": 102,
   "outputs": [
    {
     "name": "stdout",
     "output_type": "stream",
     "text": [
      "Użyta metryka Euklidesowa\n",
      "Łącznie jest 2800 grup maili\n",
      "Największy kluster składa się z 213 maili\n",
      "Jest 1466 grup jednoelementowych\n",
      "Kilka przykładowych klustrów\n",
      "\n",
      "############################\n",
      "SAME AS CONSIGNEE . . . . .\n",
      "\n",
      "\n",
      "############################\n",
      "LOG-WAY-SOLUTION SP. Z.O.O.- ATLASJANIKOWO, UL. GNIEZNIENSKA 67/69 62-006 KOBYLNICA POLAND PHONE: +48 (61) 663-6970   FAX: +48 (61) 663-6977\n",
      "\n",
      "LOG-WAY-SOLUTION SP. Z.O.O.- ATLASJANIKOWO, UL. GNIEZNIENSKA 67/69 62-006 KOBYLNICA POLAND PHONE: +48 (61) 663-6970  FAX: +48 (61) 663-6977\n",
      "\n",
      "\n",
      "############################\n",
      "HELLMANN WORLDWIDE LOGISTICS (SHANGHAI) LTD.,GUANGZHOU BRANCH RM 2420-22 GUANGBAI XINYI BUILDING, NO.18-28, XIHU ROAD,  GUANGZHOU 510030,P.R.CHINA TEL:86 20 28330200 FAX:86 20\n",
      "\n",
      "HELLMANN WORLDWIDE LOGISTICS (SHANGHAI) LTD.,GUANGZHOU BRANCH RM 2420-22 GUANGBAI XINYI BUILDING, NO.18-28, XIHU ROAD,  GUANGZHOU 510030,P.R.CHINA  TEL:86 20 28330200 FAX:86 2\n",
      "\n",
      "\n",
      "############################\n",
      "SPEDITION AUTO FREIGHT OY, KOTOLAHDENTIE 12, 48310 KOTKA FINLAND TRADEREG.NO.586.860/KOTKA VAT FI09647070 +++\n",
      "\n",
      "\n",
      "############################\n",
      "To order of Strauss Commodities AG\n",
      "\n",
      "\n",
      "############################\n",
      "POWER-ONE ASIA PACIFIC ELECT(SZH) CO VDR GONG MING GUANG MING DIST BLOCK 6 HONG FA HIGH TECHNOLOGY INDL SHENZHEN 44 CN\n",
      "\n",
      "\n",
      "############################\n",
      "TO ORDER OF DHL GLOBAL FORWARDING RUSSIA\n",
      "\n",
      "DHL GLOBAL FORWARDING (S) PTE LTDDHL GLOBAL FORWARDING (S) PTE LTD1 CHANGI SOUTH STREET 24TH FLOOR DHL DISTRIBUTION CENTRE\n",
      "\n",
      "TO ORDER OF DHL GLOBAL FORWARDING RUSSIA . . .\n",
      "\n",
      "TO ORDER OF DHL GLOBAL FORWARDING RUSSIA . . . .\n",
      "\n",
      "\n",
      "############################\n",
      "GLOBAL GOODWILL LOGISTICS CORP. 1808/1809 CENTRE PLAZA, NO.188 JIEFANGROAD, HEPING DISTRICT,TIANJIN,CHINA TEL:+86 022 23193979\n",
      "\n",
      "\n",
      "############################\n",
      "MCI GLOBAL LOGISTICS INC. ODDZIAL WPOLSCE UL.KRAWIECKA 3 LOCAL NR 3 50-148 WROCLAW,POLAND TEL:48 71 3411841 FAX:48 71 337 2622\n",
      "\n",
      "MCI GLOBAL LOGISTICS INC ODDZIAL WPOLSCE UL.KRAWIECKA 3 LOKAL NR 3 50-148 WROCALW,POLAND TEL:48 71 341 1841 FAX:48 71 337 2622 VAT#:897 1760 717\n",
      "\n",
      "\n",
      "############################\n",
      "BESTWAY (HONG KONG) INTERNATIONAL LIMITED SUITE 102,1ST FLOOR TSIM  SHA TSUI CENTRE, MODY ROAD, KOWLOON,HONG KONG\n",
      "\n",
      "\n",
      "############################\n",
      "WEISS ROHLIG CHINA CO.,LTD. UNIT 1712-1719,CORPORATE AVENUE 1 NO.222 HUBIN ROAD SHANGHAI 200021,CHINA TEL:+86-21-63406000 FAX:+86-21-63406858\n",
      "\n",
      "\n",
      "############################\n",
      "NINGBO ORDAM IMPORT&EXPORT CO.,LTD A2-1706,NO.201 OF LANTIAN ROAD NINGBO CHINA\n",
      "\n",
      "\n",
      "############################\n",
      "WEYERHAEUSER NR COMPANY33663 WEYERHAEUSER WAY SFEDERAL WAY WA 98001\n",
      "\n",
      "\n",
      "############################\n",
      "FORWARD EXPEDITION LIMITED HKG, MOSCOW REPRESENTATION,119002, RUSSIA,MOSCOW,KRIVOARBATSKIY PEREULOK,13,BUILDING 2, 3RD AND 4TH FLOUR. E-MAIL: ARRIVAL@FORWARD-HKG.COM TEL/FAX:\n",
      "\n",
      "\n",
      "############################\n",
      "RGPOWERLED KARCZMA MILKOWSKA 62A,27-415 KUNOW,POLAND TAX NO.: 795-107-20-86 TEL:605910115\n",
      "\n",
      "\n",
      "############################\n",
      "SHANGHAI SYNTRANS INTL LOGISTICS COLTDNAJING RD HE PING DISTRM1-309 NO2 BLDG TIANJIN-BASED INT300000 TIANJIN CHINA\n",
      "\n",
      "\n",
      "############################\n",
      "IFL INTERNATIONAL FREIGH LINES LTDADD:RM 2202,TIANXING RIVER FRONT SQUARE,NO.81,SHI YI JING ROAD TIANJIN,CHINA TEL : 022-24109781\n",
      "\n",
      "\n",
      "############################\n",
      "KOMETA MALGORZATA MICHALSKA   51-501 WROCLAW UL  SWOJCZYCKA 38 POLANDTEL:0048-71 372 9976  FAX:0048 71372 8865\n",
      "\n",
      "\n",
      "############################\n",
      "LLC SAMSUNG ELECTRONICS RUS KALUGARUSSIAN FEDERATION,249002,KALUGA REGION,BOROVSK DISTRICT,KORYAKOVO VILLAGE, PERVIY SEVERNIY DRIVE,ESTATE1. ATTN: MASLOVA EKATERINA TEL :7(4\n",
      "\n",
      "LLC SAMSUNG ELECTRONICS RUS KALUGARUSSIAN FEDERATION,249002,KALUGA REGION,BOROVSK DISTRICT,KORYAKOVO VILLAGE, PERVIY SEVERNIY DRIVE,ESTATE1. ATTN: MASLOVA EKATERINA  TEL :7(4\n",
      "\n",
      "\n",
      "############################\n",
      "HANGZHOU JIAHAO PRINTING DYEING ANDTIDYING CO., LTD XINWAN INDUSTRIALZONE,XIAOSHAN, HANGZHOU, ZHEJIANG,CHINA\n",
      "\n",
      "HANGZHOU EAST CLOTHING CO.,LTD. HENGXI,JINCHENG TOWN,LIN'AN, HANGZHOU,ZHEJIANG,CHINA\n",
      "\n",
      "HANGZHOU SANMEI MACHINERY CO.,LTD ROOM 1710 OF DONGXIN MANSION,WENSANROAD,XIHU DISTRICT.HANGZHOU,ZHEJIANG,CHINA\n",
      "\n",
      "\n"
     ]
    }
   ],
   "source": [
    "print_clusters_parameters(emails2, \"Euklidesowa\", b_clusters)"
   ],
   "metadata": {
    "collapsed": false
   }
  },
  {
   "cell_type": "code",
   "execution_count": 103,
   "outputs": [
    {
     "name": "stdout",
     "output_type": "stream",
     "text": [
      "CPU times: total: 1min 35s\n",
      "Wall time: 1min 49s\n"
     ]
    }
   ],
   "source": [
    "%%time\n",
    "b_clusters = find_best_clusters(emails2, range(200, 3000, 100), cosine_metric2)"
   ],
   "metadata": {
    "collapsed": false
   }
  },
  {
   "cell_type": "code",
   "execution_count": 106,
   "outputs": [
    {
     "name": "stdout",
     "output_type": "stream",
     "text": [
      "Użyta metryka Cosinusowa\n",
      "Łącznie jest 2800 grup maili\n",
      "Największy kluster składa się z 40 maili\n",
      "Jest 1121 grup jednoelementowych\n",
      "Kilka przykładowych klustrów\n",
      "\n",
      "############################\n",
      "LLC FNS CIS SPB GAPSALSKAYA ST.5, BUSINESS CENTER BALTIC 4TH FLOOR, OFFICE 513, ZIP 198035 RUSSIA TEL. +7(812)680192\n",
      "\n",
      "LLC FNS CIS SPB Gapsalskaya St.5 Business Center Baltic 4th floor, office 513\n",
      "\n",
      "\n",
      "############################\n",
      "TERMCOTANK Geneva RUE PEDRO MEYLAN,5 1208 GE, SWITZERLAND\n",
      "\n",
      "\n",
      "############################\n",
      "ERAS SPORTING CO., LTD. 1F.,NO.10ALLEY 1LANE 37ZHONGXIN ST., XINZHUANGCITY,TAIPEI COUNTY 242TAIWAN\n",
      "\n",
      "ERAS SPORTING CO., LTD. 1F.,NO.10,ALLEY 1,LANE 37,ZHONGXIN ST.,XINZHUANG CITY,TAIPEI COUNTY 242,TAIWAN\n",
      "\n",
      "\n",
      "############################\n",
      "PANALPINA POLSKA SP. Z O.O.UL.17 STYCZNIA 52 PL 02-146 WARSZAWA / POLAND TEL: 48 22 609 65 30 FAX: 48 22609 65 91 AS AGENT FOR AND ON BEHALF OF PANTAINER(H.K.) LTD.\n",
      "\n",
      "PANALPINA POLSKA SP.Z.O.O. AS AGENTFOR AND ON BEHALF OF PANTAINER LTDUL.17 STYCZNIA 52 WARSZAWA 02-146PHONE:+48(22)6096590\n",
      "\n",
      "\n",
      "############################\n",
      "HON HAI PRECISION INDUSTRY CO.,LTD(STOCK FILE:FO) C/O FLEXTRONICS LOGISTICS POLAND SP. Z O.O. (AS PRINCIPAL)AL. OFIAR TERRORYZMU 11 WRZESNIA 1792-410++\n",
      "\n",
      "\n",
      "############################\n",
      "IT - LOGISTICS SP. Z.O.O.UL. SW WOJCIECHA 10 A/2581-347 GDYNIA             Tel:48 58 663 70 76             Fax: 48 58 669 70 41\n",
      "\n",
      "RHENUS PORT LOGISTICS SP. Z O.O. UL.NA ZASPE 3,80-546 GDANSK/POLAND Tel: +48 58 737 70 50   Fax: +48 58 737 70 52\n",
      "\n",
      "\n",
      "############################\n",
      "A.HARTRODT SHENZHEN LOGISTICS COMPANY LIMITED RM 1804-05 GOLDEN BUSINESS CENTRE 2028 SHENNAN ROAD EAST 518007 SHENZHEN P R CHINA TEL +86 75585157758 FAX 86 75582157\n",
      "\n",
      "A. HARTRODT SHENZHEN LOGISTICSCOMPANY LIMITED RM 1804-05, GOLDEN BUSINESS CENTRE, 2028 SHENNAN ROAD EAST,518007 SHENZHEN P R CHINA TEL +867558215-7758FAX 86755821577\n",
      "\n",
      "A.HARTRODT SHENZHEN LOGISTICS COMPANY LIMITED RM 1804-05 GOLDEN BUSINESS CENTRE 2028 SHENNAN ROAD EAST 518007 SHENZHEN PR CHINA TEL:86 755 82157758\n",
      "\n",
      "SHINETIE TRADING COMPANY SHISHI SHENCHENG INDUSTRY AREA,JINSHANG TOWN,SHISHI,FUJIAN,P.R.CHINA TEL:86-595-88710681 FAX:86-595-88710683\n",
      "\n",
      "\n",
      "############################\n",
      "NINGBO CHANGER ELECTRON CO.,LTD XINPU INDUSTRY ZONE,CIXI,NINGBO CITY,ZHEJIANG PROV.CHINA\n",
      "\n",
      "NINGBO CHANGER ELECTRON CO.,LTD XINPU INDUSTRY ZONE CIXI NINGBO CITY ZHEJIANG PROVINCE CHINA\n",
      "\n",
      "\n",
      "############################\n",
      "MCT SHIPPING SERVICE,STP\n",
      "\n",
      "MCT SHIPPING SERVICE\n",
      "\n",
      "MCT SHIPPING SERVICE STP\n",
      "\n",
      "\n",
      "############################\n",
      "SHANDONG VICTOR AIR CONDITIONING CO.,LTD.HONGDU ROAD,DEZHOU ECONOMIC DEVELOPMENT ZONE,253022,DEZHOU, SHANDONG PROVINCE,P.R.CHINA\n",
      "\n",
      "JIANGMEN NEW YING NGAI METALWARE CO., LTD. E08-3-3B, JIN GU ZHOU ECONOMIC DEVELOPMENT ZONE, NO.1 KUI SHENG ROAD, XIN HUI DISTRICT, JIANGMENCITY, GUANGDONG PROVINCE, CHINA\n",
      "\n",
      "SHANDONG LINGONG CONSTRUCTION MACHINERY CO.,LTD. ECONOMIC DEVELOPMENTZONE,LINYI,276023,SHANDONG,CHINA\n",
      "\n",
      "\n",
      "############################\n",
      "TO THE ORDER OF SARANTIS POLSKA SPOLKA AKCYJNA  UL.PULAWSKA 42 C  PIASECZNO 05-500 PL\n",
      "\n",
      "TO THE ORDER OF SARANTIS POLSKA SPOLKA AKCYJNA UL.PULAWSKA 42 C PIASECZNO 05-500 PL\n",
      "\n",
      "TO THE ORDER OF SARANTIS POLSKA SPOLKA AKCYJNA UL. PULAWSKA 42 C PIASECZNO 05-500 PL\n",
      "\n",
      "TO THE ORDER OF SARANTIS POLSKA  SPOLKA  AKCYJNA UL.  PULAWSKA 42 C PIASECZNO 05-500 PL\n",
      "\n",
      "TO THE ORDER OF SARANTIS POLSKA SPOLKA AKCYJNA UL. PULAWSKA 42C PIASECZNO 05-500 PL (POLAND)\n",
      "\n",
      "\n",
      "############################\n",
      "SCHENKER CHINA LTD.42TH FL.,RAFFLESCITY,NO.268,XI ZANG ZHONG ROAD,SHANGHAI 200001 P.R.CHINA TEL 61708000FAX 61707171\n",
      "\n",
      "SCHENKER CHINA LTD.42TH FL.,RAFFLESCITY,NO.268,XI ZANG ZHONG ROAD,SHANGHAI 200001 P.R.CHINA  TEL 021-61708000 F:61707171\n",
      "\n",
      "\n",
      "############################\n",
      "MARITIME TRANSPORT&AGENCIES SP ZOO - C/O VANGUARD LOGISTICS SERVICESPHONE: + 48 22 587 12 43 FAX: + 4822 587 11 78\n",
      "\n",
      "\n",
      "############################\n",
      "SCHENKER SP.Z.O.O. 31 JANKA WISNIEWSKIEGO STREET PL-81-156 GDYNIA POLAND. ATTN: MONIKA.BROZIO PH:48586213763 FAX:48586213737\n",
      "\n",
      "\n",
      "############################\n",
      "GEFCO INTERNATIONAL LOGISTICS (CHINA) CO.,LTD.SHANGHAI BRANCH 23F HUAMIN EMPIRE PLAZA NO.728 YAN'AN RD SHANGHAI 200050 CHINA T: 0592-5368837F:0592-5788827\n",
      "\n",
      "\n",
      "############################\n",
      "\"FILLOGISTIK\" PP ZHOVKIVSKA 22 STREET 79019 LVOV,UKRAINE TEL:+380322458030 FAX:+380322458030\n",
      "\n",
      "CAPITAL LOGISTIC&TRANSPORT UKRAINE TEL: + 380 44 537-6417 FAX: + 38044 537-6418\n",
      "\n",
      "PPHU HUSAR 22-680 LUBYCA KROLEWSKAUL,SOBIESKIEGO 14B TEL:509 500 446\n",
      "\n",
      "\n",
      "############################\n",
      "MCT Shipping Service STP\n",
      "\n",
      "\n",
      "############################\n",
      "JYSK SP. Z.O.O. UL. GRUNWALDZKA 211PL 80 - 266 GDANSK POLAND AS AGENTOF BLUE ANCHOR LINE\n",
      "\n",
      "\n",
      "############################\n",
      "FORWARD EXPEDITION LIMITED HKG,MOSCOW REPRESENTATION 119002, RUSSIA, MOSCOW, KRIVOARBATSKIY PEREULOK, 13,BUILDING 2, 3RD FLOOR TEL:+7(495)604-1200 EXT.106 FAX:+7(495)604-1200\n",
      "\n",
      "FORWARD EXPEDITION LIMITED HKG, MOSCOW REPRESENTATION,119002,RUSSIA,MOSCOW, KRIVOARBATSKIY PEREULOK, 13,BUILDING 2, 3RD FLOOR TEL:+7 (495)604-1200 EXT.106 FAX:+7 (495) 604-1\n",
      "\n",
      "FORWARD EXPEDITION LIMITED HKG,MOSCOW  REPRESENTATION 119002, RUSSIA,MOSCOW, KRIVOARBATSKIY PEREULOK, 13, BUILDING 2, 3RD FLOOR TEL:+7(495)604-1200 EXT.106 FAX:+7(495)604-120\n",
      "\n",
      "FORWARD EXPEDITION LIMITED HKG,MOSCOW REPRESENTATION 119002, RUSSIA, MOSCOW, KRIVOARBATSKIY PEREULOK, 13,BUILDING 2, 3RD FLOUR TEL:+7(495)604-1200 EXT.106 FAX:+7(495)604-1200\n",
      "\n",
      "\n",
      "############################\n",
      "OOO ''AUCHAN'' 1 OSTASHKOVSKOE SH.,MITICHI, MOSKOVSKAYA OBL., 141031,RUSSIA\n",
      "\n",
      "OOO  ''AUCHAN'' 1 OSTASHKOVSKOE SH., MITICHI, MOSKOVSKAYA OBL., 141031, RUSSIA\n",
      "\n",
      "\n"
     ]
    }
   ],
   "source": [
    "print_clusters_parameters(emails2, \"Cosinusowa\", b_clusters)"
   ],
   "metadata": {
    "collapsed": false
   }
  },
  {
   "cell_type": "markdown",
   "source": [
    "## Wnioski\n",
    "\n",
    "Użyty algorytm był uproszczoną wersją k-means. Klasteryzacja byłaby mogłaby być skuteczniejsza gdyby reprezentanci grup nie musieli należeć do zbiorów. Ponadto według mnie używanie metryk lcs, dice lub edit_distance jest w zadaniu klasteryzacji nieskuteczne, między innymi dlatego, że wektory muszą być wartościami naturalnymi, a także przez to jak długo zajmuje ich policzenie. "
   ],
   "metadata": {
    "collapsed": false
   }
  },
  {
   "cell_type": "code",
   "execution_count": null,
   "outputs": [],
   "source": [],
   "metadata": {
    "collapsed": false
   }
  }
 ],
 "metadata": {
  "kernelspec": {
   "display_name": "Python 3",
   "language": "python",
   "name": "python3"
  },
  "language_info": {
   "codemirror_mode": {
    "name": "ipython",
    "version": 2
   },
   "file_extension": ".py",
   "mimetype": "text/x-python",
   "name": "python",
   "nbconvert_exporter": "python",
   "pygments_lexer": "ipython2",
   "version": "2.7.6"
  }
 },
 "nbformat": 4,
 "nbformat_minor": 0
}
